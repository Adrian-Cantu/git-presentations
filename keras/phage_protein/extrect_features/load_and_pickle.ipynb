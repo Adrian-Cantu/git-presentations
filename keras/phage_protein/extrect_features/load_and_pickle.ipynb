{
 "cells": [
  {
   "cell_type": "code",
   "execution_count": 1,
   "metadata": {},
   "outputs": [],
   "source": [
    "import os\n",
    "import sys\n",
    "sys.path.append(\"..\")\n",
    "import phage_init"
   ]
  },
  {
   "cell_type": "code",
   "execution_count": 2,
   "metadata": {},
   "outputs": [],
   "source": [
    "import numpy\n",
    "import itertools\n",
    "from Bio.Seq import Seq\n",
    "from Bio.Alphabet import IUPAC\n",
    "from Bio import SeqIO\n",
    "from Bio.SeqUtils.ProtParam import ProteinAnalysis\n",
    "from scipy import stats\n",
    "from Bio.Alphabet import IUPAC\n",
    "#from itertools import permutations\n"
   ]
  },
  {
   "cell_type": "code",
   "execution_count": 3,
   "metadata": {},
   "outputs": [],
   "source": [
    "#from numba import jit,vectorize"
   ]
  },
  {
   "cell_type": "code",
   "execution_count": 4,
   "metadata": {},
   "outputs": [],
   "source": [
    "all_fasta=(os.path.join(phage_init.fasta_dir,\"major_capsid.fasta\"),os.path.join(phage_init.fasta_dir,\"minor_capsid.fasta\"),\n",
    "           os.path.join(phage_init.fasta_dir,\"baseplate.fasta\"),os.path.join(phage_init.fasta_dir,\"major_tail.fasta\"),\n",
    "           os.path.join(phage_init.fasta_dir,\"minor_tail.fasta\"),os.path.join(phage_init.fasta_dir,\"portal.fasta\"),\n",
    "           os.path.join(phage_init.fasta_dir,\"tail_fiber.fasta\"),os.path.join(phage_init.fasta_dir,\"tail_sheath.fasta\"),\n",
    "           os.path.join(phage_init.fasta_dir,\"collar.fasta\"),os.path.join(phage_init.fasta_dir,\"htj.fasta\"))"
   ]
  },
  {
   "cell_type": "code",
   "execution_count": null,
   "metadata": {},
   "outputs": [],
   "source": [
    "\n",
    "def extract_all(fasta_list):\n",
    "    AA=[\"A\",\"C\",\"D\",\"E\",\"F\",\"G\",\"H\",\"I\",\"K\",\"L\",\"M\",\"N\",\"P\",\"Q\",\"R\",\"S\",\"T\",\"V\",\"W\",\"Y\"]\n",
    "    SC=[\"1\",\"2\",\"3\",\"4\",\"5\",\"6\",\"7\"]\n",
    "    di_pep = [''.join(i) for i in itertools.product(AA, repeat = 2)]\n",
    "    tri_pep = [''.join(i) for i in itertools.product(AA, repeat = 3)]\n",
    "    di_sc = [''.join(i) for i in itertools.product(SC, repeat = 2)]\n",
    "    tri_sc = [''.join(i) for i in itertools.product(SC, repeat = 3)]\n",
    "    prot_class=0;\n",
    "    myseq=\"AILMVNQSTGPCHKPDEFWY\"\n",
    "    trantab2=myseq.maketrans(\"AILMVNQSTGPCHKPDEFWY\",\"11111222233455566777\")\n",
    "    arr = numpy.empty((0,8800), dtype=numpy.float)\n",
    "    class_arr = numpy.empty((0), dtype=numpy.int)\n",
    "    for file in fasta_list:\n",
    "        print('####################' + file)\n",
    "        for record in SeqIO.parse(file, \"fasta\"):\n",
    "            ll=len(record.seq)\n",
    "            seqq=record.seq.__str__().upper()\n",
    "            seqqq=seqq.replace('X','A').replace('J','L').replace('*','A')\n",
    "            X = ProteinAnalysis(seqqq)\n",
    "            tt= [X.isoelectric_point(), X.instability_index(),ll,X.aromaticity(),\n",
    "                X.molar_extinction_coefficient()[0],X.molar_extinction_coefficient()[1],\n",
    "                X.gravy(),X.molecular_weight()]\n",
    "            tt_n = numpy.asarray(tt,dtype=numpy.float)\n",
    "            myseq=seqq.translate(trantab2)\n",
    "            \n",
    "            di_pep_count=[seqq.count(i)/(ll-1) for i in di_pep]\n",
    "            di_pep_count_n = numpy.asarray(di_pep_count,dtype=numpy.float)\n",
    "            \n",
    "            tri_pep_count=[seqq.count(i)/(ll-2) for i in tri_pep]\n",
    "            tri_pep_count_n = numpy.asarray(tri_pep_count,dtype=numpy.float)\n",
    "            \n",
    "            di_sc_count=[myseq.count(i)/(ll-1) for i in di_sc]\n",
    "            di_sc_count_n = numpy.asarray(di_sc_count,dtype=numpy.float)\n",
    "    \n",
    "            tri_sc_count=[myseq.count(i)/(ll-2) for i in tri_sc]\n",
    "            tri_sc_count_n = numpy.asarray(tri_sc_count,dtype=numpy.float)\n",
    "    \n",
    "            cat_n= numpy.concatenate((di_pep_count_n,tri_pep_count_n,di_sc_count_n,tri_sc_count_n,tt_n))\n",
    "            #print(cat_n.shape)\n",
    "            cat_n = cat_n.reshape((1,cat_n.shape[0]))\n",
    "\n",
    "            arr = numpy.append(arr,cat_n , axis=0)\n",
    "            class_arr = numpy.append(class_arr,prot_class)\n",
    "        prot_class+=1\n",
    "    return (arr,class_arr)\n",
    "    "
   ]
  },
  {
   "cell_type": "code",
   "execution_count": null,
   "metadata": {
    "scrolled": false
   },
   "outputs": [
    {
     "name": "stdout",
     "output_type": "stream",
     "text": [
      "####################/home/adrian/git-presentations/keras/phage_protein/fasta/major_capsid.fasta\n"
     ]
    }
   ],
   "source": [
    "(arr,class_arr)=extract_all(all_fasta)"
   ]
  },
  {
   "cell_type": "code",
   "execution_count": 9,
   "metadata": {},
   "outputs": [
    {
     "name": "stdout",
     "output_type": "stream",
     "text": [
      "(25675, 8800)\n"
     ]
    }
   ],
   "source": [
    "print(arr.shape)\n",
    "arr_z=numpy.apply_along_axis(stats.zscore,0,arr)\n",
    "\n"
   ]
  },
  {
   "cell_type": "code",
   "execution_count": 11,
   "metadata": {},
   "outputs": [],
   "source": [
    "nb_classes = 10\n",
    "one_hot_targets = numpy.eye(nb_classes)[class_arr]"
   ]
  },
  {
   "cell_type": "code",
   "execution_count": 12,
   "metadata": {},
   "outputs": [],
   "source": [
    "final = numpy.concatenate((arr_z, one_hot_targets), axis=1)"
   ]
  },
  {
   "cell_type": "code",
   "execution_count": 15,
   "metadata": {},
   "outputs": [
    {
     "name": "stdout",
     "output_type": "stream",
     "text": [
      "(8800,)\n",
      "(8800,)\n"
     ]
    }
   ],
   "source": [
    "mean_arr=numpy.apply_along_axis(numpy.mean,0,arr)\n",
    "#print(mean_arr)\n",
    "print(mean_arr.shape)\n",
    "std_arr=numpy.apply_along_axis(numpy.std,0,arr)\n",
    "print(std_arr.shape)"
   ]
  },
  {
   "cell_type": "code",
   "execution_count": 16,
   "metadata": {},
   "outputs": [],
   "source": [
    "import pickle\n",
    "##number of proteins for training\n",
    "tt=25000\n",
    "##number of features\n",
    "f_num=arr.shape[1]\n",
    "pickle.dump(final[0:tt,0:f_num], open( \"train_x.p\", \"wb\" ) )\n",
    "pickle.dump(final[tt:,0:f_num],  open( \"test_x.p\" , \"wb\" ) )\n",
    "pickle.dump(final[0:tt,f_num:], open( \"train_y.p\", \"wb\" ) )\n",
    "pickle.dump(final[tt:,f_num:],  open( \"test_y.p\" , \"wb\" ) )\n",
    "pickle.dump(mean_arr,  open( \"mean.p\" , \"wb\" ) )\n",
    "pickle.dump(std_arr,  open( \"std.p\" , \"wb\" ) )"
   ]
  }
 ],
 "metadata": {
  "kernelspec": {
   "display_name": "Environment (conda_tensor_4)",
   "language": "python",
   "name": "conda_tensor_4"
  },
  "language_info": {
   "codemirror_mode": {
    "name": "ipython",
    "version": 3
   },
   "file_extension": ".py",
   "mimetype": "text/x-python",
   "name": "python",
   "nbconvert_exporter": "python",
   "pygments_lexer": "ipython3",
   "version": "3.6.7"
  }
 },
 "nbformat": 4,
 "nbformat_minor": 2
}
