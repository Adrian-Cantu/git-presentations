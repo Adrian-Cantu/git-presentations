{
 "cells": [
  {
   "cell_type": "code",
   "execution_count": 1,
   "metadata": {},
   "outputs": [],
   "source": [
    "import os\n",
    "import sys\n",
    "sys.path.append(\"..\")\n",
    "import phage_init"
   ]
  },
  {
   "cell_type": "code",
   "execution_count": 2,
   "metadata": {},
   "outputs": [],
   "source": [
    "import numpy\n",
    "import itertools\n",
    "from Bio.Seq import Seq\n",
    "from Bio.Alphabet import IUPAC\n",
    "from Bio import SeqIO\n",
    "from Bio.SeqUtils.ProtParam import ProteinAnalysis\n",
    "from scipy import stats\n",
    "from Bio.Alphabet import IUPAC\n",
    "#from itertools import permutations\n"
   ]
  },
  {
   "cell_type": "code",
   "execution_count": null,
   "metadata": {},
   "outputs": [],
   "source": [
    "#from numba import jit,vectorize"
   ]
  },
  {
   "cell_type": "code",
   "execution_count": 3,
   "metadata": {},
   "outputs": [],
   "source": [
    "all_fasta=(os.path.join(phage_init.fasta_dir_2,\"major_capsid_all_clustered.fasta\"),os.path.join(phage_init.fasta_dir_2,\"minor_capsid_all_clustered.fasta\"),\n",
    "           os.path.join(phage_init.fasta_dir_2,\"baseplate_all_clustered.fasta\"),os.path.join(phage_init.fasta_dir_2,\"major_tail_all_clustered.fasta\"),\n",
    "           os.path.join(phage_init.fasta_dir_2,\"minor_tail_all_clustered.fasta\"),os.path.join(phage_init.fasta_dir_2,\"portal_all_clustered.fasta\"),\n",
    "           os.path.join(phage_init.fasta_dir_2,\"tail_fiber_all_clustered.fasta\"),os.path.join(phage_init.fasta_dir_2,\"shaft_all_clustered.fasta\"),\n",
    "           os.path.join(phage_init.fasta_dir_2,\"collar_all_clustered.fasta\"),os.path.join(phage_init.fasta_dir_2,\"HTJ_all_clustered.fasta\"),\n",
    "           os.path.join(phage_init.fasta_dir_2,\"others_all_clustered.fasta\"))"
   ]
  },
  {
   "cell_type": "code",
   "execution_count": 4,
   "metadata": {},
   "outputs": [],
   "source": [
    "\n",
    "def extract_all2(fasta_list):\n",
    "    AA=[\"A\",\"C\",\"D\",\"E\",\"F\",\"G\",\"H\",\"I\",\"K\",\"L\",\"M\",\"N\",\"P\",\"Q\",\"R\",\"S\",\"T\",\"V\",\"W\",\"Y\"]\n",
    "    di_pep = [''.join(i) for i in itertools.product(AA, repeat = 2)]\n",
    "    AAs=set(AA)\n",
    "    prot_class=0;\n",
    "    arr = numpy.empty((0,408), dtype=numpy.float)\n",
    "    class_arr = numpy.empty((0), dtype=numpy.int)\n",
    "    for file in fasta_list:\n",
    "        print('####################' + file)\n",
    "        for record in SeqIO.parse(file, \"fasta\"):\n",
    "            ll=len(record.seq)\n",
    "            seqq=record.seq.__str__().upper()\n",
    "            seqqq=seqq.replace('X','A').replace('J','L').replace('*','A').replace('Z','E').replace('B','D')\n",
    "            X = ProteinAnalysis(seqqq)\n",
    "#            if (bool(set(seqqq)-AAs)):\n",
    "#                print(record.description)\n",
    "#                print(seqqq)\n",
    "            tt= [X.isoelectric_point(), X.instability_index(),ll,X.aromaticity(),\n",
    "                X.molar_extinction_coefficient()[0],X.molar_extinction_coefficient()[1],\n",
    "                X.gravy(),X.molecular_weight()]\n",
    "            tt_n = numpy.asarray(tt,dtype=numpy.float)\n",
    "            \n",
    "            di_pep_count=[seqq.count(i)/(ll-1) for i in di_pep]\n",
    "            di_pep_count_n = numpy.asarray(di_pep_count,dtype=numpy.float)\n",
    "    \n",
    "            cat_n= numpy.concatenate((di_pep_count_n,tt_n))\n",
    "            #print(cat_n.shape)\n",
    "            cat_n = cat_n.reshape((1,cat_n.shape[0]))\n",
    "\n",
    "            arr = numpy.append(arr,cat_n , axis=0)\n",
    "            class_arr = numpy.append(class_arr,prot_class)\n",
    "        prot_class+=1\n",
    "    return (arr,class_arr)\n",
    "    "
   ]
  },
  {
   "cell_type": "code",
   "execution_count": 5,
   "metadata": {
    "scrolled": false
   },
   "outputs": [
    {
     "name": "stdout",
     "output_type": "stream",
     "text": [
      "####################/home/adrian/git-presentations/keras/phage_protein/download_seq/all/clustered/major_capsid_all_clustered.fasta\n",
      "####################/home/adrian/git-presentations/keras/phage_protein/download_seq/all/clustered/minor_capsid_all_clustered.fasta\n",
      "####################/home/adrian/git-presentations/keras/phage_protein/download_seq/all/clustered/baseplate_all_clustered.fasta\n",
      "####################/home/adrian/git-presentations/keras/phage_protein/download_seq/all/clustered/major_tail_all_clustered.fasta\n",
      "####################/home/adrian/git-presentations/keras/phage_protein/download_seq/all/clustered/minor_tail_all_clustered.fasta\n",
      "####################/home/adrian/git-presentations/keras/phage_protein/download_seq/all/clustered/portal_all_clustered.fasta\n",
      "####################/home/adrian/git-presentations/keras/phage_protein/download_seq/all/clustered/tail_fiber_all_clustered.fasta\n",
      "####################/home/adrian/git-presentations/keras/phage_protein/download_seq/all/clustered/shaft_all_clustered.fasta\n",
      "####################/home/adrian/git-presentations/keras/phage_protein/download_seq/all/clustered/collar_all_clustered.fasta\n",
      "####################/home/adrian/git-presentations/keras/phage_protein/download_seq/all/clustered/HTJ_all_clustered.fasta\n",
      "####################/home/adrian/git-presentations/keras/phage_protein/download_seq/all/clustered/others_all_clustered.fasta\n",
      "(220483, 408)\n"
     ]
    }
   ],
   "source": [
    "(arr,class_arr)=extract_all2(all_fasta)\n",
    "print(arr.shape)"
   ]
  },
  {
   "cell_type": "code",
   "execution_count": 6,
   "metadata": {},
   "outputs": [
    {
     "name": "stdout",
     "output_type": "stream",
     "text": [
      "(220483, 408)\n"
     ]
    }
   ],
   "source": [
    "print(arr.shape)"
   ]
  },
  {
   "cell_type": "code",
   "execution_count": 7,
   "metadata": {},
   "outputs": [],
   "source": [
    "\n",
    "arr_z=numpy.apply_along_axis(stats.zscore,0,arr)\n",
    "\n"
   ]
  },
  {
   "cell_type": "code",
   "execution_count": 8,
   "metadata": {},
   "outputs": [],
   "source": [
    "nb_classes = 11\n",
    "one_hot_targets = numpy.eye(nb_classes)[class_arr]"
   ]
  },
  {
   "cell_type": "code",
   "execution_count": 9,
   "metadata": {},
   "outputs": [],
   "source": [
    "final = numpy.concatenate((arr_z, one_hot_targets), axis=1)"
   ]
  },
  {
   "cell_type": "code",
   "execution_count": 10,
   "metadata": {},
   "outputs": [
    {
     "name": "stdout",
     "output_type": "stream",
     "text": [
      "(408,)\n",
      "(408,)\n"
     ]
    }
   ],
   "source": [
    "mean_arr=numpy.apply_along_axis(numpy.mean,0,arr)\n",
    "#print(mean_arr)\n",
    "print(mean_arr.shape)\n",
    "std_arr=numpy.apply_along_axis(numpy.std,0,arr)\n",
    "print(std_arr.shape)"
   ]
  },
  {
   "cell_type": "code",
   "execution_count": 11,
   "metadata": {},
   "outputs": [],
   "source": [
    "numpy.random.shuffle(final)"
   ]
  },
  {
   "cell_type": "code",
   "execution_count": 21,
   "metadata": {},
   "outputs": [
    {
     "name": "stdout",
     "output_type": "stream",
     "text": [
      "419\n"
     ]
    }
   ],
   "source": [
    "import pickle\n",
    "##number of proteins for training\n",
    "\n",
    "##number of features\n",
    "print(final.shape[1])\n",
    "pickle.dump(final, open( os.path.join(phage_init.data_dir,\"data2_plus_others_final.p\"), \"wb\" ) )\n",
    "#pickle.dump(final[tt:,0:f_num],  open( os.path.join(phage_init.data_dir,\"test_x_data2.p\") , \"wb\" ) )\n",
    "#pickle.dump(final[0:tt,f_num:], open( os.path.join(phage_init.data_dir,\"train_y_data2.p\"), \"wb\" ) )\n",
    "#pickle.dump(final[tt:,f_num:],  open( os.path.join(phage_init.data_dir,\"test_y_data2.p\") , \"wb\" ) )\n",
    "#pickle.dump(mean_arr,  open( os.path.join(phage_init.data_dir,\"mean_data2.p\") , \"wb\" ) )\n",
    "#pickle.dump(std_arr,  open( os.path.join(phage_init.data_dir,\"std_data2.p\") , \"wb\" ) )"
   ]
  },
  {
   "cell_type": "code",
   "execution_count": null,
   "metadata": {},
   "outputs": [],
   "source": [
    "final=pickle.load(open( os.path.join(phage_init.data_dir,\"data2_plus_others_final.p\"), \"rb\" ) )"
   ]
  },
  {
   "cell_type": "code",
   "execution_count": 22,
   "metadata": {},
   "outputs": [],
   "source": [
    "tt=200000  \n",
    "f_num=final.shape[1]-11\n",
    "train_X=final[0:tt,0:f_num]\n",
    "train_Y=final[0:tt,f_num:]\n",
    "test_X=final[tt:,0:f_num]\n",
    "test_Y=final[tt:,f_num:]\n",
    "            "
   ]
  },
  {
   "cell_type": "code",
   "execution_count": 16,
   "metadata": {},
   "outputs": [
    {
     "name": "stderr",
     "output_type": "stream",
     "text": [
      "Using TensorFlow backend.\n"
     ]
    }
   ],
   "source": [
    "#import keras and numpy\n",
    "import numpy\n",
    "from keras.models import Sequential\n",
    "from keras.layers import Dense\n",
    "from keras.layers import LSTM\n",
    "from keras.layers import Activation\n",
    "from keras.layers import Dropout\n",
    "from keras.optimizers import Adam"
   ]
  },
  {
   "cell_type": "code",
   "execution_count": 17,
   "metadata": {},
   "outputs": [
    {
     "name": "stdout",
     "output_type": "stream",
     "text": [
      "[name: \"/device:CPU:0\"\n",
      "device_type: \"CPU\"\n",
      "memory_limit: 268435456\n",
      "locality {\n",
      "}\n",
      "incarnation: 14598369932266035028\n",
      ", name: \"/device:XLA_CPU:0\"\n",
      "device_type: \"XLA_CPU\"\n",
      "memory_limit: 17179869184\n",
      "locality {\n",
      "}\n",
      "incarnation: 17984589683284357420\n",
      "physical_device_desc: \"device: XLA_CPU device\"\n",
      "]\n"
     ]
    }
   ],
   "source": [
    "#this list the devices, just making sure there is a GPU present, you might be fine with no GPU\n",
    "from tensorflow.python.client import device_lib\n",
    "print(device_lib.list_local_devices())"
   ]
  },
  {
   "cell_type": "code",
   "execution_count": 72,
   "metadata": {},
   "outputs": [
    {
     "name": "stdout",
     "output_type": "stream",
     "text": [
      "_________________________________________________________________\n",
      "Layer (type)                 Output Shape              Param #   \n",
      "=================================================================\n",
      "dense_29 (Dense)             (None, 408)               166872    \n",
      "_________________________________________________________________\n",
      "dropout_22 (Dropout)         (None, 408)               0         \n",
      "_________________________________________________________________\n",
      "dense_30 (Dense)             (None, 200)               81800     \n",
      "_________________________________________________________________\n",
      "dropout_23 (Dropout)         (None, 200)               0         \n",
      "_________________________________________________________________\n",
      "dense_31 (Dense)             (None, 200)               40200     \n",
      "_________________________________________________________________\n",
      "dropout_24 (Dropout)         (None, 200)               0         \n",
      "_________________________________________________________________\n",
      "dense_32 (Dense)             (None, 11)                2211      \n",
      "=================================================================\n",
      "Total params: 291,083\n",
      "Trainable params: 291,083\n",
      "Non-trainable params: 0\n",
      "_________________________________________________________________\n",
      "None\n"
     ]
    }
   ],
   "source": [
    "model = Sequential()\n",
    "#lr normally 0.001\n",
    "opt=Adam(lr=0.004, beta_1=0.9, beta_2=0.999, epsilon=None, decay=0.0, amsgrad=False)\n",
    "model.add(Dense(f_num, input_dim=f_num, kernel_initializer='random_uniform',activation='relu'))\n",
    "model.add(Dropout(0.2))\n",
    "model.add(Dense(200,activation='relu'))\n",
    "#model.add(Dense(200,activation='sigmoid'))\n",
    "model.add(Dropout(0.2))\n",
    "model.add(Dense(200,activation='relu'))\n",
    "#model.add(Dense(200,activation='sigmoid'))\n",
    "model.add(Dropout(0.2))\n",
    "model.add(Dense(11,activation='softmax'))\n",
    "model.compile(loss='categorical_crossentropy', optimizer=opt, metrics=['accuracy'])\n",
    "print(model.summary())\n"
   ]
  },
  {
   "cell_type": "code",
   "execution_count": 51,
   "metadata": {},
   "outputs": [
    {
     "name": "stdout",
     "output_type": "stream",
     "text": [
      "{0: 0.0008038585209003215, 1: 0.016129032258064516, 2: 0.005128205128205128, 3: 0.003367003367003367, 4: 0.0026954177897574125, 5: 0.0005973715651135006, 6: 0.003355704697986577, 7: 0.00211864406779661, 8: 0.00847457627118644, 9: 0.001692047377326565, 10: 6.595870984763538e-05}\n"
     ]
    }
   ],
   "source": [
    "from collections import Counter\n",
    "train_Y_index = train_Y.argmax(axis=1)\n",
    "train_count=Counter(train_Y_index)\n",
    "train_w_temp=[tt/train_count[i] for i in range(0,11,1)]\n",
    "train_weights = dict(zip(range(0,11,1),sample_w_i) )\n",
    "print(train_weights)"
   ]
  },
  {
   "cell_type": "code",
   "execution_count": 57,
   "metadata": {},
   "outputs": [
    {
     "name": "stdout",
     "output_type": "stream",
     "text": [
      "Epoch 1/200\n",
      "200000/200000 [==============================] - 8s 38us/step - loss: 3.5917e-05 - acc: 0.9184\n",
      "Epoch 2/200\n",
      "200000/200000 [==============================] - 7s 36us/step - loss: 3.4994e-05 - acc: 0.9209\n",
      "Epoch 3/200\n",
      "200000/200000 [==============================] - 7s 35us/step - loss: 3.6495e-05 - acc: 0.9172\n",
      "Epoch 4/200\n",
      "200000/200000 [==============================] - 7s 35us/step - loss: 3.6721e-05 - acc: 0.9163\n",
      "Epoch 5/200\n",
      "200000/200000 [==============================] - 8s 38us/step - loss: 3.5319e-05 - acc: 0.9211\n",
      "Epoch 6/200\n",
      "200000/200000 [==============================] - 7s 35us/step - loss: 3.4447e-05 - acc: 0.9235\n",
      "Epoch 7/200\n",
      "200000/200000 [==============================] - 8s 39us/step - loss: 3.5665e-05 - acc: 0.9218\n",
      "Epoch 8/200\n",
      "200000/200000 [==============================] - 7s 37us/step - loss: 3.5288e-05 - acc: 0.9245\n",
      "Epoch 9/200\n",
      "200000/200000 [==============================] - 7s 36us/step - loss: 3.4615e-05 - acc: 0.9245\n",
      "Epoch 10/200\n",
      "200000/200000 [==============================] - 8s 39us/step - loss: 3.4485e-05 - acc: 0.9221\n",
      "Epoch 11/200\n",
      "200000/200000 [==============================] - 7s 36us/step - loss: 3.5306e-05 - acc: 0.9245\n",
      "Epoch 12/200\n",
      "200000/200000 [==============================] - 7s 36us/step - loss: 3.7092e-05 - acc: 0.9204\n",
      "Epoch 13/200\n",
      "200000/200000 [==============================] - 7s 34us/step - loss: 3.5999e-05 - acc: 0.9223\n",
      "Epoch 14/200\n",
      "200000/200000 [==============================] - 7s 37us/step - loss: 3.3672e-05 - acc: 0.9248\n",
      "Epoch 15/200\n",
      "200000/200000 [==============================] - 7s 36us/step - loss: 3.4435e-05 - acc: 0.9256\n",
      "Epoch 16/200\n",
      "200000/200000 [==============================] - 7s 35us/step - loss: 3.3896e-05 - acc: 0.9250\n",
      "Epoch 17/200\n",
      "200000/200000 [==============================] - 7s 35us/step - loss: 3.4208e-05 - acc: 0.9271\n",
      "Epoch 18/200\n",
      "200000/200000 [==============================] - 8s 38us/step - loss: 3.5326e-05 - acc: 0.9256\n",
      "Epoch 19/200\n",
      "200000/200000 [==============================] - 7s 35us/step - loss: 3.4332e-05 - acc: 0.9258\n",
      "Epoch 20/200\n",
      "200000/200000 [==============================] - 7s 34us/step - loss: 3.3216e-05 - acc: 0.9288\n",
      "Epoch 21/200\n",
      "200000/200000 [==============================] - 7s 35us/step - loss: 3.3116e-05 - acc: 0.9296\n",
      "Epoch 22/200\n",
      "200000/200000 [==============================] - 7s 37us/step - loss: 3.3893e-05 - acc: 0.9274\n",
      "Epoch 23/200\n",
      "200000/200000 [==============================] - 7s 36us/step - loss: 3.3493e-05 - acc: 0.9293\n",
      "Epoch 24/200\n",
      "200000/200000 [==============================] - 7s 36us/step - loss: 3.3627e-05 - acc: 0.9282\n",
      "Epoch 25/200\n",
      "200000/200000 [==============================] - 7s 37us/step - loss: 3.6603e-05 - acc: 0.9266\n",
      "Epoch 26/200\n",
      "200000/200000 [==============================] - 7s 34us/step - loss: 3.6573e-05 - acc: 0.9256\n",
      "Epoch 27/200\n",
      "200000/200000 [==============================] - 7s 35us/step - loss: 3.5930e-05 - acc: 0.9252\n",
      "Epoch 28/200\n",
      "200000/200000 [==============================] - 7s 34us/step - loss: 3.4345e-05 - acc: 0.9270\n",
      "Epoch 29/200\n",
      "200000/200000 [==============================] - 8s 38us/step - loss: 3.4841e-05 - acc: 0.9256\n",
      "Epoch 30/200\n",
      "200000/200000 [==============================] - 7s 35us/step - loss: 3.3301e-05 - acc: 0.9275\n",
      "Epoch 31/200\n",
      "200000/200000 [==============================] - 7s 35us/step - loss: 3.2178e-05 - acc: 0.9292\n",
      "Epoch 32/200\n",
      "200000/200000 [==============================] - 7s 37us/step - loss: 3.1068e-05 - acc: 0.9324\n",
      "Epoch 33/200\n",
      "200000/200000 [==============================] - 7s 36us/step - loss: 3.1676e-05 - acc: 0.9330\n",
      "Epoch 34/200\n",
      "200000/200000 [==============================] - 7s 35us/step - loss: 3.4341e-05 - acc: 0.9308\n",
      "Epoch 35/200\n",
      "200000/200000 [==============================] - 8s 38us/step - loss: 3.2968e-05 - acc: 0.9282\n",
      "Epoch 36/200\n",
      "200000/200000 [==============================] - 7s 35us/step - loss: 3.3487e-05 - acc: 0.9293\n",
      "Epoch 37/200\n",
      "200000/200000 [==============================] - 7s 36us/step - loss: 3.3499e-05 - acc: 0.9301\n",
      "Epoch 38/200\n",
      "200000/200000 [==============================] - 7s 35us/step - loss: 3.4002e-05 - acc: 0.9279\n",
      "Epoch 39/200\n",
      "200000/200000 [==============================] - 7s 34us/step - loss: 3.0911e-05 - acc: 0.9347\n",
      "Epoch 40/200\n",
      "200000/200000 [==============================] - 7s 36us/step - loss: 3.1536e-05 - acc: 0.9334\n",
      "Epoch 41/200\n",
      "200000/200000 [==============================] - 7s 37us/step - loss: 3.3846e-05 - acc: 0.9300\n",
      "Epoch 42/200\n",
      "200000/200000 [==============================] - 8s 38us/step - loss: 3.1912e-05 - acc: 0.9291\n",
      "Epoch 43/200\n",
      "200000/200000 [==============================] - 8s 38us/step - loss: 3.4176e-05 - acc: 0.9286\n",
      "Epoch 44/200\n",
      "200000/200000 [==============================] - 8s 38us/step - loss: 3.1231e-05 - acc: 0.9346\n",
      "Epoch 45/200\n",
      "200000/200000 [==============================] - 7s 36us/step - loss: 3.1505e-05 - acc: 0.9353\n",
      "Epoch 46/200\n",
      "200000/200000 [==============================] - 7s 36us/step - loss: 3.2155e-05 - acc: 0.9328\n",
      "Epoch 47/200\n",
      "200000/200000 [==============================] - 8s 38us/step - loss: 3.1205e-05 - acc: 0.9343\n",
      "Epoch 48/200\n",
      "200000/200000 [==============================] - 7s 35us/step - loss: 3.1292e-05 - acc: 0.9326\n",
      "Epoch 49/200\n",
      "200000/200000 [==============================] - 7s 37us/step - loss: 3.2616e-05 - acc: 0.9317\n",
      "Epoch 50/200\n",
      "200000/200000 [==============================] - 7s 37us/step - loss: 3.2231e-05 - acc: 0.9323\n",
      "Epoch 51/200\n",
      "200000/200000 [==============================] - 7s 36us/step - loss: 3.3730e-05 - acc: 0.9322\n",
      "Epoch 52/200\n",
      "200000/200000 [==============================] - 8s 39us/step - loss: 3.1787e-05 - acc: 0.9346\n",
      "Epoch 53/200\n",
      "200000/200000 [==============================] - 7s 36us/step - loss: 3.4403e-05 - acc: 0.9310\n",
      "Epoch 54/200\n",
      "200000/200000 [==============================] - 8s 39us/step - loss: 3.4431e-05 - acc: 0.9295\n",
      "Epoch 55/200\n",
      "200000/200000 [==============================] - 7s 37us/step - loss: 3.0916e-05 - acc: 0.9339\n",
      "Epoch 56/200\n",
      "200000/200000 [==============================] - 8s 38us/step - loss: 3.2779e-05 - acc: 0.9333\n",
      "Epoch 57/200\n",
      "200000/200000 [==============================] - 7s 37us/step - loss: 3.1951e-05 - acc: 0.9338\n",
      "Epoch 58/200\n",
      "200000/200000 [==============================] - 7s 35us/step - loss: 3.1005e-05 - acc: 0.9346\n",
      "Epoch 59/200\n",
      "200000/200000 [==============================] - 7s 35us/step - loss: 2.8958e-05 - acc: 0.9370\n",
      "Epoch 60/200\n",
      "200000/200000 [==============================] - 7s 35us/step - loss: 3.0317e-05 - acc: 0.9365\n",
      "Epoch 61/200\n",
      "200000/200000 [==============================] - 6s 32us/step - loss: 3.0677e-05 - acc: 0.9380\n",
      "Epoch 62/200\n",
      "200000/200000 [==============================] - 7s 34us/step - loss: 3.0164e-05 - acc: 0.9368\n",
      "Epoch 63/200\n",
      "200000/200000 [==============================] - 7s 34us/step - loss: 2.9196e-05 - acc: 0.9360\n",
      "Epoch 64/200\n",
      "200000/200000 [==============================] - 7s 34us/step - loss: 2.8318e-05 - acc: 0.9386\n",
      "Epoch 65/200\n",
      "200000/200000 [==============================] - 7s 35us/step - loss: 2.7856e-05 - acc: 0.9409\n",
      "Epoch 66/200\n",
      "200000/200000 [==============================] - 7s 36us/step - loss: 2.8818e-05 - acc: 0.9393\n",
      "Epoch 67/200\n",
      "200000/200000 [==============================] - 7s 35us/step - loss: 2.7938e-05 - acc: 0.9418\n",
      "Epoch 68/200\n",
      "200000/200000 [==============================] - 7s 37us/step - loss: 2.8140e-05 - acc: 0.9404\n",
      "Epoch 69/200\n",
      "200000/200000 [==============================] - 8s 39us/step - loss: 2.6954e-05 - acc: 0.9408\n",
      "Epoch 70/200\n",
      "200000/200000 [==============================] - 7s 36us/step - loss: 2.8054e-05 - acc: 0.9422\n",
      "Epoch 71/200\n",
      "200000/200000 [==============================] - 7s 37us/step - loss: 2.8435e-05 - acc: 0.9410\n",
      "Epoch 72/200\n",
      "200000/200000 [==============================] - 7s 37us/step - loss: 2.8387e-05 - acc: 0.9400\n",
      "Epoch 73/200\n",
      "200000/200000 [==============================] - 7s 33us/step - loss: 2.9186e-05 - acc: 0.9417\n",
      "Epoch 74/200\n",
      "200000/200000 [==============================] - 7s 35us/step - loss: 3.1016e-05 - acc: 0.9375\n",
      "Epoch 75/200\n",
      "200000/200000 [==============================] - 7s 36us/step - loss: 2.9042e-05 - acc: 0.9363\n",
      "Epoch 76/200\n",
      "200000/200000 [==============================] - 7s 36us/step - loss: 2.8562e-05 - acc: 0.9391\n",
      "Epoch 77/200\n",
      "200000/200000 [==============================] - 7s 34us/step - loss: 2.8188e-05 - acc: 0.9422\n",
      "Epoch 78/200\n",
      "200000/200000 [==============================] - 7s 34us/step - loss: 2.7648e-05 - acc: 0.9404\n",
      "Epoch 79/200\n",
      "200000/200000 [==============================] - 7s 34us/step - loss: 2.7387e-05 - acc: 0.9414\n",
      "Epoch 80/200\n",
      "200000/200000 [==============================] - 7s 35us/step - loss: 2.6229e-05 - acc: 0.9426\n",
      "Epoch 81/200\n",
      "200000/200000 [==============================] - 7s 37us/step - loss: 2.9053e-05 - acc: 0.9384\n",
      "Epoch 82/200\n",
      "200000/200000 [==============================] - 7s 35us/step - loss: 2.8863e-05 - acc: 0.9412\n",
      "Epoch 83/200\n",
      "200000/200000 [==============================] - 7s 33us/step - loss: 2.7576e-05 - acc: 0.9433\n",
      "Epoch 84/200\n",
      "200000/200000 [==============================] - 6s 32us/step - loss: 3.2039e-05 - acc: 0.9356\n",
      "Epoch 85/200\n",
      "200000/200000 [==============================] - 7s 36us/step - loss: 2.9065e-05 - acc: 0.9398\n",
      "Epoch 86/200\n",
      "200000/200000 [==============================] - 7s 34us/step - loss: 2.7874e-05 - acc: 0.9400\n",
      "Epoch 87/200\n",
      "200000/200000 [==============================] - 7s 34us/step - loss: 2.8469e-05 - acc: 0.9406\n",
      "Epoch 88/200\n",
      "200000/200000 [==============================] - 7s 35us/step - loss: 2.9119e-05 - acc: 0.9390\n",
      "Epoch 89/200\n",
      "200000/200000 [==============================] - 7s 35us/step - loss: 2.8276e-05 - acc: 0.9390\n",
      "Epoch 90/200\n",
      "200000/200000 [==============================] - 7s 35us/step - loss: 2.6277e-05 - acc: 0.9436\n",
      "Epoch 91/200\n",
      "200000/200000 [==============================] - 7s 36us/step - loss: 2.6857e-05 - acc: 0.9426\n",
      "Epoch 92/200\n",
      "200000/200000 [==============================] - 7s 35us/step - loss: 2.6144e-05 - acc: 0.9456\n",
      "Epoch 93/200\n",
      "200000/200000 [==============================] - 7s 36us/step - loss: 2.6833e-05 - acc: 0.9438\n",
      "Epoch 94/200\n",
      "200000/200000 [==============================] - 8s 38us/step - loss: 2.7141e-05 - acc: 0.9432\n",
      "Epoch 95/200\n",
      "200000/200000 [==============================] - 7s 35us/step - loss: 2.7091e-05 - acc: 0.9418\n",
      "Epoch 96/200\n",
      "200000/200000 [==============================] - 8s 39us/step - loss: 3.0856e-05 - acc: 0.9399\n",
      "Epoch 97/200\n",
      "200000/200000 [==============================] - 7s 35us/step - loss: 2.8394e-05 - acc: 0.9409\n",
      "Epoch 98/200\n",
      "200000/200000 [==============================] - 7s 35us/step - loss: 2.6796e-05 - acc: 0.9451\n",
      "Epoch 99/200\n",
      "200000/200000 [==============================] - 7s 35us/step - loss: 2.8085e-05 - acc: 0.9427\n",
      "Epoch 100/200\n",
      "200000/200000 [==============================] - 7s 35us/step - loss: 2.5568e-05 - acc: 0.9462\n",
      "Epoch 101/200\n",
      "200000/200000 [==============================] - 8s 40us/step - loss: 2.9694e-05 - acc: 0.9429\n",
      "Epoch 102/200\n",
      "200000/200000 [==============================] - 7s 35us/step - loss: 2.8456e-05 - acc: 0.9416\n",
      "Epoch 103/200\n",
      "200000/200000 [==============================] - 7s 36us/step - loss: 2.6482e-05 - acc: 0.9450\n",
      "Epoch 104/200\n",
      "200000/200000 [==============================] - 7s 36us/step - loss: 2.4632e-05 - acc: 0.9462\n",
      "Epoch 105/200\n",
      "200000/200000 [==============================] - 8s 38us/step - loss: 2.4605e-05 - acc: 0.9482\n",
      "Epoch 106/200\n",
      "200000/200000 [==============================] - 7s 36us/step - loss: 2.4836e-05 - acc: 0.9433\n",
      "Epoch 107/200\n",
      "200000/200000 [==============================] - 7s 37us/step - loss: 2.7079e-05 - acc: 0.9430\n",
      "Epoch 108/200\n",
      "200000/200000 [==============================] - 7s 37us/step - loss: 2.8699e-05 - acc: 0.9424\n",
      "Epoch 109/200\n",
      "200000/200000 [==============================] - 7s 35us/step - loss: 2.7770e-05 - acc: 0.9441\n",
      "Epoch 110/200\n",
      "200000/200000 [==============================] - 7s 37us/step - loss: 2.7990e-05 - acc: 0.9423\n",
      "Epoch 111/200\n",
      "200000/200000 [==============================] - 8s 38us/step - loss: 2.7681e-05 - acc: 0.9438\n",
      "Epoch 112/200\n",
      "200000/200000 [==============================] - 7s 36us/step - loss: 2.5686e-05 - acc: 0.9459\n",
      "Epoch 113/200\n",
      "200000/200000 [==============================] - 7s 35us/step - loss: 2.7000e-05 - acc: 0.9429\n",
      "Epoch 114/200\n",
      "200000/200000 [==============================] - 7s 35us/step - loss: 2.5718e-05 - acc: 0.9455\n",
      "Epoch 115/200\n",
      "200000/200000 [==============================] - 7s 34us/step - loss: 2.5310e-05 - acc: 0.9478\n",
      "Epoch 116/200\n",
      "200000/200000 [==============================] - 7s 33us/step - loss: 2.5272e-05 - acc: 0.9448\n",
      "Epoch 117/200\n",
      "200000/200000 [==============================] - 7s 33us/step - loss: 2.3707e-05 - acc: 0.9498\n",
      "Epoch 118/200\n",
      "200000/200000 [==============================] - 7s 37us/step - loss: 2.4737e-05 - acc: 0.9493\n",
      "Epoch 119/200\n",
      "200000/200000 [==============================] - 7s 37us/step - loss: 2.6877e-05 - acc: 0.9455\n",
      "Epoch 120/200\n",
      "200000/200000 [==============================] - 7s 37us/step - loss: 2.6454e-05 - acc: 0.9467\n",
      "Epoch 121/200\n",
      "200000/200000 [==============================] - 7s 37us/step - loss: 2.5504e-05 - acc: 0.9460\n",
      "Epoch 122/200\n",
      "200000/200000 [==============================] - 7s 36us/step - loss: 2.5534e-05 - acc: 0.9490\n",
      "Epoch 123/200\n",
      "200000/200000 [==============================] - 7s 37us/step - loss: 2.4086e-05 - acc: 0.9480\n",
      "Epoch 124/200\n",
      "200000/200000 [==============================] - 7s 37us/step - loss: 2.4138e-05 - acc: 0.9504\n",
      "Epoch 125/200\n",
      "200000/200000 [==============================] - 7s 35us/step - loss: 2.7618e-05 - acc: 0.9483\n",
      "Epoch 126/200\n",
      "200000/200000 [==============================] - 7s 37us/step - loss: 2.6530e-05 - acc: 0.9472\n",
      "Epoch 127/200\n",
      "200000/200000 [==============================] - 7s 37us/step - loss: 2.5445e-05 - acc: 0.9491\n",
      "Epoch 128/200\n",
      "200000/200000 [==============================] - 7s 35us/step - loss: 2.4374e-05 - acc: 0.9487\n",
      "Epoch 129/200\n",
      "200000/200000 [==============================] - 7s 35us/step - loss: 2.3330e-05 - acc: 0.9505\n",
      "Epoch 130/200\n",
      "200000/200000 [==============================] - 7s 35us/step - loss: 2.5776e-05 - acc: 0.9502\n",
      "Epoch 131/200\n",
      "200000/200000 [==============================] - 7s 35us/step - loss: 2.3927e-05 - acc: 0.9517\n",
      "Epoch 132/200\n",
      "200000/200000 [==============================] - 7s 33us/step - loss: 2.5144e-05 - acc: 0.9490\n",
      "Epoch 133/200\n",
      "200000/200000 [==============================] - 6s 32us/step - loss: 2.7538e-05 - acc: 0.9492\n",
      "Epoch 134/200\n",
      "200000/200000 [==============================] - 7s 34us/step - loss: 2.6204e-05 - acc: 0.9468\n",
      "Epoch 135/200\n",
      "200000/200000 [==============================] - 7s 36us/step - loss: 2.5034e-05 - acc: 0.9502\n",
      "Epoch 136/200\n",
      "200000/200000 [==============================] - 7s 33us/step - loss: 2.7296e-05 - acc: 0.9473\n",
      "Epoch 137/200\n",
      "200000/200000 [==============================] - 7s 33us/step - loss: 2.5404e-05 - acc: 0.9489\n",
      "Epoch 138/200\n",
      "200000/200000 [==============================] - 7s 34us/step - loss: 2.4011e-05 - acc: 0.9509\n",
      "Epoch 139/200\n",
      "200000/200000 [==============================] - 7s 36us/step - loss: 2.5591e-05 - acc: 0.9498\n",
      "Epoch 140/200\n",
      "200000/200000 [==============================] - 7s 37us/step - loss: 2.4985e-05 - acc: 0.9488\n",
      "Epoch 141/200\n",
      "200000/200000 [==============================] - 7s 35us/step - loss: 2.3515e-05 - acc: 0.9519\n",
      "Epoch 142/200\n",
      "200000/200000 [==============================] - 7s 36us/step - loss: 2.4093e-05 - acc: 0.9518\n",
      "Epoch 143/200\n",
      "200000/200000 [==============================] - 7s 36us/step - loss: 2.6841e-05 - acc: 0.9492\n",
      "Epoch 144/200\n",
      "200000/200000 [==============================] - 8s 39us/step - loss: 2.5215e-05 - acc: 0.9502\n",
      "Epoch 145/200\n",
      "200000/200000 [==============================] - 7s 35us/step - loss: 2.7350e-05 - acc: 0.9487\n",
      "Epoch 146/200\n",
      "200000/200000 [==============================] - 7s 37us/step - loss: 2.5183e-05 - acc: 0.9481\n",
      "Epoch 147/200\n",
      "200000/200000 [==============================] - 7s 37us/step - loss: 2.4870e-05 - acc: 0.9507\n",
      "Epoch 148/200\n",
      "200000/200000 [==============================] - 7s 36us/step - loss: 2.5432e-05 - acc: 0.9509\n",
      "Epoch 149/200\n",
      "200000/200000 [==============================] - 7s 36us/step - loss: 2.5552e-05 - acc: 0.9513\n",
      "Epoch 150/200\n",
      "200000/200000 [==============================] - 7s 36us/step - loss: 2.5589e-05 - acc: 0.9492\n",
      "Epoch 151/200\n"
     ]
    },
    {
     "name": "stdout",
     "output_type": "stream",
     "text": [
      "200000/200000 [==============================] - 7s 36us/step - loss: 2.5071e-05 - acc: 0.9515\n",
      "Epoch 152/200\n",
      "200000/200000 [==============================] - 7s 35us/step - loss: 2.5600e-05 - acc: 0.9496\n",
      "Epoch 153/200\n",
      "200000/200000 [==============================] - 7s 37us/step - loss: 2.6891e-05 - acc: 0.9507\n",
      "Epoch 154/200\n",
      "200000/200000 [==============================] - 7s 35us/step - loss: 2.5750e-05 - acc: 0.9497\n",
      "Epoch 155/200\n",
      "200000/200000 [==============================] - 8s 38us/step - loss: 2.7061e-05 - acc: 0.9509\n",
      "Epoch 156/200\n",
      "200000/200000 [==============================] - 7s 37us/step - loss: 2.5818e-05 - acc: 0.9493\n",
      "Epoch 157/200\n",
      "200000/200000 [==============================] - 7s 37us/step - loss: 2.4002e-05 - acc: 0.9498\n",
      "Epoch 158/200\n",
      "200000/200000 [==============================] - 7s 34us/step - loss: 2.6251e-05 - acc: 0.9494\n",
      "Epoch 159/200\n",
      "200000/200000 [==============================] - 7s 34us/step - loss: 2.4637e-05 - acc: 0.9504\n",
      "Epoch 160/200\n",
      "200000/200000 [==============================] - 7s 34us/step - loss: 2.4361e-05 - acc: 0.9528\n",
      "Epoch 161/200\n",
      "200000/200000 [==============================] - 7s 33us/step - loss: 2.3061e-05 - acc: 0.9523\n",
      "Epoch 162/200\n",
      "200000/200000 [==============================] - 7s 35us/step - loss: 2.4167e-05 - acc: 0.9514\n",
      "Epoch 163/200\n",
      "200000/200000 [==============================] - 8s 40us/step - loss: 2.3205e-05 - acc: 0.9517\n",
      "Epoch 164/200\n",
      "200000/200000 [==============================] - 7s 35us/step - loss: 2.3447e-05 - acc: 0.9542\n",
      "Epoch 165/200\n",
      "200000/200000 [==============================] - 7s 35us/step - loss: 2.4686e-05 - acc: 0.9517\n",
      "Epoch 166/200\n",
      "200000/200000 [==============================] - 7s 37us/step - loss: 2.4275e-05 - acc: 0.9549\n",
      "Epoch 167/200\n",
      "200000/200000 [==============================] - 7s 34us/step - loss: 2.2961e-05 - acc: 0.9523\n",
      "Epoch 168/200\n",
      "200000/200000 [==============================] - 7s 34us/step - loss: 2.3370e-05 - acc: 0.9530\n",
      "Epoch 169/200\n",
      "200000/200000 [==============================] - 8s 38us/step - loss: 2.3615e-05 - acc: 0.9520\n",
      "Epoch 170/200\n",
      "200000/200000 [==============================] - 8s 38us/step - loss: 2.2873e-05 - acc: 0.9544\n",
      "Epoch 171/200\n",
      "200000/200000 [==============================] - 7s 34us/step - loss: 2.5658e-05 - acc: 0.9526\n",
      "Epoch 172/200\n",
      "200000/200000 [==============================] - 7s 35us/step - loss: 2.3821e-05 - acc: 0.9509\n",
      "Epoch 173/200\n",
      "200000/200000 [==============================] - 7s 37us/step - loss: 2.2666e-05 - acc: 0.9547\n",
      "Epoch 174/200\n",
      "200000/200000 [==============================] - 7s 34us/step - loss: 2.3851e-05 - acc: 0.9520\n",
      "Epoch 175/200\n",
      "200000/200000 [==============================] - 8s 38us/step - loss: 2.2316e-05 - acc: 0.9546\n",
      "Epoch 176/200\n",
      "200000/200000 [==============================] - 7s 37us/step - loss: 2.2088e-05 - acc: 0.9548\n",
      "Epoch 177/200\n",
      "200000/200000 [==============================] - 7s 35us/step - loss: 2.2504e-05 - acc: 0.9546\n",
      "Epoch 178/200\n",
      "200000/200000 [==============================] - 7s 34us/step - loss: 2.2761e-05 - acc: 0.9543\n",
      "Epoch 179/200\n",
      "200000/200000 [==============================] - 7s 36us/step - loss: 2.2392e-05 - acc: 0.9546\n",
      "Epoch 180/200\n",
      "200000/200000 [==============================] - 7s 36us/step - loss: 2.1483e-05 - acc: 0.9557\n",
      "Epoch 181/200\n",
      "200000/200000 [==============================] - 7s 36us/step - loss: 2.2089e-05 - acc: 0.9556\n",
      "Epoch 182/200\n",
      "200000/200000 [==============================] - 7s 35us/step - loss: 2.3627e-05 - acc: 0.9545\n",
      "Epoch 183/200\n",
      "200000/200000 [==============================] - 7s 36us/step - loss: 2.2101e-05 - acc: 0.9549\n",
      "Epoch 184/200\n",
      "200000/200000 [==============================] - 7s 35us/step - loss: 2.4387e-05 - acc: 0.9523\n",
      "Epoch 185/200\n",
      "200000/200000 [==============================] - 7s 35us/step - loss: 2.3527e-05 - acc: 0.9532\n",
      "Epoch 186/200\n",
      "200000/200000 [==============================] - 7s 36us/step - loss: 2.2261e-05 - acc: 0.9533\n",
      "Epoch 187/200\n",
      "200000/200000 [==============================] - 7s 35us/step - loss: 2.0563e-05 - acc: 0.9566\n",
      "Epoch 188/200\n",
      "200000/200000 [==============================] - 7s 35us/step - loss: 2.2232e-05 - acc: 0.9560\n",
      "Epoch 189/200\n",
      "200000/200000 [==============================] - 7s 35us/step - loss: 2.0799e-05 - acc: 0.9572\n",
      "Epoch 190/200\n",
      "200000/200000 [==============================] - 7s 36us/step - loss: 2.3442e-05 - acc: 0.9552\n",
      "Epoch 191/200\n",
      "200000/200000 [==============================] - 8s 38us/step - loss: 2.2787e-05 - acc: 0.9544\n",
      "Epoch 192/200\n",
      "200000/200000 [==============================] - 7s 36us/step - loss: 2.1278e-05 - acc: 0.9563\n",
      "Epoch 193/200\n",
      "200000/200000 [==============================] - 7s 36us/step - loss: 2.1328e-05 - acc: 0.9574\n",
      "Epoch 194/200\n",
      "200000/200000 [==============================] - 8s 40us/step - loss: 2.0851e-05 - acc: 0.9572\n",
      "Epoch 195/200\n",
      "200000/200000 [==============================] - 7s 34us/step - loss: 2.1405e-05 - acc: 0.9586\n",
      "Epoch 196/200\n",
      "200000/200000 [==============================] - 7s 33us/step - loss: 2.2389e-05 - acc: 0.9586\n",
      "Epoch 197/200\n",
      "200000/200000 [==============================] - 7s 35us/step - loss: 2.1679e-05 - acc: 0.9559\n",
      "Epoch 198/200\n",
      "200000/200000 [==============================] - 7s 37us/step - loss: 2.0967e-05 - acc: 0.9570\n",
      "Epoch 199/200\n",
      "200000/200000 [==============================] - 7s 37us/step - loss: 2.2590e-05 - acc: 0.9579\n",
      "Epoch 200/200\n",
      "200000/200000 [==============================] - 7s 37us/step - loss: 2.4083e-05 - acc: 0.9560\n"
     ]
    },
    {
     "data": {
      "text/plain": [
       "<keras.callbacks.History at 0x7f3fec6cdb00>"
      ]
     },
     "execution_count": 57,
     "metadata": {},
     "output_type": "execute_result"
    }
   ],
   "source": [
    "model.fit(train_X, train_Y, epochs=200,verbose=1, batch_size=5000,class_weight=train_weights)"
   ]
  },
  {
   "cell_type": "code",
   "execution_count": 58,
   "metadata": {},
   "outputs": [
    {
     "name": "stdout",
     "output_type": "stream",
     "text": [
      "20483/20483 [==============================] - 2s 86us/step\n",
      "Accuracy: 92.38%\n"
     ]
    }
   ],
   "source": [
    "scores = model.evaluate(test_X, test_Y, verbose=1)\n",
    "print(\"Accuracy: %.2f%%\" % (scores[1]*100))"
   ]
  },
  {
   "cell_type": "code",
   "execution_count": 59,
   "metadata": {},
   "outputs": [
    {
     "name": "stdout",
     "output_type": "stream",
     "text": [
      "                   precision    recall  f1-score   support\n",
      "\n",
      "     Major capsid       0.87      0.91      0.89      1244\n",
      "     Minor capsid       0.52      0.56      0.54        62\n",
      "        Baseplate       0.71      0.85      0.77       195\n",
      "       Major tail       0.79      0.90      0.84       297\n",
      "       Minor tail       0.70      0.81      0.75       371\n",
      "           Portal       0.87      0.91      0.89      1674\n",
      "       Tail fiber       0.54      0.66      0.59       298\n",
      "       Tail shaft       0.90      0.96      0.93       472\n",
      "           Collar       0.75      0.77      0.76       118\n",
      "Head-Tail joining       0.72      0.86      0.78       591\n",
      "            Other       0.97      0.94      0.96     15161\n",
      "\n",
      "        micro avg       0.92      0.92      0.92     20483\n",
      "        macro avg       0.76      0.83      0.79     20483\n",
      "     weighted avg       0.93      0.92      0.93     20483\n",
      "\n"
     ]
    }
   ],
   "source": [
    "from sklearn.metrics import classification_report\n",
    "\n",
    "\n",
    "test_Y_index = test_Y.argmax(axis=1) # Convert one-hot to index\n",
    "test_Y_predicted = model.predict_classes(test_X)\n",
    "labels_names=[\"Major capsid\",\"Minor capsid\",\"Baseplate\",\"Major tail\",\"Minor tail\",\"Portal\",\"Tail fiber\",\n",
    "             \"Tail shaft\",\"Collar\",\"Head-Tail joining\",\"Other\"]\n",
    "print(classification_report(test_Y_index, test_Y_predicted, target_names=labels_names ))"
   ]
  },
  {
   "cell_type": "code",
   "execution_count": 55,
   "metadata": {},
   "outputs": [
    {
     "name": "stdout",
     "output_type": "stream",
     "text": [
      "Counter({10: 15161, 5: 1674, 0: 1244, 9: 591, 7: 472, 4: 371, 6: 298, 3: 297, 2: 195, 8: 118, 1: 62})\n",
      "[1244, 62, 195, 297, 371, 1674, 298, 472, 118, 591, 15161]\n",
      "{0: 0.0008038585209003215, 1: 0.016129032258064516, 2: 0.005128205128205128, 3: 0.003367003367003367, 4: 0.0026954177897574125, 5: 0.0005973715651135006, 6: 0.003355704697986577, 7: 0.00211864406779661, 8: 0.00847457627118644, 9: 0.001692047377326565, 10: 6.595870984763538e-05}\n"
     ]
    }
   ],
   "source": [
    "from collections import Counter\n",
    "zz=Counter(test_Y_index)\n",
    "sample_w=[zz[i] for i in range(0,11,1)]\n",
    "sample_w_i=[1/zz[i] for i in range(0,11,1)]\n",
    "dictionary = dict(zip(range(0,11,1),sample_w_i) )\n",
    "print(zz)\n",
    "print(sample_w)\n",
    "print(dictionary)"
   ]
  },
  {
   "cell_type": "code",
   "execution_count": 79,
   "metadata": {},
   "outputs": [
    {
     "data": {
      "image/png": "[encoded data removed]",
      "text/plain": [
       "<Figure size 829.44x622.08 with 2 Axes>"
      ]
     },
     "metadata": {
      "needs_background": "light"
     },
     "output_type": "display_data"
    }
   ],
   "source": [
    "from sklearn.metrics import confusion_matrix\n",
    "import matplotlib.pyplot as plt\n",
    "import itertools\n",
    "\n",
    "CM=confusion_matrix(test_Y_index, test_Y_predicted)\n",
    "CM_n=CM/numpy.array(sample_w)[:,None]\n",
    "scale_up=1.8\n",
    "plt.figure(figsize=[6.4*scale_up, 4.8*scale_up])\n",
    "plt.imshow(CM_n, interpolation='nearest')\n",
    "plt.title('CM')\n",
    "plt.colorbar()\n",
    "tick_marks = numpy.arange(len(labels_names))\n",
    "plt.xticks(tick_marks, labels_names, rotation=90)\n",
    "plt.yticks(tick_marks, labels_names)\n",
    "fmt = '.2f'\n",
    "for i, j in itertools.product(range(CM_n.shape[0]), range(CM_n.shape[1])):\n",
    "        plt.text(j, i, format(CM_n[i, j], fmt),horizontalalignment=\"center\",verticalalignment='center',\n",
    "                color=\"white\" if CM_n[i, j] < 0.25 else \"black\")\n",
    "plt.show()"
   ]
  },
  {
   "cell_type": "code",
   "execution_count": 66,
   "metadata": {},
   "outputs": [],
   "source": [
    "train_Y_2class_tmp=[1 if x==10 else 0 for x in train_Y_index]\n",
    "train_Y_2class = numpy.eye(2)[train_Y_2class_tmp]\n",
    "test_Y_2class_tmp=[1 if x==10 else 0 for x in test_Y_index]\n",
    "test_Y_2class = numpy.eye(2)[test_Y_2class_tmp]\n",
    "#print(train_Y_2class)"
   ]
  },
  {
   "cell_type": "code",
   "execution_count": 73,
   "metadata": {},
   "outputs": [
    {
     "name": "stdout",
     "output_type": "stream",
     "text": [
      "_________________________________________________________________\n",
      "Layer (type)                 Output Shape              Param #   \n",
      "=================================================================\n",
      "dense_33 (Dense)             (None, 408)               166872    \n",
      "_________________________________________________________________\n",
      "dropout_25 (Dropout)         (None, 408)               0         \n",
      "_________________________________________________________________\n",
      "dense_34 (Dense)             (None, 200)               81800     \n",
      "_________________________________________________________________\n",
      "dropout_26 (Dropout)         (None, 200)               0         \n",
      "_________________________________________________________________\n",
      "dense_35 (Dense)             (None, 200)               40200     \n",
      "_________________________________________________________________\n",
      "dropout_27 (Dropout)         (None, 200)               0         \n",
      "_________________________________________________________________\n",
      "dense_36 (Dense)             (None, 2)                 402       \n",
      "=================================================================\n",
      "Total params: 289,274\n",
      "Trainable params: 289,274\n",
      "Non-trainable params: 0\n",
      "_________________________________________________________________\n",
      "None\n"
     ]
    }
   ],
   "source": [
    "model2 = Sequential()\n",
    "#lr normally 0.001\n",
    "opt=Adam(lr=0.001, beta_1=0.9, beta_2=0.999, epsilon=None, decay=0.0, amsgrad=False)\n",
    "model2.add(Dense(f_num, input_dim=f_num, kernel_initializer='random_uniform',activation='relu'))\n",
    "model2.add(Dropout(0.2))\n",
    "model2.add(Dense(200,activation='relu'))\n",
    "#model.add(Dense(200,activation='sigmoid'))\n",
    "model2.add(Dropout(0.2))\n",
    "model2.add(Dense(200,activation='relu'))\n",
    "#model.add(Dense(200,activation='sigmoid'))\n",
    "model2.add(Dropout(0.2))\n",
    "model2.add(Dense(2,activation='softmax'))\n",
    "model2.compile(loss='categorical_crossentropy', optimizer=opt, metrics=['accuracy'])\n",
    "print(model2.summary())\n"
   ]
  },
  {
   "cell_type": "code",
   "execution_count": 75,
   "metadata": {},
   "outputs": [
    {
     "name": "stdout",
     "output_type": "stream",
     "text": [
      "Epoch 1/50\n",
      "200000/200000 [==============================] - 8s 38us/step - loss: 0.1058 - acc: 0.9602\n",
      "Epoch 2/50\n",
      "200000/200000 [==============================] - 8s 41us/step - loss: 0.0971 - acc: 0.9632\n",
      "Epoch 3/50\n",
      "200000/200000 [==============================] - 8s 40us/step - loss: 0.0889 - acc: 0.9660\n",
      "Epoch 4/50\n",
      "200000/200000 [==============================] - 8s 39us/step - loss: 0.0822 - acc: 0.9689\n",
      "Epoch 5/50\n",
      "200000/200000 [==============================] - 8s 38us/step - loss: 0.0763 - acc: 0.9716\n",
      "Epoch 6/50\n",
      "200000/200000 [==============================] - 8s 39us/step - loss: 0.0715 - acc: 0.9729\n",
      "Epoch 7/50\n",
      "200000/200000 [==============================] - 8s 40us/step - loss: 0.0675 - acc: 0.9747\n",
      "Epoch 8/50\n",
      "200000/200000 [==============================] - 8s 39us/step - loss: 0.0630 - acc: 0.9761\n",
      "Epoch 9/50\n",
      "200000/200000 [==============================] - 8s 40us/step - loss: 0.0596 - acc: 0.9774\n",
      "Epoch 10/50\n",
      "200000/200000 [==============================] - 7s 36us/step - loss: 0.0568 - acc: 0.9785\n",
      "Epoch 11/50\n",
      "200000/200000 [==============================] - 8s 39us/step - loss: 0.0551 - acc: 0.9792\n",
      "Epoch 12/50\n",
      "200000/200000 [==============================] - 7s 37us/step - loss: 0.0522 - acc: 0.9806\n",
      "Epoch 13/50\n",
      "200000/200000 [==============================] - 7s 37us/step - loss: 0.0488 - acc: 0.9818\n",
      "Epoch 14/50\n",
      "200000/200000 [==============================] - 8s 39us/step - loss: 0.0463 - acc: 0.9829\n",
      "Epoch 15/50\n",
      "200000/200000 [==============================] - 7s 37us/step - loss: 0.0452 - acc: 0.9832\n",
      "Epoch 16/50\n",
      "200000/200000 [==============================] - 7s 35us/step - loss: 0.0440 - acc: 0.9840\n",
      "Epoch 17/50\n",
      "200000/200000 [==============================] - 8s 38us/step - loss: 0.0426 - acc: 0.9842\n",
      "Epoch 18/50\n",
      "200000/200000 [==============================] - 8s 40us/step - loss: 0.0404 - acc: 0.9852\n",
      "Epoch 19/50\n",
      "200000/200000 [==============================] - 7s 36us/step - loss: 0.0392 - acc: 0.9855\n",
      "Epoch 20/50\n",
      "200000/200000 [==============================] - 7s 36us/step - loss: 0.0374 - acc: 0.9866\n",
      "Epoch 21/50\n",
      "200000/200000 [==============================] - 7s 36us/step - loss: 0.0363 - acc: 0.9869\n",
      "Epoch 22/50\n",
      "200000/200000 [==============================] - 8s 38us/step - loss: 0.0345 - acc: 0.9873\n",
      "Epoch 23/50\n",
      "200000/200000 [==============================] - 7s 37us/step - loss: 0.0342 - acc: 0.9874\n",
      "Epoch 24/50\n",
      "200000/200000 [==============================] - 7s 36us/step - loss: 0.0325 - acc: 0.9882\n",
      "Epoch 25/50\n",
      "200000/200000 [==============================] - 7s 37us/step - loss: 0.0323 - acc: 0.9886\n",
      "Epoch 26/50\n",
      "200000/200000 [==============================] - 7s 36us/step - loss: 0.0307 - acc: 0.9888\n",
      "Epoch 27/50\n",
      "200000/200000 [==============================] - 7s 36us/step - loss: 0.0301 - acc: 0.9891\n",
      "Epoch 28/50\n",
      "200000/200000 [==============================] - 7s 36us/step - loss: 0.0286 - acc: 0.9897\n",
      "Epoch 29/50\n",
      "200000/200000 [==============================] - 7s 36us/step - loss: 0.0294 - acc: 0.9894\n",
      "Epoch 30/50\n",
      "200000/200000 [==============================] - 8s 38us/step - loss: 0.0279 - acc: 0.9902\n",
      "Epoch 31/50\n",
      "200000/200000 [==============================] - 8s 42us/step - loss: 0.0276 - acc: 0.9901\n",
      "Epoch 32/50\n",
      "200000/200000 [==============================] - 7s 36us/step - loss: 0.0259 - acc: 0.9908\n",
      "Epoch 33/50\n",
      "200000/200000 [==============================] - 7s 36us/step - loss: 0.0258 - acc: 0.9906\n",
      "Epoch 34/50\n",
      "200000/200000 [==============================] - 8s 38us/step - loss: 0.0258 - acc: 0.9909\n",
      "Epoch 35/50\n",
      "200000/200000 [==============================] - 8s 38us/step - loss: 0.0256 - acc: 0.9909\n",
      "Epoch 36/50\n",
      "200000/200000 [==============================] - 7s 36us/step - loss: 0.0250 - acc: 0.9912\n",
      "Epoch 37/50\n",
      "200000/200000 [==============================] - 7s 35us/step - loss: 0.0236 - acc: 0.9915\n",
      "Epoch 38/50\n",
      "200000/200000 [==============================] - 8s 39us/step - loss: 0.0233 - acc: 0.9916\n",
      "Epoch 39/50\n",
      "200000/200000 [==============================] - 8s 38us/step - loss: 0.0240 - acc: 0.9915\n",
      "Epoch 40/50\n",
      "200000/200000 [==============================] - 8s 39us/step - loss: 0.0229 - acc: 0.9918\n",
      "Epoch 41/50\n",
      "200000/200000 [==============================] - 8s 40us/step - loss: 0.0231 - acc: 0.9919\n",
      "Epoch 42/50\n",
      "200000/200000 [==============================] - 7s 37us/step - loss: 0.0215 - acc: 0.9925\n",
      "Epoch 43/50\n",
      "200000/200000 [==============================] - 8s 39us/step - loss: 0.0218 - acc: 0.9922\n",
      "Epoch 44/50\n",
      "200000/200000 [==============================] - 8s 38us/step - loss: 0.0209 - acc: 0.9926\n",
      "Epoch 45/50\n",
      "200000/200000 [==============================] - 8s 38us/step - loss: 0.0212 - acc: 0.9925\n",
      "Epoch 46/50\n",
      "200000/200000 [==============================] - 8s 42us/step - loss: 0.0208 - acc: 0.9925\n",
      "Epoch 47/50\n",
      "200000/200000 [==============================] - 7s 37us/step - loss: 0.0210 - acc: 0.9927\n",
      "Epoch 48/50\n",
      "200000/200000 [==============================] - 7s 37us/step - loss: 0.0195 - acc: 0.9929\n",
      "Epoch 49/50\n",
      "200000/200000 [==============================] - 7s 37us/step - loss: 0.0201 - acc: 0.9928\n",
      "Epoch 50/50\n",
      "200000/200000 [==============================] - 7s 37us/step - loss: 0.0186 - acc: 0.9933\n"
     ]
    },
    {
     "data": {
      "text/plain": [
       "<keras.callbacks.History at 0x7f3fbe7270b8>"
      ]
     },
     "execution_count": 75,
     "metadata": {},
     "output_type": "execute_result"
    }
   ],
   "source": [
    "model2.fit(train_X, train_Y_2class, epochs=50,verbose=1, batch_size=5000)"
   ]
  },
  {
   "cell_type": "code",
   "execution_count": 76,
   "metadata": {},
   "outputs": [
    {
     "name": "stdout",
     "output_type": "stream",
     "text": [
      "20483/20483 [==============================] - 2s 102us/step\n",
      "Accuracy: 94.26%\n"
     ]
    }
   ],
   "source": [
    "scores = model2.evaluate(test_X, test_Y_2class, verbose=1)\n",
    "print(\"Accuracy: %.2f%%\" % (scores[1]*100))"
   ]
  },
  {
   "cell_type": "code",
   "execution_count": 77,
   "metadata": {},
   "outputs": [
    {
     "name": "stdout",
     "output_type": "stream",
     "text": [
      "              precision    recall  f1-score   support\n",
      "\n",
      "  structural       0.89      0.89      0.89      5322\n",
      "       other       0.96      0.96      0.96     15161\n",
      "\n",
      "   micro avg       0.94      0.94      0.94     20483\n",
      "   macro avg       0.93      0.93      0.93     20483\n",
      "weighted avg       0.94      0.94      0.94     20483\n",
      "\n"
     ]
    }
   ],
   "source": [
    "#test_Y_index = test_Y.argmax(axis=1) # Convert one-hot to index\n",
    "test_Y_2class_predicted = model2.predict_classes(test_X)\n",
    "\n",
    "print(classification_report(test_Y_2class_tmp,test_Y_2class_predicted , target_names=[\"structural\",\"other\"]))"
   ]
  },
  {
   "cell_type": "code",
   "execution_count": 78,
   "metadata": {},
   "outputs": [
    {
     "data": {
      "image/png": "[encoded data removed]",
      "text/plain": [
       "<Figure size 599.04x449.28 with 2 Axes>"
      ]
     },
     "metadata": {
      "needs_background": "light"
     },
     "output_type": "display_data"
    }
   ],
   "source": [
    "CM2=confusion_matrix(test_Y_2class_tmp,test_Y_2class_predicted )\n",
    "#CM_n=CM/numpy.array(sample_w)[:,None]\n",
    "scale_up=1.3\n",
    "plt.figure(figsize=[6.4*scale_up, 4.8*scale_up])\n",
    "plt.imshow(CM2, interpolation='nearest')\n",
    "plt.title('CM2')\n",
    "plt.colorbar()\n",
    "tick_marks = numpy.arange(2)\n",
    "plt.xticks(tick_marks, [\"structural\",\"other\"], rotation=90)\n",
    "plt.yticks(tick_marks, [\"structural\",\"other\"])\n",
    "fmt = '.2f'\n",
    "for i, j in itertools.product(range(CM2.shape[0]), range(CM2.shape[1])):\n",
    "        plt.text(j, i, format(CM2[i, j], fmt),horizontalalignment=\"center\",verticalalignment='center',\n",
    "                color=\"white\" if CM2[i, j] < 0.25 else \"black\")\n",
    "plt.show()"
   ]
  }
 ],
 "metadata": {
  "kernelspec": {
   "display_name": "Environment (conda_tensor_4)",
   "language": "python",
   "name": "conda_tensor_4"
  },
  "language_info": {
   "codemirror_mode": {
    "name": "ipython",
    "version": 3
   },
   "file_extension": ".py",
   "mimetype": "text/x-python",
   "name": "python",
   "nbconvert_exporter": "python",
   "pygments_lexer": "ipython3",
   "version": "3.6.7"
  }
 },
 "nbformat": 4,
 "nbformat_minor": 2
}
