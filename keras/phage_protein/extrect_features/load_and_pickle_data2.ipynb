{
 "cells": [
  {
   "cell_type": "code",
   "execution_count": 1,
   "metadata": {},
   "outputs": [],
   "source": [
    "import os\n",
    "import sys\n",
    "sys.path.append(\"..\")\n",
    "import phage_init"
   ]
  },
  {
   "cell_type": "code",
   "execution_count": 2,
   "metadata": {},
   "outputs": [],
   "source": [
    "import numpy\n",
    "import itertools\n",
    "from Bio.Seq import Seq\n",
    "from Bio.Alphabet import IUPAC\n",
    "from Bio import SeqIO\n",
    "from Bio.SeqUtils.ProtParam import ProteinAnalysis\n",
    "from scipy import stats\n",
    "from Bio.Alphabet import IUPAC\n",
    "#from itertools import permutations\n"
   ]
  },
  {
   "cell_type": "code",
   "execution_count": null,
   "metadata": {},
   "outputs": [],
   "source": [
    "#from numba import jit,vectorize"
   ]
  },
  {
   "cell_type": "code",
   "execution_count": 3,
   "metadata": {},
   "outputs": [],
   "source": [
    "all_fasta=(os.path.join(phage_init.fasta_dir_2,\"major_capsid_all_clustered.fasta\"),os.path.join(phage_init.fasta_dir_2,\"minor_capsid_all_clustered.fasta\"),\n",
    "           os.path.join(phage_init.fasta_dir_2,\"baseplate_all_clustered.fasta\"),os.path.join(phage_init.fasta_dir_2,\"major_tail_all_clustered.fasta\"),\n",
    "           os.path.join(phage_init.fasta_dir_2,\"minor_tail_all_clustered.fasta\"),os.path.join(phage_init.fasta_dir_2,\"portal_all_clustered.fasta\"),\n",
    "           os.path.join(phage_init.fasta_dir_2,\"tail_fiber_all_clustered.fasta\"),os.path.join(phage_init.fasta_dir_2,\"shaft_all_clustered.fasta\"),\n",
    "           os.path.join(phage_init.fasta_dir_2,\"collar_all_clustered.fasta\"),os.path.join(phage_init.fasta_dir_2,\"HTJ_all_clustered.fasta\"),\n",
    "           os.path.join(phage_init.fasta_dir_2,\"others_all_clustered.fasta\"))"
   ]
  },
  {
   "cell_type": "code",
   "execution_count": 4,
   "metadata": {},
   "outputs": [],
   "source": [
    "\n",
    "def extract_all2(fasta_list):\n",
    "    AA=[\"A\",\"C\",\"D\",\"E\",\"F\",\"G\",\"H\",\"I\",\"K\",\"L\",\"M\",\"N\",\"P\",\"Q\",\"R\",\"S\",\"T\",\"V\",\"W\",\"Y\"]\n",
    "    di_pep = [''.join(i) for i in itertools.product(AA, repeat = 2)]\n",
    "    AAs=set(AA)\n",
    "    prot_class=0;\n",
    "    arr = numpy.empty((0,408), dtype=numpy.float)\n",
    "    class_arr = numpy.empty((0), dtype=numpy.int)\n",
    "    for file in fasta_list:\n",
    "        print('####################' + file)\n",
    "        for record in SeqIO.parse(file, \"fasta\"):\n",
    "            ll=len(record.seq)\n",
    "            seqq=record.seq.__str__().upper()\n",
    "            seqqq=seqq.replace('X','A').replace('J','L').replace('*','A').replace('Z','E').replace('B','D')\n",
    "            X = ProteinAnalysis(seqqq)\n",
    "#            if (bool(set(seqqq)-AAs)):\n",
    "#                print(record.description)\n",
    "#                print(seqqq)\n",
    "            tt= [X.isoelectric_point(), X.instability_index(),ll,X.aromaticity(),\n",
    "                X.molar_extinction_coefficient()[0],X.molar_extinction_coefficient()[1],\n",
    "                X.gravy(),X.molecular_weight()]\n",
    "            tt_n = numpy.asarray(tt,dtype=numpy.float)\n",
    "            \n",
    "            di_pep_count=[seqq.count(i)/(ll-1) for i in di_pep]\n",
    "            di_pep_count_n = numpy.asarray(di_pep_count,dtype=numpy.float)\n",
    "    \n",
    "            cat_n= numpy.concatenate((di_pep_count_n,tt_n))\n",
    "            #print(cat_n.shape)\n",
    "            cat_n = cat_n.reshape((1,cat_n.shape[0]))\n",
    "\n",
    "            arr = numpy.append(arr,cat_n , axis=0)\n",
    "            class_arr = numpy.append(class_arr,prot_class)\n",
    "        prot_class+=1\n",
    "    return (arr,class_arr)\n",
    "    "
   ]
  },
  {
   "cell_type": "code",
   "execution_count": null,
   "metadata": {
    "scrolled": false
   },
   "outputs": [
    {
     "name": "stdout",
     "output_type": "stream",
     "text": [
      "####################/home/adrian/git-presentations/keras/phage_protein/download_seq/all/clustered/major_capsid_all_clustered.fasta\n",
      "####################/home/adrian/git-presentations/keras/phage_protein/download_seq/all/clustered/minor_capsid_all_clustered.fasta\n",
      "####################/home/adrian/git-presentations/keras/phage_protein/download_seq/all/clustered/baseplate_all_clustered.fasta\n",
      "####################/home/adrian/git-presentations/keras/phage_protein/download_seq/all/clustered/major_tail_all_clustered.fasta\n",
      "####################/home/adrian/git-presentations/keras/phage_protein/download_seq/all/clustered/minor_tail_all_clustered.fasta\n",
      "####################/home/adrian/git-presentations/keras/phage_protein/download_seq/all/clustered/portal_all_clustered.fasta\n",
      "####################/home/adrian/git-presentations/keras/phage_protein/download_seq/all/clustered/tail_fiber_all_clustered.fasta\n",
      "####################/home/adrian/git-presentations/keras/phage_protein/download_seq/all/clustered/shaft_all_clustered.fasta\n",
      "####################/home/adrian/git-presentations/keras/phage_protein/download_seq/all/clustered/collar_all_clustered.fasta\n",
      "####################/home/adrian/git-presentations/keras/phage_protein/download_seq/all/clustered/HTJ_all_clustered.fasta\n",
      "####################/home/adrian/git-presentations/keras/phage_protein/download_seq/all/clustered/others_all_clustered.fasta\n"
     ]
    }
   ],
   "source": [
    "(arr,class_arr)=extract_all2(all_fasta)\n",
    "print(arr.shape)"
   ]
  },
  {
   "cell_type": "code",
   "execution_count": null,
   "metadata": {},
   "outputs": [],
   "source": [
    "print(arr.shape)"
   ]
  },
  {
   "cell_type": "code",
   "execution_count": null,
   "metadata": {},
   "outputs": [],
   "source": [
    "\n",
    "arr_z=numpy.apply_along_axis(stats.zscore,0,arr)\n",
    "\n"
   ]
  },
  {
   "cell_type": "code",
   "execution_count": null,
   "metadata": {},
   "outputs": [],
   "source": [
    "nb_classes = 11\n",
    "one_hot_targets = numpy.eye(nb_classes)[class_arr]"
   ]
  },
  {
   "cell_type": "code",
   "execution_count": null,
   "metadata": {},
   "outputs": [],
   "source": [
    "final = numpy.concatenate((arr_z, one_hot_targets), axis=1)"
   ]
  },
  {
   "cell_type": "code",
   "execution_count": null,
   "metadata": {},
   "outputs": [],
   "source": [
    "mean_arr=numpy.apply_along_axis(numpy.mean,0,arr)\n",
    "#print(mean_arr)\n",
    "print(mean_arr.shape)\n",
    "std_arr=numpy.apply_along_axis(numpy.std,0,arr)\n",
    "print(std_arr.shape)"
   ]
  },
  {
   "cell_type": "code",
   "execution_count": null,
   "metadata": {},
   "outputs": [],
   "source": [
    "numpy.random.shuffle(final)"
   ]
  },
  {
   "cell_type": "code",
   "execution_count": null,
   "metadata": {},
   "outputs": [],
   "source": [
    "#import pickle\n",
    "##number of proteins for training\n",
    "tt=50000\n",
    "##number of features\n",
    "f_num=arr.shape[1]\n",
    "#pickle.dump(final[0:tt,0:f_num], open( os.path.join(phage_init.data_dir,\"train_x_data2.p\"), \"wb\" ) )\n",
    "#pickle.dump(final[tt:,0:f_num],  open( os.path.join(phage_init.data_dir,\"test_x_data2.p\") , \"wb\" ) )\n",
    "#pickle.dump(final[0:tt,f_num:], open( os.path.join(phage_init.data_dir,\"train_y_data2.p\"), \"wb\" ) )\n",
    "#pickle.dump(final[tt:,f_num:],  open( os.path.join(phage_init.data_dir,\"test_y_data2.p\") , \"wb\" ) )\n",
    "#pickle.dump(mean_arr,  open( os.path.join(phage_init.data_dir,\"mean_data2.p\") , \"wb\" ) )\n",
    "#pickle.dump(std_arr,  open( os.path.join(phage_init.data_dir,\"std_data2.p\") , \"wb\" ) )"
   ]
  },
  {
   "cell_type": "code",
   "execution_count": null,
   "metadata": {},
   "outputs": [],
   "source": [
    "train_x=final[0:tt,0:f_num]\n",
    "train_y=final[0:tt,f_num:]\n",
    "test_x=final[tt:,0:f_num]\n",
    "test_y=final[tt:,f_num:]\n",
    "              "
   ]
  },
  {
   "cell_type": "code",
   "execution_count": null,
   "metadata": {},
   "outputs": [],
   "source": [
    "#import keras and numpy\n",
    "import numpy\n",
    "from keras.models import Sequential\n",
    "from keras.layers import Dense\n",
    "from keras.layers import LSTM\n",
    "from keras.layers import Activation\n",
    "from keras.layers import Dropout\n",
    "from keras.optimizers import Adam"
   ]
  },
  {
   "cell_type": "code",
   "execution_count": null,
   "metadata": {},
   "outputs": [],
   "source": [
    "#this list the devices, just making sure there is a GPU present, you might be fine with no GPU\n",
    "from tensorflow.python.client import device_lib\n",
    "print(device_lib.list_local_devices())"
   ]
  },
  {
   "cell_type": "code",
   "execution_count": null,
   "metadata": {},
   "outputs": [],
   "source": [
    "model = Sequential()\n",
    "opt=Adam(lr=0.001, beta_1=0.9, beta_2=0.999, epsilon=None, decay=0.0, amsgrad=False)\n",
    "model.add(Dense(f_num, input_dim=f_num, kernel_initializer='random_uniform',activation='relu'))\n",
    "model.add(Dropout(0.2))\n",
    "model.add(Dense(200,activation='relu'))\n",
    "#model.add(Dense(200,activation='sigmoid'))\n",
    "model.add(Dropout(0.2))\n",
    "model.add(Dense(200,activation='relu'))\n",
    "#model.add(Dense(200,activation='sigmoid'))\n",
    "model.add(Dropout(0.2))\n",
    "model.add(Dense(11,activation='softmax'))\n",
    "model.compile(loss='categorical_crossentropy', optimizer=opt, metrics=['accuracy'])\n",
    "print(model.summary())\n"
   ]
  }
 ],
 "metadata": {
  "kernelspec": {
   "display_name": "Environment (conda_tensor_4)",
   "language": "python",
   "name": "conda_tensor_4"
  },
  "language_info": {
   "codemirror_mode": {
    "name": "ipython",
    "version": 3
   },
   "file_extension": ".py",
   "mimetype": "text/x-python",
   "name": "python",
   "nbconvert_exporter": "python",
   "pygments_lexer": "ipython3",
   "version": "3.6.7"
  }
 },
 "nbformat": 4,
 "nbformat_minor": 2
}
