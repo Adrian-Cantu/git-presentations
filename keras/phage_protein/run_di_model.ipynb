{
 "cells": [
  {
   "cell_type": "code",
   "execution_count": 1,
   "metadata": {},
   "outputs": [],
   "source": [
    "import numpy\n",
    "import itertools\n",
    "from Bio.Seq import Seq\n",
    "from Bio.Alphabet import IUPAC\n",
    "from Bio import SeqIO\n",
    "from Bio.SeqUtils.ProtParam import ProteinAnalysis\n",
    "from scipy import stats\n",
    "from Bio.Alphabet import IUPAC\n",
    "#from itertools import permutations\n",
    "AA=[\"A\",\"C\",\"D\",\"E\",\"F\",\"G\",\"H\",\"I\",\"K\",\"L\",\"M\",\"N\",\"P\",\"Q\",\"R\",\"S\",\"T\",\"V\",\"W\",\"Y\"]"
   ]
  },
  {
   "cell_type": "code",
   "execution_count": 2,
   "metadata": {},
   "outputs": [],
   "source": [
    "dipep = [''.join(i) for i in itertools.product(AA, repeat = 2)]"
   ]
  },
  {
   "cell_type": "code",
   "execution_count": 3,
   "metadata": {},
   "outputs": [],
   "source": [
    "arr = numpy.empty((0,402), dtype=numpy.float)\n",
    "for record in SeqIO.parse('phixprot.faa', \"fasta\"):\n",
    "        ll=len(record.seq)\n",
    "        X = ProteinAnalysis(record.seq.__str__().replace('X','A').replace('J','L'))\n",
    "\n",
    "        tt= [X.isoelectric_point(), X.instability_index()]\n",
    "        tt_n = numpy.asarray(tt,dtype=numpy.float)\n",
    "\n",
    "        dipep_count=[record.seq.count(i)/ll for i in dipep]\n",
    "        dipep_count_n = numpy.asarray(dipep_count,dtype=numpy.float)\n",
    "    \n",
    "        cat_n= numpy.append(dipep_count_n,tt_n)\n",
    "        cat_n = cat_n.reshape((1,cat_n.shape[0]))\n",
    "\n",
    "        arr = numpy.append(arr,cat_n , axis=0)\n",
    "        "
   ]
  },
  {
   "cell_type": "code",
   "execution_count": 4,
   "metadata": {},
   "outputs": [],
   "source": [
    "import pickle\n",
    "mean_arr=pickle.load(open( \"dipep_new_mean.p\", \"rb\" ) )\n",
    "std_arr=pickle.load(open( \"dipep_new_std.p\", \"rb\" ) )"
   ]
  },
  {
   "cell_type": "code",
   "execution_count": 5,
   "metadata": {},
   "outputs": [],
   "source": [
    "for i in range(arr.shape[0]):\n",
    "    for j in range(arr.shape[1]):\n",
    "        arr[i,j]=(arr[i,j]-mean_arr[j])/std_arr[j]"
   ]
  },
  {
   "cell_type": "code",
   "execution_count": 7,
   "metadata": {},
   "outputs": [
    {
     "name": "stdout",
     "output_type": "stream",
     "text": [
      "[[ 0.81462086 -0.32328229  1.35947221 ... -0.54030715 -0.63801846\n",
      "  -1.93907445]\n",
      " [ 0.81462086 -0.32328229  1.35947221 ... -0.54030715 -0.57854736\n",
      "  -1.98448114]\n",
      " [ 0.81462086 -0.32328229  1.35947221 ... -0.54030715 -0.57854736\n",
      "  -1.98448114]\n",
      " [ 0.81462086 -0.32328229  1.35947221 ... -0.54030715 -0.57854736\n",
      "  -1.98738009]\n",
      " [ 0.81462086 -0.32328229  1.35947221 ... -0.54030715 -0.57854736\n",
      "  -1.98448114]\n",
      " [ 0.81462086 -0.32328229  1.35947221 ... -0.54030715 -0.57854736\n",
      "  -1.98448114]]\n"
     ]
    }
   ],
   "source": [
    "print(arr)"
   ]
  },
  {
   "cell_type": "code",
   "execution_count": 9,
   "metadata": {},
   "outputs": [],
   "source": [
    "from keras.models import Sequential\n",
    "from keras.layers import Dense\n",
    "from keras.layers import LSTM\n",
    "from keras.layers import Activation\n",
    "from keras.layers import Dropout\n",
    "from keras.models import load_model\n",
    "\n",
    "model = load_model('di_new_model.h5')"
   ]
  },
  {
   "cell_type": "code",
   "execution_count": 11,
   "metadata": {},
   "outputs": [
    {
     "name": "stdout",
     "output_type": "stream",
     "text": [
      "[1 1 1 1 1 1]\n"
     ]
    }
   ],
   "source": [
    "print(model.predict_classes(arr))"
   ]
  },
  {
   "cell_type": "code",
   "execution_count": 12,
   "metadata": {},
   "outputs": [
    {
     "data": {
      "text/plain": [
       "array([[4.6981447e-17, 1.0000000e+00, 7.9821674e-14, 2.3182189e-19,\n",
       "        6.1451313e-12, 4.7174423e-13, 2.0969488e-13, 1.8793634e-20,\n",
       "        6.9035241e-18, 1.6074851e-14],\n",
       "       [4.3804057e-17, 1.0000000e+00, 2.5448873e-14, 7.1206202e-20,\n",
       "        1.5765094e-12, 4.4286501e-14, 1.2330572e-13, 5.3764203e-21,\n",
       "        6.8350229e-19, 2.2250554e-15],\n",
       "       [4.3039475e-17, 1.0000000e+00, 2.2454996e-14, 3.0069970e-20,\n",
       "        1.0336970e-12, 4.3424205e-14, 9.7145883e-14, 4.5927002e-21,\n",
       "        4.0798220e-19, 1.7001231e-15],\n",
       "       [1.5797028e-16, 1.0000000e+00, 1.3425029e-13, 3.0671836e-19,\n",
       "        7.4303359e-12, 4.3568481e-14, 5.9913375e-13, 1.9525075e-20,\n",
       "        7.6705641e-18, 8.5637089e-15],\n",
       "       [4.4936183e-16, 1.0000000e+00, 4.3188055e-14, 1.1769109e-19,\n",
       "        6.6282691e-12, 7.4518435e-14, 1.0823283e-12, 1.0316345e-20,\n",
       "        2.6257269e-17, 7.4743314e-15],\n",
       "       [4.3804057e-17, 1.0000000e+00, 2.5448873e-14, 7.1206202e-20,\n",
       "        1.5765094e-12, 4.4286501e-14, 1.2330572e-13, 5.3764203e-21,\n",
       "        6.8350229e-19, 2.2250554e-15]], dtype=float32)"
      ]
     },
     "execution_count": 12,
     "metadata": {},
     "output_type": "execute_result"
    }
   ],
   "source": [
    "model.predict(arr)"
   ]
  }
 ],
 "metadata": {
  "kernelspec": {
   "display_name": "Environment (conda_tensorflow_p36)",
   "language": "python",
   "name": "conda_tensorflow_p36"
  },
  "language_info": {
   "codemirror_mode": {
    "name": "ipython",
    "version": 3
   },
   "file_extension": ".py",
   "mimetype": "text/x-python",
   "name": "python",
   "nbconvert_exporter": "python",
   "pygments_lexer": "ipython3",
   "version": "3.6.5"
  }
 },
 "nbformat": 4,
 "nbformat_minor": 2
}
