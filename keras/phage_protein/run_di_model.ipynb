{
 "cells": [
  {
   "cell_type": "code",
   "execution_count": null,
   "metadata": {},
   "outputs": [],
   "source": [
    "import numpy\n",
    "import itertools\n",
    "from Bio.Seq import Seq\n",
    "from Bio.Alphabet import IUPAC\n",
    "from Bio import SeqIO\n",
    "from Bio.SeqUtils.ProtParam import ProteinAnalysis\n",
    "from scipy import stats\n",
    "from Bio.Alphabet import IUPAC\n",
    "#from itertools import permutations\n",
    "AA=[\"A\",\"C\",\"D\",\"E\",\"F\",\"G\",\"H\",\"I\",\"K\",\"L\",\"M\",\"N\",\"P\",\"Q\",\"R\",\"S\",\"T\",\"V\",\"W\",\"Y\"]"
   ]
  },
  {
   "cell_type": "markdown",
   "metadata": {},
   "source": [
    "generate all dipeptides"
   ]
  },
  {
   "cell_type": "code",
   "execution_count": null,
   "metadata": {},
   "outputs": [],
   "source": [
    "dipep = [''.join(i) for i in itertools.product(AA, repeat = 2)]"
   ]
  },
  {
   "cell_type": "markdown",
   "metadata": {},
   "source": [
    "The next two blocks read and extract features from two fasta files "
   ]
  },
  {
   "cell_type": "code",
   "execution_count": null,
   "metadata": {},
   "outputs": [],
   "source": [
    "arr = numpy.empty((0,407), dtype=numpy.float)\n",
    "names = numpy.empty((0,1),  dtype=object)\n",
    "for record in SeqIO.parse('A45_phage_orfs.txt', \"fasta\"):\n",
    "        ll=len(record.seq)\n",
    "        #print(record.id)\n",
    "        #print(ll)\n",
    "        #print(record.seq)\n",
    "        X = ProteinAnalysis(record.seq.__str__().replace('X','A').replace('J','L'))\n",
    "        tt= [X.isoelectric_point(), X.instability_index(),ll,X.aromaticity(),\n",
    "            X.molar_extinction_coefficient()[0],X.molar_extinction_coefficient()[1],\n",
    "            X.gravy()]\n",
    "        tt_n = numpy.asarray(tt,dtype=numpy.float)\n",
    "\n",
    "        dipep_count=[record.seq.count(i)/ll for i in dipep]\n",
    "        dipep_count_n = numpy.asarray(dipep_count,dtype=numpy.float)\n",
    "    \n",
    "        cat_n= numpy.append(dipep_count_n,tt_n)\n",
    "        cat_n = cat_n.reshape((1,cat_n.shape[0]))\n",
    "\n",
    "        arr = numpy.append(arr,cat_n , axis=0)\n",
    "        names = numpy.append(names,record.id)\n",
    "        "
   ]
  },
  {
   "cell_type": "code",
   "execution_count": null,
   "metadata": {},
   "outputs": [],
   "source": [
    "arr2 = numpy.empty((0,407), dtype=numpy.float)\n",
    "names2 = numpy.empty((0,1),  dtype=object)\n",
    "for record in SeqIO.parse('Pluteo_MACcluster_Shikuma84ORFs.txt', \"fasta\"):\n",
    "        ll=len(record.seq)\n",
    "        X = ProteinAnalysis(record.seq.__str__().replace('X','A').replace('J','L'))\n",
    "        tt= [X.isoelectric_point(), X.instability_index(),ll,X.aromaticity(),\n",
    "            X.molar_extinction_coefficient()[0],X.molar_extinction_coefficient()[1],\n",
    "            X.gravy()]\n",
    "        tt_n = numpy.asarray(tt,dtype=numpy.float)\n",
    "\n",
    "        dipep_count=[record.seq.count(i)/ll for i in dipep]\n",
    "        dipep_count_n = numpy.asarray(dipep_count,dtype=numpy.float)\n",
    "    \n",
    "        cat_n= numpy.append(dipep_count_n,tt_n)\n",
    "        cat_n = cat_n.reshape((1,cat_n.shape[0]))\n",
    "\n",
    "        arr2 = numpy.append(arr2,cat_n , axis=0)\n",
    "        names2 = numpy.append(names2,record.id)"
   ]
  },
  {
   "cell_type": "markdown",
   "metadata": {},
   "source": [
    "Load mean and standar deviation from the training features, this is needed for the Z-score"
   ]
  },
  {
   "cell_type": "code",
   "execution_count": null,
   "metadata": {},
   "outputs": [],
   "source": [
    "import pickle\n",
    "mean_arr=pickle.load(open( \"dipep_new_mean.p\", \"rb\" ) )\n",
    "std_arr=pickle.load(open( \"dipep_new_std.p\", \"rb\" ) )"
   ]
  },
  {
   "cell_type": "markdown",
   "metadata": {},
   "source": [
    "get the Z-score"
   ]
  },
  {
   "cell_type": "code",
   "execution_count": null,
   "metadata": {},
   "outputs": [],
   "source": [
    "for i in range(arr.shape[0]):\n",
    "    for j in range(arr.shape[1]):\n",
    "        arr[i,j]=(arr[i,j]-mean_arr[j])/std_arr[j]\n",
    "\n",
    "for i in range(arr2.shape[0]):\n",
    "    for j in range(arr2.shape[1]):\n",
    "        arr2[i,j]=(arr2[i,j]-mean_arr[j])/std_arr[j]"
   ]
  },
  {
   "cell_type": "markdown",
   "metadata": {},
   "source": [
    "load model"
   ]
  },
  {
   "cell_type": "code",
   "execution_count": null,
   "metadata": {},
   "outputs": [],
   "source": [
    "from keras.models import Sequential\n",
    "from keras.layers import Dense\n",
    "from keras.layers import LSTM\n",
    "from keras.layers import Activation\n",
    "from keras.layers import Dropout\n",
    "from keras.models import load_model\n",
    "\n",
    "model = load_model('di_new_model.h5')"
   ]
  },
  {
   "cell_type": "markdown",
   "metadata": {},
   "source": [
    "run predictions"
   ]
  },
  {
   "cell_type": "code",
   "execution_count": null,
   "metadata": {},
   "outputs": [],
   "source": [
    "arr_pred=model.predict(arr)\n",
    "arr_pred2=model.predict(arr2)"
   ]
  },
  {
   "cell_type": "markdown",
   "metadata": {},
   "source": [
    "generate tables"
   ]
  },
  {
   "cell_type": "code",
   "execution_count": null,
   "metadata": {},
   "outputs": [],
   "source": [
    "import pandas as pd\n",
    "col_names=[\"major capsid\",\"minor capsid\",\"baseplate\",\n",
    "           \"major tail\",\"minor tail\",\"portal\",\n",
    "           \"tail fiber\",\"tail shaft\",\"colar\",\n",
    "           \"HTJ\"]\n",
    "table1=pd.DataFrame(data=arr_pred,\n",
    "                index=names,\n",
    "                columns=col_names\n",
    "                )\n",
    "table2=pd.DataFrame(data=arr_pred2,\n",
    "                index=names2,\n",
    "                columns=col_names\n",
    "                )\n"
   ]
  },
  {
   "cell_type": "code",
   "execution_count": null,
   "metadata": {},
   "outputs": [],
   "source": [
    "table1.style.format(\"{:.2f}\").highlight_max(axis=1)\n",
    "\n",
    "#print(str.render())"
   ]
  },
  {
   "cell_type": "code",
   "execution_count": null,
   "metadata": {},
   "outputs": [],
   "source": [
    "table2.style.format(\"{:.2f}\").highlight_max(axis=1)"
   ]
  }
 ],
 "metadata": {
  "kernelspec": {
   "display_name": "Environment (conda_tensorflow_p36)",
   "language": "python",
   "name": "conda_tensorflow_p36"
  },
  "language_info": {
   "codemirror_mode": {
    "name": "ipython",
    "version": 3
   },
   "file_extension": ".py",
   "mimetype": "text/x-python",
   "name": "python",
   "nbconvert_exporter": "python",
   "pygments_lexer": "ipython3",
   "version": "3.6.5"
  }
 },
 "nbformat": 4,
 "nbformat_minor": 2
}
