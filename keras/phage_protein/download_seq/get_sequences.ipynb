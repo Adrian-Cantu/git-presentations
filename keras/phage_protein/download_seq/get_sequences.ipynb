{
 "cells": [
  {
   "cell_type": "code",
   "execution_count": 1,
   "metadata": {},
   "outputs": [],
   "source": [
    "from Bio import Entrez\n",
    "from urllib.error import HTTPError\n",
    "Entrez.email = \"garbanyo@gmail.com\"\n",
    "#from numba import jit"
   ]
  },
  {
   "cell_type": "code",
   "execution_count": 2,
   "metadata": {},
   "outputs": [],
   "source": [
    "def get_sequences(search_results, out=\"out.fasta\", batch_size = 1000):\n",
    "    webenv = search_results[\"WebEnv\"]\n",
    "    query_key = search_results[\"QueryKey\"]\n",
    "    count= int(search_results[\"Count\"])\n",
    "    out_handle = open(out, \"w\")\n",
    "    for start in range(0, count, batch_size):\n",
    "        end = min(count, start+batch_size)\n",
    "        print(\"Going to download record %i to %i of %i\" % (start+1, end, count))\n",
    "        attempt = 0\n",
    "        while attempt < 3:\n",
    "            attempt += 1\n",
    "            try:\n",
    "                fetch_handle = Entrez.efetch(db=\"protein\",\n",
    "                                         rettype=\"fasta\", retmode=\"text\",\n",
    "                                         retstart=start, retmax=batch_size,\n",
    "                                         webenv=webenv, query_key=query_key,\n",
    "                                         idtype=\"acc\")\n",
    "            except HTTPError as err:\n",
    "                if 500 <= err.code <= 599:\n",
    "                    print(\"Received error from server %s\" % err)\n",
    "                    print(\"Attempt %i of 3\" % attempt)\n",
    "                    time.sleep(15)\n",
    "                else:\n",
    "                    raise\n",
    "        data = fetch_handle.read()\n",
    "        fetch_handle.close()\n",
    "        out_handle.write(data)\n",
    "    out_handle.close()\n",
    "    print(\"Done\")"
   ]
  },
  {
   "cell_type": "code",
   "execution_count": 3,
   "metadata": {},
   "outputs": [],
   "source": [
    "def get_search(term, extra=''):\n",
    "    handle = Entrez.esearch(db=\"protein\", term='('+ term +'[Title]) AND phage[Title] NOT hypothetical[Title] ' +\n",
    "                        'NOT putative[Title] AND 50:1000000[SLEN] NOT putitive[Title] ' +\n",
    "                        'NOT probable[Title] NOT possible[Title] AND \"viruses\"[porgn:__txid10239] ' + extra,\n",
    "                        idtype=\"acc\",usehistory=\"y\")\n",
    "    search_results = Entrez.read(handle)\n",
    "    handle.close()\n",
    "    return search_results"
   ]
  },
  {
   "cell_type": "code",
   "execution_count": 4,
   "metadata": {},
   "outputs": [],
   "source": [
    "def get_full_search(term, extra=''):\n",
    "    handle = Entrez.esearch(db=\"protein\", term=term +' AND phage[Title] NOT hypothetical[Title] ' +\n",
    "                        'NOT putative[Title] AND 50:1000000[SLEN] NOT putitive[Title] ' +\n",
    "                        'NOT probable[Title] NOT possible[Title] AND \"viruses\"[porgn:__txid10239] ' + extra,\n",
    "                        idtype=\"acc\",usehistory=\"y\")\n",
    "    search_results = Entrez.read(handle)\n",
    "    handle.close()\n",
    "    return search_results"
   ]
  },
  {
   "cell_type": "code",
   "execution_count": 5,
   "metadata": {},
   "outputs": [
    {
     "name": "stdout",
     "output_type": "stream",
     "text": [
      "Going to download record 1 to 1000 of 4853\n",
      "Going to download record 1001 to 2000 of 4853\n",
      "Going to download record 2001 to 3000 of 4853\n",
      "Going to download record 3001 to 4000 of 4853\n",
      "Going to download record 4001 to 4853 of 4853\n",
      "Done\n"
     ]
    }
   ],
   "source": [
    "search_results = get_search('major capsid')\n",
    "get_sequences(search_results,out='major_capsid.fasta')"
   ]
  },
  {
   "cell_type": "code",
   "execution_count": 6,
   "metadata": {},
   "outputs": [
    {
     "name": "stdout",
     "output_type": "stream",
     "text": [
      "Going to download record 1 to 683 of 683\n",
      "Done\n"
     ]
    }
   ],
   "source": [
    "search_results = get_search('minor capsid')\n",
    "get_sequences(search_results,out='minor_capsid.fasta')"
   ]
  },
  {
   "cell_type": "code",
   "execution_count": 7,
   "metadata": {},
   "outputs": [],
   "source": [
    "#search_results = get_search('capsid',extra='NOT minor[Title] NOT major[Title]')\n",
    "#print(int(search_results[\"Count\"]))\n",
    "#get_sequences(search_results,out='capsid.fasta')"
   ]
  },
  {
   "cell_type": "code",
   "execution_count": 8,
   "metadata": {},
   "outputs": [
    {
     "name": "stdout",
     "output_type": "stream",
     "text": [
      "Going to download record 1 to 1000 of 7745\n",
      "Going to download record 1001 to 2000 of 7745\n",
      "Going to download record 2001 to 3000 of 7745\n",
      "Going to download record 3001 to 4000 of 7745\n",
      "Going to download record 4001 to 5000 of 7745\n",
      "Going to download record 5001 to 6000 of 7745\n",
      "Going to download record 6001 to 7000 of 7745\n",
      "Going to download record 7001 to 7745 of 7745\n",
      "Done\n"
     ]
    }
   ],
   "source": [
    "search_results = get_search('baseplate')\n",
    "get_sequences(search_results,out='baseplate.fasta')"
   ]
  },
  {
   "cell_type": "code",
   "execution_count": 9,
   "metadata": {},
   "outputs": [
    {
     "name": "stdout",
     "output_type": "stream",
     "text": [
      "Going to download record 1 to 1000 of 3717\n",
      "Going to download record 1001 to 2000 of 3717\n",
      "Going to download record 2001 to 3000 of 3717\n",
      "Going to download record 3001 to 3717 of 3717\n",
      "Done\n"
     ]
    }
   ],
   "source": [
    "search_results = get_search('major tail')\n",
    "get_sequences(search_results,out='major_tail.fasta')"
   ]
  },
  {
   "cell_type": "code",
   "execution_count": 10,
   "metadata": {},
   "outputs": [
    {
     "name": "stdout",
     "output_type": "stream",
     "text": [
      "Going to download record 1 to 1000 of 11307\n",
      "Going to download record 1001 to 2000 of 11307\n",
      "Going to download record 2001 to 3000 of 11307\n",
      "Going to download record 3001 to 4000 of 11307\n",
      "Going to download record 4001 to 5000 of 11307\n",
      "Going to download record 5001 to 6000 of 11307\n",
      "Going to download record 6001 to 7000 of 11307\n",
      "Going to download record 7001 to 8000 of 11307\n",
      "Going to download record 8001 to 9000 of 11307\n",
      "Going to download record 9001 to 10000 of 11307\n",
      "Going to download record 10001 to 11000 of 11307\n",
      "Going to download record 11001 to 11307 of 11307\n",
      "Done\n"
     ]
    }
   ],
   "source": [
    "search_results = get_search('minor tail')\n",
    "get_sequences(search_results,out='minor_tail.fasta')"
   ]
  },
  {
   "cell_type": "code",
   "execution_count": 11,
   "metadata": {},
   "outputs": [
    {
     "name": "stdout",
     "output_type": "stream",
     "text": [
      "Going to download record 1 to 1000 of 5623\n",
      "Going to download record 1001 to 2000 of 5623\n",
      "Going to download record 2001 to 3000 of 5623\n",
      "Going to download record 3001 to 4000 of 5623\n",
      "Going to download record 4001 to 5000 of 5623\n",
      "Going to download record 5001 to 5623 of 5623\n",
      "Done\n"
     ]
    }
   ],
   "source": [
    "search_results = get_search('portal')\n",
    "get_sequences(search_results,out='portal.fasta')"
   ]
  },
  {
   "cell_type": "code",
   "execution_count": 12,
   "metadata": {},
   "outputs": [
    {
     "name": "stdout",
     "output_type": "stream",
     "text": [
      "Going to download record 1 to 1000 of 4574\n",
      "Going to download record 1001 to 2000 of 4574\n",
      "Going to download record 2001 to 3000 of 4574\n",
      "Going to download record 3001 to 4000 of 4574\n",
      "Going to download record 4001 to 4574 of 4574\n",
      "Done\n"
     ]
    }
   ],
   "source": [
    "search_results = get_search('tail fiber')\n",
    "get_sequences(search_results,out='tail_fiber.fasta')"
   ]
  },
  {
   "cell_type": "code",
   "execution_count": 13,
   "metadata": {},
   "outputs": [
    {
     "name": "stdout",
     "output_type": "stream",
     "text": [
      "Going to download record 1 to 403 of 403\n",
      "Done\n"
     ]
    }
   ],
   "source": [
    "search_results = get_search('collar')\n",
    "get_sequences(search_results,out='collar.fasta')"
   ]
  }
 ],
 "metadata": {
  "kernelspec": {
   "display_name": "Environment (conda_tensor_4)",
   "language": "python",
   "name": "conda_tensor_4"
  },
  "language_info": {
   "codemirror_mode": {
    "name": "ipython",
    "version": 3
   },
   "file_extension": ".py",
   "mimetype": "text/x-python",
   "name": "python",
   "nbconvert_exporter": "python",
   "pygments_lexer": "ipython3",
   "version": "3.6.7"
  }
 },
 "nbformat": 4,
 "nbformat_minor": 2
}
