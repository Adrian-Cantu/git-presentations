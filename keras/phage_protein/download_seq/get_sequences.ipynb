{
 "cells": [
  {
   "cell_type": "code",
   "execution_count": 1,
   "metadata": {},
   "outputs": [],
   "source": [
    "from Bio import Entrez\n",
    "from urllib.error import HTTPError\n",
    "Entrez.email = \"garbanyo@gmail.com\"\n",
    "#from numba import jit"
   ]
  },
  {
   "cell_type": "code",
   "execution_count": 18,
   "metadata": {},
   "outputs": [],
   "source": [
    "def get_sequences(search_results, out=\"out.fasta\", batch_size = 5000, start_batch=0):\n",
    "    webenv = search_results[\"WebEnv\"]\n",
    "    query_key = search_results[\"QueryKey\"]\n",
    "    count= int(search_results[\"Count\"])\n",
    "#    count=len(search_results[\"IdList\"])\n",
    "    out_handle = open(out, \"w\")\n",
    "    for start in range(start_batch*batch_size, count, batch_size):\n",
    "        end = min(count, start+batch_size)\n",
    "        print(\"Going to download record %i to %i of %i (batch %i)\" % (start+1, end, count, start/batch_size))\n",
    "        attempt = 0\n",
    "        while attempt < 3:\n",
    "            attempt += 1\n",
    "            try:\n",
    "                fetch_handle = Entrez.efetch(db=\"protein\",\n",
    "                                         rettype=\"fasta\", retmode=\"text\",\n",
    "                                         retstart=start, retmax=batch_size,\n",
    "                                         webenv=webenv, query_key=query_key,\n",
    "                                         idtype=\"acc\")\n",
    "            except HTTPError as err:\n",
    "                if 500 <= err.code <= 599:\n",
    "                    print(\"Received error from server %s\" % err)\n",
    "                    print(\"Attempt %i of 3\" % attempt)\n",
    "                    time.sleep(15)\n",
    "                else:\n",
    "                    raise\n",
    "        data = fetch_handle.read()\n",
    "        fetch_handle.close()\n",
    "        out_handle.write(data)\n",
    "    out_handle.close()\n",
    "    print(\"Done\")"
   ]
  },
  {
   "cell_type": "code",
   "execution_count": 3,
   "metadata": {},
   "outputs": [],
   "source": [
    "def get_search(term, extra=''):\n",
    "    handle = Entrez.esearch(db=\"protein\", term='('+ term +'[Title]) AND phage[Title] NOT hypothetical[Title] ' +\n",
    "                        'NOT putative[Title] AND 50:1000000[SLEN] NOT putitive[Title] ' +\n",
    "                        'NOT probable[Title] NOT possible[Title] NOT unknown[Title] ' + extra,\n",
    "                        idtype=\"acc\",usehistory=\"y\")\n",
    "    #,retmax=2000\n",
    "    search_results = Entrez.read(handle)\n",
    "    handle.close()\n",
    "    return search_results"
   ]
  },
  {
   "cell_type": "code",
   "execution_count": 4,
   "metadata": {},
   "outputs": [],
   "source": [
    "def get_full_search(term, extra=''):\n",
    "    handle = Entrez.esearch(db=\"protein\", term=term +' AND phage[Title] NOT hypothetical[Title] ' +\n",
    "                        'NOT putative[Title] AND 50:1000000[SLEN] NOT putitive[Title] ' +\n",
    "                        'NOT probable[Title] NOT possible[Title] NOT unknown[Title]' + extra,\n",
    "                        idtype=\"acc\",usehistory=\"y\")\n",
    "    # AND \"viruses\"[porgn:__txid10239] \n",
    "    search_results = Entrez.read(handle)\n",
    "    handle.close()\n",
    "    return search_results"
   ]
  },
  {
   "cell_type": "code",
   "execution_count": 20,
   "metadata": {},
   "outputs": [
    {
     "name": "stdout",
     "output_type": "stream",
     "text": [
      "Going to download record 105001 to 110000 of 113612 (batch 21)\n",
      "Going to download record 110001 to 113612 of 113612 (batch 22)\n",
      "Done\n"
     ]
    }
   ],
   "source": [
    "#doneist\n",
    "search_results = get_search('major capsid')\n",
    "get_sequences(search_results,out='major_capsid4.fasta',start_batch=21)\n",
    "#113612\n"
   ]
  },
  {
   "cell_type": "code",
   "execution_count": 23,
   "metadata": {},
   "outputs": [
    {
     "name": "stdout",
     "output_type": "stream",
     "text": [
      "Going to download record 1 to 2901 of 2901 (batch 0)\n",
      "Done\n"
     ]
    }
   ],
   "source": [
    "#done\n",
    "search_results = get_search('minor capsid')\n",
    "get_sequences(search_results,out='minor_capsid.fasta')"
   ]
  },
  {
   "cell_type": "code",
   "execution_count": null,
   "metadata": {},
   "outputs": [],
   "source": [
    "#search_results = get_search('capsid',extra='NOT minor[Title] NOT major[Title]')\n",
    "#print(int(search_results[\"Count\"]))\n",
    "#get_sequences(search_results,out='capsid.fasta')"
   ]
  },
  {
   "cell_type": "code",
   "execution_count": 22,
   "metadata": {},
   "outputs": [
    {
     "name": "stdout",
     "output_type": "stream",
     "text": [
      "Going to download record 1 to 5000 of 76073 (batch 0)\n",
      "Going to download record 5001 to 10000 of 76073 (batch 1)\n",
      "Going to download record 10001 to 15000 of 76073 (batch 2)\n",
      "Going to download record 15001 to 20000 of 76073 (batch 3)\n",
      "Going to download record 20001 to 25000 of 76073 (batch 4)\n",
      "Going to download record 25001 to 30000 of 76073 (batch 5)\n",
      "Going to download record 30001 to 35000 of 76073 (batch 6)\n",
      "Going to download record 35001 to 40000 of 76073 (batch 7)\n",
      "Going to download record 40001 to 45000 of 76073 (batch 8)\n",
      "Going to download record 45001 to 50000 of 76073 (batch 9)\n",
      "Going to download record 50001 to 55000 of 76073 (batch 10)\n",
      "Going to download record 55001 to 60000 of 76073 (batch 11)\n",
      "Going to download record 60001 to 65000 of 76073 (batch 12)\n",
      "Going to download record 65001 to 70000 of 76073 (batch 13)\n",
      "Going to download record 70001 to 75000 of 76073 (batch 14)\n",
      "Going to download record 75001 to 76073 of 76073 (batch 15)\n",
      "Done\n"
     ]
    }
   ],
   "source": [
    "#done\n",
    "search_results = get_search('baseplate')\n",
    "get_sequences(search_results,out='baseplate.fasta')"
   ]
  },
  {
   "cell_type": "code",
   "execution_count": 21,
   "metadata": {},
   "outputs": [
    {
     "name": "stdout",
     "output_type": "stream",
     "text": [
      "Going to download record 30001 to 35000 of 66513 (batch 6)\n",
      "Going to download record 35001 to 40000 of 66513 (batch 7)\n",
      "Going to download record 40001 to 45000 of 66513 (batch 8)\n",
      "Going to download record 45001 to 50000 of 66513 (batch 9)\n",
      "Going to download record 50001 to 55000 of 66513 (batch 10)\n",
      "Going to download record 55001 to 60000 of 66513 (batch 11)\n",
      "Going to download record 60001 to 65000 of 66513 (batch 12)\n",
      "Going to download record 65001 to 66513 of 66513 (batch 13)\n",
      "Done\n"
     ]
    }
   ],
   "source": [
    "#donemv vv\n",
    "search_results = get_search('major tail')\n",
    "get_sequences(search_results,out='major_tail2.fasta',start_batch=6)"
   ]
  },
  {
   "cell_type": "code",
   "execution_count": 8,
   "metadata": {},
   "outputs": [
    {
     "name": "stdout",
     "output_type": "stream",
     "text": [
      "Going to download record 1 to 5000 of 94635\n",
      "Going to download record 5001 to 10000 of 94635\n",
      "Going to download record 10001 to 15000 of 94635\n",
      "Going to download record 15001 to 20000 of 94635\n",
      "Going to download record 20001 to 25000 of 94635\n",
      "Going to download record 25001 to 30000 of 94635\n",
      "Going to download record 30001 to 35000 of 94635\n",
      "Going to download record 35001 to 40000 of 94635\n",
      "Going to download record 40001 to 45000 of 94635\n",
      "Going to download record 45001 to 50000 of 94635\n",
      "Going to download record 50001 to 55000 of 94635\n",
      "Going to download record 55001 to 60000 of 94635\n",
      "Going to download record 60001 to 65000 of 94635\n",
      "Going to download record 65001 to 70000 of 94635\n",
      "Going to download record 70001 to 75000 of 94635\n",
      "Going to download record 75001 to 80000 of 94635\n",
      "Going to download record 80001 to 85000 of 94635\n",
      "Going to download record 85001 to 90000 of 94635\n",
      "Going to download record 90001 to 94635 of 94635\n",
      "Done\n"
     ]
    }
   ],
   "source": [
    "#done\n",
    "search_results = get_search('minor tail')\n",
    "get_sequences(search_results,out='minor_tail.fasta')"
   ]
  },
  {
   "cell_type": "code",
   "execution_count": 6,
   "metadata": {},
   "outputs": [
    {
     "name": "stdout",
     "output_type": "stream",
     "text": [
      "Going to download record 1 to 5000 of 210036\n",
      "Going to download record 5001 to 10000 of 210036\n",
      "Going to download record 10001 to 15000 of 210036\n",
      "Going to download record 15001 to 20000 of 210036\n",
      "Going to download record 20001 to 25000 of 210036\n",
      "Going to download record 25001 to 30000 of 210036\n",
      "Going to download record 30001 to 35000 of 210036\n",
      "Going to download record 35001 to 40000 of 210036\n",
      "Going to download record 40001 to 45000 of 210036\n",
      "Going to download record 45001 to 50000 of 210036\n",
      "Going to download record 50001 to 55000 of 210036\n",
      "Going to download record 55001 to 60000 of 210036\n",
      "Going to download record 60001 to 65000 of 210036\n",
      "Going to download record 65001 to 70000 of 210036\n",
      "Going to download record 70001 to 75000 of 210036\n",
      "Going to download record 75001 to 80000 of 210036\n",
      "Going to download record 80001 to 85000 of 210036\n",
      "Going to download record 85001 to 90000 of 210036\n",
      "Going to download record 90001 to 95000 of 210036\n",
      "Going to download record 95001 to 100000 of 210036\n",
      "Going to download record 100001 to 105000 of 210036\n",
      "Going to download record 105001 to 110000 of 210036\n",
      "Going to download record 110001 to 115000 of 210036\n",
      "Going to download record 115001 to 120000 of 210036\n",
      "Going to download record 120001 to 125000 of 210036\n",
      "Going to download record 125001 to 130000 of 210036\n",
      "Going to download record 130001 to 135000 of 210036\n",
      "Going to download record 135001 to 140000 of 210036\n",
      "Going to download record 140001 to 145000 of 210036\n",
      "Going to download record 145001 to 150000 of 210036\n",
      "Going to download record 150001 to 155000 of 210036\n",
      "Going to download record 155001 to 160000 of 210036\n",
      "Going to download record 160001 to 165000 of 210036\n",
      "Going to download record 165001 to 170000 of 210036\n",
      "Going to download record 170001 to 175000 of 210036\n",
      "Going to download record 175001 to 180000 of 210036\n",
      "Going to download record 180001 to 185000 of 210036\n",
      "Going to download record 185001 to 190000 of 210036\n",
      "Going to download record 190001 to 195000 of 210036\n",
      "Going to download record 195001 to 200000 of 210036\n",
      "Going to download record 200001 to 205000 of 210036\n",
      "Going to download record 205001 to 210000 of 210036\n",
      "Going to download record 210001 to 210036 of 210036\n",
      "Done\n"
     ]
    }
   ],
   "source": [
    "#done\n",
    "search_results = get_search('portal')\n",
    "get_sequences(search_results,out='portal.fasta')"
   ]
  },
  {
   "cell_type": "code",
   "execution_count": 5,
   "metadata": {},
   "outputs": [
    {
     "name": "stdout",
     "output_type": "stream",
     "text": [
      "Going to download record 1 to 5000 of 29133\n",
      "Going to download record 5001 to 10000 of 29133\n",
      "Going to download record 10001 to 15000 of 29133\n",
      "Going to download record 15001 to 20000 of 29133\n",
      "Going to download record 20001 to 25000 of 29133\n",
      "Going to download record 25001 to 29133 of 29133\n",
      "Done\n"
     ]
    }
   ],
   "source": [
    "#done\n",
    "search_results = get_search('tail fiber')\n",
    "get_sequences(search_results,out='tail_fiber.fasta')"
   ]
  },
  {
   "cell_type": "code",
   "execution_count": 7,
   "metadata": {},
   "outputs": [
    {
     "name": "stdout",
     "output_type": "stream",
     "text": [
      "Going to download record 1 to 4224 of 4224\n",
      "Done\n"
     ]
    }
   ],
   "source": [
    "#dome\n",
    "search_results = get_search('collar')\n",
    "get_sequences(search_results,out='collar.fasta')"
   ]
  },
  {
   "cell_type": "code",
   "execution_count": 6,
   "metadata": {},
   "outputs": [
    {
     "name": "stdout",
     "output_type": "stream",
     "text": [
      "Going to download record 1 to 5000 of 37885\n",
      "Going to download record 5001 to 10000 of 37885\n",
      "Going to download record 10001 to 15000 of 37885\n",
      "Going to download record 15001 to 20000 of 37885\n",
      "Going to download record 20001 to 25000 of 37885\n",
      "Going to download record 25001 to 30000 of 37885\n",
      "Going to download record 30001 to 35000 of 37885\n",
      "Going to download record 35001 to 37885 of 37885\n",
      "Done\n"
     ]
    }
   ],
   "source": [
    "#done\n",
    "search_results = get_full_search('tail[Title] AND (shaft[Title] OR sheath[Title])')\n",
    "get_sequences(search_results,out='shaft.fasta')"
   ]
  },
  {
   "cell_type": "code",
   "execution_count": 27,
   "metadata": {},
   "outputs": [
    {
     "name": "stdout",
     "output_type": "stream",
     "text": [
      "Going to download record 20001 to 25000 of 60270 (batch 4)\n",
      "Going to download record 25001 to 30000 of 60270 (batch 5)\n",
      "Going to download record 30001 to 35000 of 60270 (batch 6)\n",
      "Going to download record 35001 to 40000 of 60270 (batch 7)\n",
      "Going to download record 40001 to 45000 of 60270 (batch 8)\n",
      "Going to download record 45001 to 50000 of 60270 (batch 9)\n",
      "Going to download record 50001 to 55000 of 60270 (batch 10)\n",
      "Going to download record 55001 to 60000 of 60270 (batch 11)\n",
      "Going to download record 60001 to 60270 of 60270 (batch 12)\n",
      "Done\n"
     ]
    }
   ],
   "source": [
    "search_results = get_search('head-tail joinning')\n",
    "get_sequences(search_results,out='HTJls2.fasta',start_batch=4)"
   ]
  }
 ],
 "metadata": {
  "kernelspec": {
   "display_name": "Environment (conda_tensor_4)",
   "language": "python",
   "name": "conda_tensor_4"
  },
  "language_info": {
   "codemirror_mode": {
    "name": "ipython",
    "version": 3
   },
   "file_extension": ".py",
   "mimetype": "text/x-python",
   "name": "python",
   "nbconvert_exporter": "python",
   "pygments_lexer": "ipython3",
   "version": "3.6.7"
  }
 },
 "nbformat": 4,
 "nbformat_minor": 2
}
