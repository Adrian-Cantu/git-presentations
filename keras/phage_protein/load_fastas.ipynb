{
 "cells": [
  {
   "cell_type": "code",
   "execution_count": 1,
   "metadata": {},
   "outputs": [],
   "source": [
    "import numpy\n",
    "import itertools\n",
    "from Bio.Seq import Seq\n",
    "from Bio.Alphabet import IUPAC\n",
    "from Bio import SeqIO\n",
    "from Bio.SeqUtils.ProtParam import ProteinAnalysis\n",
    "from scipy import stats\n",
    "from Bio.Alphabet import IUPAC\n",
    "#from itertools import permutations\n",
    "AA=[\"A\",\"C\",\"D\",\"E\",\"F\",\"G\",\"H\",\"I\",\"K\",\"L\",\"M\",\"N\",\"P\",\"Q\",\"R\",\"S\",\"T\",\"V\",\"W\",\"Y\"]"
   ]
  },
  {
   "cell_type": "code",
   "execution_count": 2,
   "metadata": {},
   "outputs": [],
   "source": [
    "dipep = [''.join(i) for i in itertools.product(AA, repeat = 2)]"
   ]
  },
  {
   "cell_type": "code",
   "execution_count": 3,
   "metadata": {},
   "outputs": [],
   "source": [
    "#print(dipep)"
   ]
  },
  {
   "cell_type": "code",
   "execution_count": 4,
   "metadata": {},
   "outputs": [
    {
     "name": "stdout",
     "output_type": "stream",
     "text": [
      "####################major_capsid.fasta\n",
      "####################minor_capsid.fasta\n",
      "####################baseplate.fasta\n",
      "####################major_tail.fasta\n",
      "####################minor_tail.fasta\n",
      "####################portal.fasta\n",
      "####################tail_fiber.fasta\n",
      "####################tail_sheath.fasta\n",
      "####################collar.fasta\n",
      "####################htj.fasta\n"
     ]
    }
   ],
   "source": [
    "\n",
    "arr = numpy.empty((0,402), dtype=numpy.float)\n",
    "class_arr = numpy.empty((0), dtype=numpy.int)\n",
    "#print(arr.shape)\n",
    "#print(arr)\n",
    "all_fasta=(\"major_capsid.fasta\",\"minor_capsid.fasta\",\"baseplate.fasta\",\n",
    "          \"major_tail.fasta\",\"minor_tail.fasta\",\"portal.fasta\",\n",
    "          \"tail_fiber.fasta\",\"tail_sheath.fasta\",\"collar.fasta\",\n",
    "          \"htj.fasta\")\n",
    "#print(all_fasta)\n",
    "prot_class=0;\n",
    "for file in all_fasta:\n",
    "    print('####################' + file)\n",
    "    for record in SeqIO.parse(file, \"fasta\"):\n",
    "        #print(record.id)\n",
    "        ll=len(record.seq)\n",
    "        #xx=Seq(str(record.seq),IUPAC.protein)\n",
    "        X = ProteinAnalysis(record.seq.__str__().replace('X','A').replace('J','L'))\n",
    "        #X = ProteinAnalysis(str(xx))\n",
    "        tt= [X.isoelectric_point(), X.instability_index()]\n",
    "        tt_n = numpy.asarray(tt,dtype=numpy.float)\n",
    "\n",
    "        dipep_count=[record.seq.count(i)/ll for i in dipep]\n",
    "        dipep_count_n = numpy.asarray(dipep_count,dtype=numpy.float)\n",
    "    \n",
    "        cat_n= numpy.append(dipep_count_n,tt_n)\n",
    "        cat_n = cat_n.reshape((1,cat_n.shape[0]))\n",
    "\n",
    "        arr = numpy.append(arr,cat_n , axis=0)\n",
    "        class_arr = numpy.append(class_arr,prot_class)\n",
    "    prot_class+=1\n",
    "    \n",
    "\n",
    "    "
   ]
  },
  {
   "cell_type": "code",
   "execution_count": 5,
   "metadata": {},
   "outputs": [
    {
     "name": "stdout",
     "output_type": "stream",
     "text": [
      "(25675, 402)\n",
      "[[ 0.57377186 -0.32328229  0.23723516 ... -0.54030715 -0.91371426\n",
      "  -0.3992156 ]\n",
      " [-0.3978428  -0.32328229 -1.09643786 ... -0.54030715 -0.62372753\n",
      "  -0.274854  ]\n",
      " [ 0.83157573 -0.32328229  0.96904548 ... -0.54030715 -0.82223744\n",
      "  -1.16434231]\n",
      " ...\n",
      " [ 3.52473445 -0.32328229  2.70327206 ... -0.54030715  1.3824358\n",
      "   0.80537142]\n",
      " [-1.0221569  -0.32328229 -1.09643786 ... -0.54030715 -0.5499655\n",
      "  -0.27693521]\n",
      " [ 0.02712572 -0.32328229 -0.21958173 ...  0.14471935 -0.24993047\n",
      "   0.24000084]]\n",
      "[[1.32450331e-02 0.00000000e+00 6.62251656e-03 ... 0.00000000e+00\n",
      "  4.59014893e+00 3.00536424e+01]\n",
      " [5.18134715e-03 0.00000000e+00 0.00000000e+00 ... 0.00000000e+00\n",
      "  5.06573486e+00 3.12961399e+01]\n",
      " [1.53846154e-02 0.00000000e+00 1.02564103e-02 ... 0.00000000e+00\n",
      "  4.74017334e+00 2.24092564e+01]\n",
      " ...\n",
      " [3.77358491e-02 0.00000000e+00 1.88679245e-02 ... 0.00000000e+00\n",
      "  8.35589600e+00 4.20886792e+01]\n",
      " [0.00000000e+00 0.00000000e+00 0.00000000e+00 ... 0.00000000e+00\n",
      "  5.18670654e+00 3.12753465e+01]\n",
      " [8.70827286e-03 0.00000000e+00 4.35413643e-03 ... 1.45137881e-03\n",
      "  5.67877197e+00 3.64400581e+01]]\n",
      "(25675, 402)\n"
     ]
    }
   ],
   "source": [
    " print(arr.shape)\n",
    "\n",
    "#arr_z = numpy.apply_over_axis(stats.zscore,arr,0)\n",
    "arr_z=numpy.apply_along_axis(stats.zscore,0,arr)\n",
    "#arr_z=numpy.apply_along_axis(stats.zscore,0,arr)\n",
    "print(arr_z)\n",
    "print(arr)\n",
    "print(arr_z.shape)\n",
    "#print(prot_class)"
   ]
  },
  {
   "cell_type": "code",
   "execution_count": null,
   "metadata": {},
   "outputs": [],
   "source": []
  },
  {
   "cell_type": "code",
   "execution_count": 6,
   "metadata": {},
   "outputs": [
    {
     "name": "stdout",
     "output_type": "stream",
     "text": [
      "(402,)\n",
      "(402,)\n"
     ]
    }
   ],
   "source": [
    "mean_arr=numpy.apply_along_axis(numpy.mean,0,arr)\n",
    "#print(mean_arr)\n",
    "print(mean_arr.shape)\n",
    "std_arr=numpy.apply_along_axis(numpy.std,0,arr)\n",
    "print(std_arr.shape)"
   ]
  },
  {
   "cell_type": "code",
   "execution_count": 7,
   "metadata": {},
   "outputs": [
    {
     "name": "stdout",
     "output_type": "stream",
     "text": [
      "[[1. 0. 0. ... 0. 0. 0.]\n",
      " [1. 0. 0. ... 0. 0. 0.]\n",
      " [1. 0. 0. ... 0. 0. 0.]\n",
      " ...\n",
      " [0. 0. 0. ... 0. 0. 1.]\n",
      " [0. 0. 0. ... 0. 0. 1.]\n",
      " [0. 0. 0. ... 0. 0. 1.]]\n",
      "(25675, 10)\n"
     ]
    }
   ],
   "source": [
    "#targets = numpy.array([[2, 3, 4, 0]]).reshape(-1)\n",
    "\n",
    "nb_classes = 10\n",
    "one_hot_targets = numpy.eye(nb_classes)[class_arr]\n",
    "print(one_hot_targets)\n",
    "print(one_hot_targets.shape)"
   ]
  },
  {
   "cell_type": "code",
   "execution_count": 12,
   "metadata": {},
   "outputs": [],
   "source": [
    "\n",
    "final = numpy.concatenate((arr_z, one_hot_targets), axis=1)\n",
    "final_raw = numpy.concatenate((arr, one_hot_targets), axis=1)"
   ]
  },
  {
   "cell_type": "code",
   "execution_count": 9,
   "metadata": {},
   "outputs": [],
   "source": [
    "numpy.savetxt('test.out', final, delimiter='\\t') "
   ]
  },
  {
   "cell_type": "code",
   "execution_count": 13,
   "metadata": {},
   "outputs": [],
   "source": [
    "numpy.savetxt('test2.out', final_raw, delimiter='\\t') "
   ]
  },
  {
   "cell_type": "code",
   "execution_count": 14,
   "metadata": {},
   "outputs": [],
   "source": [
    "numpy.random.shuffle(final)\n",
    "numpy.random.shuffle(final_raw)"
   ]
  },
  {
   "cell_type": "code",
   "execution_count": 17,
   "metadata": {},
   "outputs": [],
   "source": [
    "import pickle\n",
    "pickle.dump(final[0:24000,0:402], open( \"dipep_new_train_x.p\", \"wb\" ) )\n",
    "pickle.dump(final[24000:,0:402],  open( \"dipep_new_test_x.p\" , \"wb\" ) )\n",
    "pickle.dump(final[0:24000,402:], open( \"dipep_new_train_y.p\", \"wb\" ) )\n",
    "pickle.dump(final[24000:,402:],  open( \"dipep_new_test_y.p\" , \"wb\" ) )\n",
    "pickle.dump(mean_arr,  open( \"dipep_new_mean.p\" , \"wb\" ) )\n",
    "pickle.dump(std_arr,  open( \"dipep_new_std.p\" , \"wb\" ) )"
   ]
  },
  {
   "cell_type": "code",
   "execution_count": 18,
   "metadata": {},
   "outputs": [],
   "source": [
    "pickle.dump(final_raw[0:24000,0:402], open( \"dipep_raw_new_train_x.p\", \"wb\" ) )\n",
    "pickle.dump(final_raw[24000:,0:402],  open( \"dipep_raw_new_test_x.p\" , \"wb\" ) )\n",
    "pickle.dump(final_raw[0:24000,402:], open( \"dipep_raw_new_train_y.p\", \"wb\" ) )\n",
    "pickle.dump(final_raw[24000:,402:],  open( \"dipep_raw_new_test_y.p\" , \"wb\" ) )"
   ]
  },
  {
   "cell_type": "code",
   "execution_count": null,
   "metadata": {},
   "outputs": [],
   "source": []
  }
 ],
 "metadata": {
  "kernelspec": {
   "display_name": "Python 3",
   "language": "python",
   "name": "python3"
  },
  "language_info": {
   "codemirror_mode": {
    "name": "ipython",
    "version": 3
   },
   "file_extension": ".py",
   "mimetype": "text/x-python",
   "name": "python",
   "nbconvert_exporter": "python",
   "pygments_lexer": "ipython3",
   "version": "3.6.5"
  }
 },
 "nbformat": 4,
 "nbformat_minor": 2
}
