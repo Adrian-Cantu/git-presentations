{
 "cells": [
  {
   "cell_type": "code",
   "execution_count": 1,
   "metadata": {},
   "outputs": [],
   "source": [
    "import os\n",
    "import sys\n",
    "sys.path.append(\"..\")\n",
    "import phage_init"
   ]
  },
  {
   "cell_type": "code",
   "execution_count": null,
   "metadata": {},
   "outputs": [],
   "source": []
  },
  {
   "cell_type": "code",
   "execution_count": 2,
   "metadata": {},
   "outputs": [],
   "source": [
    "#load the saved matrices\n",
    "import pickle\n",
    "train_X_total=pickle.load(open( os.path.join(phage_init.data_dir,\"train_x.p\"), \"rb\" ) )\n",
    "test_X_total=pickle.load(open( os.path.join(phage_init.data_dir,\"test_x.p\"), \"rb\" ) )\n",
    "train_Y=pickle.load(open( os.path.join(phage_init.data_dir,\"train_y.p\"), \"rb\" ) )\n",
    "test_Y=pickle.load(open( os.path.join(phage_init.data_dir,\"test_y.p\"), \"rb\" ) )\n",
    "mean_total=pickle.load(open( os.path.join(phage_init.data_dir,\"mean.p\"), \"rb\" ) )\n",
    "std_total=pickle.load(open( os.path.join(phage_init.data_dir,\"std.p\"), \"rb\" ) )"
   ]
  },
  {
   "cell_type": "code",
   "execution_count": 3,
   "metadata": {},
   "outputs": [],
   "source": [
    "di_train     = train_X_total[:,0:400]\n",
    "tri_train    = train_X_total[:,400:8400]\n",
    "di_sc_train  = train_X_total[:,8400:8449] \n",
    "tri_sc_train = train_X_total[:,8449:8792]\n",
    "tt_train     = train_X_total[:,8792:]"
   ]
  },
  {
   "cell_type": "code",
   "execution_count": 4,
   "metadata": {},
   "outputs": [],
   "source": [
    "di_test     = test_X_total[:,0:400]\n",
    "tri_test    = test_X_total[:,400:8400]\n",
    "di_sc_test  = test_X_total[:,8400:8449] \n",
    "tri_sc_test = test_X_total[:,8449:8792]\n",
    "tt_test     = test_X_total[:,8792:]"
   ]
  },
  {
   "cell_type": "code",
   "execution_count": 5,
   "metadata": {},
   "outputs": [],
   "source": [
    "mean_di     = mean_total[0:400]\n",
    "mean_tri    = mean_total[400:8400]\n",
    "mean_di_sc  = mean_total[8400:8449] \n",
    "mean_tri_sc = mean_total[8449:8792]\n",
    "mean_tt     = mean_total[8792:]"
   ]
  },
  {
   "cell_type": "code",
   "execution_count": null,
   "metadata": {},
   "outputs": [],
   "source": [
    "std_di     = std_total[0:400]\n",
    "std_tri    = std_total[400:8400]\n",
    "std_di_sc  = std_total[8400:8449] \n",
    "std_tri_sc = std_total[8449:8792]\n",
    "std_tt     = std_total[8792:]"
   ]
  },
  {
   "cell_type": "code",
   "execution_count": null,
   "metadata": {},
   "outputs": [
    {
     "name": "stderr",
     "output_type": "stream",
     "text": [
      "Using TensorFlow backend.\n"
     ]
    }
   ],
   "source": [
    "#import keras and numpy\n",
    "import numpy\n",
    "from keras.models import Sequential\n",
    "from keras.layers import Dense\n",
    "from keras.layers import LSTM\n",
    "from keras.layers import Activation\n",
    "from keras.layers import Dropout\n",
    "from keras.optimizers import Adam"
   ]
  },
  {
   "cell_type": "code",
   "execution_count": null,
   "metadata": {},
   "outputs": [
    {
     "name": "stdout",
     "output_type": "stream",
     "text": [
      "(25000, 351)\n",
      "(675, 351)\n"
     ]
    }
   ],
   "source": [
    "\n",
    "train_X =numpy.concatenate((tri_sc_train,tt_train),axis=1)\n",
    "test_X  =numpy.concatenate((tri_sc_test,tt_test),axis=1)\n",
    "#train_X=di_sc_train\n",
    "#test_X=di_sc_test\n",
    "model_name='tri_sc_p.h5'\n",
    "print(train_X.shape)\n",
    "print(test_X.shape)"
   ]
  },
  {
   "cell_type": "code",
   "execution_count": null,
   "metadata": {},
   "outputs": [
    {
     "name": "stdout",
     "output_type": "stream",
     "text": [
      "[name: \"/device:CPU:0\"\n",
      "device_type: \"CPU\"\n",
      "memory_limit: 268435456\n",
      "locality {\n",
      "}\n",
      "incarnation: 16391753317458432191\n",
      ", name: \"/device:XLA_CPU:0\"\n",
      "device_type: \"XLA_CPU\"\n",
      "memory_limit: 17179869184\n",
      "locality {\n",
      "}\n",
      "incarnation: 15540864114754508418\n",
      "physical_device_desc: \"device: XLA_CPU device\"\n",
      "]\n"
     ]
    }
   ],
   "source": [
    "#this list the devices, just making sure there is a GPU present, you might be fine with no GPU\n",
    "from tensorflow.python.client import device_lib\n",
    "print(device_lib.list_local_devices())"
   ]
  },
  {
   "cell_type": "code",
   "execution_count": null,
   "metadata": {},
   "outputs": [
    {
     "name": "stdout",
     "output_type": "stream",
     "text": [
      "351\n"
     ]
    }
   ],
   "source": [
    "print(train_X.shape[1])\n",
    "f_num=train_X.shape[1]\n"
   ]
  },
  {
   "cell_type": "code",
   "execution_count": null,
   "metadata": {},
   "outputs": [
    {
     "name": "stdout",
     "output_type": "stream",
     "text": [
      "_________________________________________________________________\n",
      "Layer (type)                 Output Shape              Param #   \n",
      "=================================================================\n",
      "dense_1 (Dense)              (None, 351)               123552    \n",
      "_________________________________________________________________\n",
      "dropout_1 (Dropout)          (None, 351)               0         \n",
      "_________________________________________________________________\n",
      "dense_2 (Dense)              (None, 200)               70400     \n",
      "_________________________________________________________________\n",
      "dropout_2 (Dropout)          (None, 200)               0         \n",
      "_________________________________________________________________\n",
      "dense_3 (Dense)              (None, 200)               40200     \n",
      "_________________________________________________________________\n",
      "dropout_3 (Dropout)          (None, 200)               0         \n",
      "_________________________________________________________________\n",
      "dense_4 (Dense)              (None, 10)                2010      \n",
      "=================================================================\n",
      "Total params: 236,162\n",
      "Trainable params: 236,162\n",
      "Non-trainable params: 0\n",
      "_________________________________________________________________\n",
      "None\n"
     ]
    }
   ],
   "source": [
    "#model with 2 leyers of 100 LSTM neurons\n",
    "model = Sequential()\n",
    "opt=Adam(lr=0.001, beta_1=0.9, beta_2=0.999, epsilon=None, decay=0.0, amsgrad=False)\n",
    "model.add(Dense(f_num, input_dim=f_num, kernel_initializer='random_uniform',activation='relu'))\n",
    "model.add(Dropout(0.2))\n",
    "model.add(Dense(200,activation='relu'))\n",
    "#model.add(Dense(200,activation='sigmoid'))\n",
    "model.add(Dropout(0.2))\n",
    "model.add(Dense(200,activation='relu'))\n",
    "model.add(Dropout(0.2))\n",
    "model.add(Dense(10,activation='softmax'))\n",
    "model.compile(loss='categorical_crossentropy', optimizer=opt, metrics=['accuracy'])\n",
    "print(model.summary())"
   ]
  },
  {
   "cell_type": "code",
   "execution_count": null,
   "metadata": {},
   "outputs": [
    {
     "name": "stdout",
     "output_type": "stream",
     "text": [
      "Epoch 1/200\n",
      "25000/25000 [==============================] - 1s 59us/step - loss: 2.0977 - acc: 0.2611\n",
      "Epoch 2/200\n",
      "25000/25000 [==============================] - 0s 19us/step - loss: 1.5671 - acc: 0.4965\n",
      "Epoch 3/200\n",
      "25000/25000 [==============================] - 0s 19us/step - loss: 1.2088 - acc: 0.6056\n",
      "Epoch 4/200\n",
      "25000/25000 [==============================] - 0s 19us/step - loss: 1.0203 - acc: 0.6676\n",
      "Epoch 5/200\n",
      "25000/25000 [==============================] - 0s 19us/step - loss: 0.8908 - acc: 0.7040\n",
      "Epoch 6/200\n",
      "25000/25000 [==============================] - 0s 19us/step - loss: 0.7965 - acc: 0.7378\n",
      "Epoch 7/200\n",
      "25000/25000 [==============================] - 0s 19us/step - loss: 0.7358 - acc: 0.7546\n",
      "Epoch 8/200\n",
      "25000/25000 [==============================] - 0s 19us/step - loss: 0.6787 - acc: 0.7704\n",
      "Epoch 9/200\n",
      "25000/25000 [==============================] - 0s 19us/step - loss: 0.6256 - acc: 0.7888\n",
      "Epoch 10/200\n",
      "25000/25000 [==============================] - 0s 18us/step - loss: 0.5883 - acc: 0.7989\n",
      "Epoch 11/200\n",
      "25000/25000 [==============================] - 0s 19us/step - loss: 0.5579 - acc: 0.8070\n",
      "Epoch 12/200\n",
      "25000/25000 [==============================] - 0s 19us/step - loss: 0.5244 - acc: 0.8169\n",
      "Epoch 13/200\n",
      "25000/25000 [==============================] - 0s 19us/step - loss: 0.4971 - acc: 0.8230\n",
      "Epoch 14/200\n",
      "25000/25000 [==============================] - 0s 19us/step - loss: 0.4744 - acc: 0.8313\n",
      "Epoch 15/200\n",
      "25000/25000 [==============================] - 0s 19us/step - loss: 0.4496 - acc: 0.8374\n",
      "Epoch 16/200\n",
      "25000/25000 [==============================] - 0s 19us/step - loss: 0.4279 - acc: 0.8457\n",
      "Epoch 17/200\n",
      "25000/25000 [==============================] - 0s 20us/step - loss: 0.4182 - acc: 0.8447\n",
      "Epoch 18/200\n",
      "25000/25000 [==============================] - 0s 19us/step - loss: 0.3911 - acc: 0.8561\n",
      "Epoch 19/200\n",
      "25000/25000 [==============================] - 1s 24us/step - loss: 0.3770 - acc: 0.8588\n",
      "Epoch 20/200\n",
      "25000/25000 [==============================] - 0s 19us/step - loss: 0.3648 - acc: 0.8622\n",
      "Epoch 21/200\n",
      "25000/25000 [==============================] - 0s 19us/step - loss: 0.3529 - acc: 0.8628\n",
      "Epoch 22/200\n",
      "25000/25000 [==============================] - 0s 19us/step - loss: 0.3381 - acc: 0.8710\n",
      "Epoch 23/200\n",
      "25000/25000 [==============================] - 0s 19us/step - loss: 0.3338 - acc: 0.8711\n",
      "Epoch 24/200\n",
      "25000/25000 [==============================] - 0s 19us/step - loss: 0.3231 - acc: 0.8746\n",
      "Epoch 25/200\n",
      "25000/25000 [==============================] - 0s 20us/step - loss: 0.3150 - acc: 0.8735\n",
      "Epoch 26/200\n",
      "25000/25000 [==============================] - 0s 20us/step - loss: 0.3074 - acc: 0.8790\n",
      "Epoch 27/200\n",
      "25000/25000 [==============================] - 1s 22us/step - loss: 0.3050 - acc: 0.8791\n",
      "Epoch 28/200\n",
      "25000/25000 [==============================] - 0s 20us/step - loss: 0.2981 - acc: 0.8803\n",
      "Epoch 29/200\n",
      "25000/25000 [==============================] - 0s 19us/step - loss: 0.2920 - acc: 0.8845\n",
      "Epoch 30/200\n",
      "25000/25000 [==============================] - 0s 19us/step - loss: 0.2856 - acc: 0.8830\n",
      "Epoch 31/200\n",
      "25000/25000 [==============================] - 0s 20us/step - loss: 0.2762 - acc: 0.8846\n",
      "Epoch 32/200\n",
      "25000/25000 [==============================] - 0s 19us/step - loss: 0.2681 - acc: 0.8906\n",
      "Epoch 33/200\n",
      "25000/25000 [==============================] - 0s 19us/step - loss: 0.2709 - acc: 0.8878\n",
      "Epoch 34/200\n",
      "25000/25000 [==============================] - 0s 19us/step - loss: 0.2593 - acc: 0.8920\n",
      "Epoch 35/200\n",
      "25000/25000 [==============================] - 0s 20us/step - loss: 0.2657 - acc: 0.8895\n",
      "Epoch 36/200\n",
      "25000/25000 [==============================] - 1s 21us/step - loss: 0.2600 - acc: 0.8917\n",
      "Epoch 37/200\n",
      "25000/25000 [==============================] - 0s 19us/step - loss: 0.2615 - acc: 0.8888\n",
      "Epoch 38/200\n",
      "25000/25000 [==============================] - 0s 19us/step - loss: 0.2441 - acc: 0.8967\n",
      "Epoch 39/200\n",
      "25000/25000 [==============================] - 0s 19us/step - loss: 0.2490 - acc: 0.8944\n",
      "Epoch 40/200\n",
      "25000/25000 [==============================] - 0s 19us/step - loss: 0.2408 - acc: 0.8969\n",
      "Epoch 41/200\n",
      "25000/25000 [==============================] - 0s 19us/step - loss: 0.2388 - acc: 0.8980\n",
      "Epoch 42/200\n",
      "25000/25000 [==============================] - 0s 19us/step - loss: 0.2368 - acc: 0.8979\n",
      "Epoch 43/200\n",
      "25000/25000 [==============================] - 0s 19us/step - loss: 0.2361 - acc: 0.8976\n",
      "Epoch 44/200\n",
      "25000/25000 [==============================] - 0s 19us/step - loss: 0.2298 - acc: 0.8984\n",
      "Epoch 45/200\n",
      "25000/25000 [==============================] - 0s 19us/step - loss: 0.2296 - acc: 0.9010\n",
      "Epoch 46/200\n",
      "25000/25000 [==============================] - 0s 19us/step - loss: 0.2279 - acc: 0.9016\n",
      "Epoch 47/200\n",
      "25000/25000 [==============================] - 0s 19us/step - loss: 0.2260 - acc: 0.9028\n",
      "Epoch 48/200\n",
      "25000/25000 [==============================] - 0s 20us/step - loss: 0.2206 - acc: 0.9038\n",
      "Epoch 49/200\n",
      "25000/25000 [==============================] - 0s 19us/step - loss: 0.2202 - acc: 0.9020\n",
      "Epoch 50/200\n",
      "25000/25000 [==============================] - 0s 19us/step - loss: 0.2200 - acc: 0.9018\n",
      "Epoch 51/200\n",
      "25000/25000 [==============================] - 0s 19us/step - loss: 0.2163 - acc: 0.9034\n",
      "Epoch 52/200\n",
      "25000/25000 [==============================] - 0s 19us/step - loss: 0.2195 - acc: 0.9021\n",
      "Epoch 53/200\n",
      "25000/25000 [==============================] - 0s 19us/step - loss: 0.2107 - acc: 0.9055\n",
      "Epoch 54/200\n",
      "25000/25000 [==============================] - 0s 19us/step - loss: 0.2103 - acc: 0.9074\n",
      "Epoch 55/200\n",
      "25000/25000 [==============================] - 0s 19us/step - loss: 0.2100 - acc: 0.9068\n",
      "Epoch 56/200\n",
      "25000/25000 [==============================] - 0s 19us/step - loss: 0.2104 - acc: 0.9055\n",
      "Epoch 57/200\n",
      "25000/25000 [==============================] - 0s 19us/step - loss: 0.2093 - acc: 0.9055\n",
      "Epoch 58/200\n",
      "25000/25000 [==============================] - 0s 19us/step - loss: 0.2063 - acc: 0.9077\n",
      "Epoch 59/200\n",
      "25000/25000 [==============================] - 0s 19us/step - loss: 0.2042 - acc: 0.9068\n",
      "Epoch 60/200\n",
      "25000/25000 [==============================] - 0s 19us/step - loss: 0.2042 - acc: 0.9078\n",
      "Epoch 61/200\n",
      "25000/25000 [==============================] - 0s 19us/step - loss: 0.2015 - acc: 0.9066\n",
      "Epoch 62/200\n",
      "25000/25000 [==============================] - 0s 19us/step - loss: 0.2031 - acc: 0.9058\n",
      "Epoch 63/200\n",
      "25000/25000 [==============================] - 0s 19us/step - loss: 0.2012 - acc: 0.9060\n",
      "Epoch 64/200\n",
      "25000/25000 [==============================] - 0s 19us/step - loss: 0.2006 - acc: 0.9061\n",
      "Epoch 65/200\n",
      "25000/25000 [==============================] - 0s 20us/step - loss: 0.1960 - acc: 0.9108\n",
      "Epoch 66/200\n",
      "25000/25000 [==============================] - 0s 19us/step - loss: 0.1963 - acc: 0.9095\n",
      "Epoch 67/200\n",
      "25000/25000 [==============================] - 0s 20us/step - loss: 0.1949 - acc: 0.9080\n",
      "Epoch 68/200\n",
      "25000/25000 [==============================] - 0s 19us/step - loss: 0.1887 - acc: 0.9130\n",
      "Epoch 69/200\n",
      "25000/25000 [==============================] - 1s 20us/step - loss: 0.1900 - acc: 0.9098\n",
      "Epoch 70/200\n",
      "25000/25000 [==============================] - 0s 19us/step - loss: 0.1880 - acc: 0.9113\n",
      "Epoch 71/200\n",
      "25000/25000 [==============================] - 0s 20us/step - loss: 0.1870 - acc: 0.9116\n",
      "Epoch 72/200\n",
      "25000/25000 [==============================] - 0s 19us/step - loss: 0.1892 - acc: 0.9102\n",
      "Epoch 73/200\n",
      "25000/25000 [==============================] - 0s 19us/step - loss: 0.1866 - acc: 0.9118\n",
      "Epoch 74/200\n",
      "25000/25000 [==============================] - 0s 19us/step - loss: 0.1881 - acc: 0.9118\n",
      "Epoch 75/200\n",
      "25000/25000 [==============================] - 0s 19us/step - loss: 0.1880 - acc: 0.9115\n",
      "Epoch 76/200\n",
      "25000/25000 [==============================] - 0s 19us/step - loss: 0.1886 - acc: 0.9107\n",
      "Epoch 77/200\n",
      "25000/25000 [==============================] - 0s 19us/step - loss: 0.1814 - acc: 0.9142\n",
      "Epoch 78/200\n",
      "25000/25000 [==============================] - 0s 19us/step - loss: 0.1851 - acc: 0.9109\n",
      "Epoch 79/200\n",
      "25000/25000 [==============================] - 0s 19us/step - loss: 0.1828 - acc: 0.9133\n",
      "Epoch 80/200\n",
      "25000/25000 [==============================] - 0s 19us/step - loss: 0.1825 - acc: 0.9128\n",
      "Epoch 81/200\n"
     ]
    },
    {
     "name": "stdout",
     "output_type": "stream",
     "text": [
      "25000/25000 [==============================] - 0s 19us/step - loss: 0.1846 - acc: 0.9132\n",
      "Epoch 82/200\n",
      "25000/25000 [==============================] - 0s 20us/step - loss: 0.1806 - acc: 0.9126\n",
      "Epoch 83/200\n",
      "25000/25000 [==============================] - 0s 19us/step - loss: 0.1804 - acc: 0.9116\n",
      "Epoch 84/200\n",
      "25000/25000 [==============================] - 1s 21us/step - loss: 0.1803 - acc: 0.9136\n",
      "Epoch 85/200\n",
      "25000/25000 [==============================] - 0s 19us/step - loss: 0.1827 - acc: 0.9108\n",
      "Epoch 86/200\n",
      "25000/25000 [==============================] - 0s 19us/step - loss: 0.1809 - acc: 0.9124\n",
      "Epoch 87/200\n",
      "25000/25000 [==============================] - 0s 19us/step - loss: 0.1792 - acc: 0.9132\n",
      "Epoch 88/200\n",
      "25000/25000 [==============================] - 0s 19us/step - loss: 0.1775 - acc: 0.9124\n",
      "Epoch 89/200\n",
      "25000/25000 [==============================] - 0s 19us/step - loss: 0.1799 - acc: 0.9128\n",
      "Epoch 90/200\n",
      "25000/25000 [==============================] - 0s 19us/step - loss: 0.1777 - acc: 0.9131\n",
      "Epoch 91/200\n",
      "25000/25000 [==============================] - 0s 19us/step - loss: 0.1755 - acc: 0.9154\n",
      "Epoch 92/200\n",
      "25000/25000 [==============================] - 0s 19us/step - loss: 0.1782 - acc: 0.9120\n",
      "Epoch 93/200\n",
      "25000/25000 [==============================] - 0s 19us/step - loss: 0.1739 - acc: 0.9157\n",
      "Epoch 94/200\n",
      "25000/25000 [==============================] - 0s 20us/step - loss: 0.1741 - acc: 0.9137\n",
      "Epoch 95/200\n",
      "25000/25000 [==============================] - 0s 19us/step - loss: 0.1722 - acc: 0.9154\n",
      "Epoch 96/200\n",
      "25000/25000 [==============================] - 0s 19us/step - loss: 0.1744 - acc: 0.9131\n",
      "Epoch 97/200\n",
      "25000/25000 [==============================] - 0s 20us/step - loss: 0.1727 - acc: 0.9142\n",
      "Epoch 98/200\n",
      "25000/25000 [==============================] - 1s 20us/step - loss: 0.1717 - acc: 0.9150\n",
      "Epoch 99/200\n",
      "25000/25000 [==============================] - 0s 20us/step - loss: 0.1705 - acc: 0.9153\n",
      "Epoch 100/200\n",
      "25000/25000 [==============================] - 0s 20us/step - loss: 0.1691 - acc: 0.9150\n",
      "Epoch 101/200\n",
      "25000/25000 [==============================] - 0s 19us/step - loss: 0.1703 - acc: 0.9156\n",
      "Epoch 102/200\n",
      "25000/25000 [==============================] - 0s 20us/step - loss: 0.1721 - acc: 0.9156\n",
      "Epoch 103/200\n",
      " 9000/25000 [=========>....................] - ETA: 0s - loss: 0.1682 - acc: 0.9168"
     ]
    }
   ],
   "source": [
    "model.fit(train_X, train_Y, epochs=200,verbose=1, batch_size=3000)"
   ]
  },
  {
   "cell_type": "code",
   "execution_count": null,
   "metadata": {},
   "outputs": [],
   "source": [
    "scores = model.evaluate(test_X, test_Y, verbose=1)\n",
    "print(\"Accuracy: %.2f%%\" % (scores[1]*100))"
   ]
  },
  {
   "cell_type": "code",
   "execution_count": null,
   "metadata": {},
   "outputs": [],
   "source": [
    "#you can save the as a file so you dont have to train it every time\n",
    "model.save( os.path.join(phage_init.model_dir,model_name))"
   ]
  },
  {
   "cell_type": "code",
   "execution_count": null,
   "metadata": {},
   "outputs": [],
   "source": [
    "from sklearn.metrics import classification_report\n",
    "\n",
    "\n",
    "test_Y_index = test_Y.argmax(axis=1) # Convert one-hot to index\n",
    "test_Y_predicted = model.predict_classes(test_X)\n",
    "labels_names=[\"Major capsid\",\"Minor capsid\",\"Baseplate\",\"Major tail\",\"Minor tail\",\"Portal\",\"Tail fiber\",\n",
    "             \"Tail shaft\",\"Collar\",\"Head-Tail joining\"]\n",
    "print(classification_report(test_Y_index, test_Y_predicted, target_names=labels_names ))\n",
    "#print (test_Y_index)"
   ]
  },
  {
   "cell_type": "code",
   "execution_count": null,
   "metadata": {},
   "outputs": [],
   "source": [
    "from collections import Counter\n",
    "zz=Counter(test_Y_index)\n",
    "sample_w=[zz[i] for i in range(0,10,1)]\n",
    "print(zz)\n",
    "print(sample_w)\n",
    "print()"
   ]
  },
  {
   "cell_type": "code",
   "execution_count": null,
   "metadata": {},
   "outputs": [],
   "source": [
    "from sklearn.metrics import confusion_matrix\n",
    "import matplotlib.pyplot as plt\n",
    "import itertools\n",
    "plt.show()\n",
    "CM=confusion_matrix(test_Y_index, test_Y_predicted)\n",
    "CM_n=CM/numpy.array(sample_w)[:,None]\n",
    "scale_up=1.3\n",
    "plt.figure(figsize=[6.4*scale_up, 4.8*scale_up])\n",
    "plt.imshow(CM_n, interpolation='nearest')\n",
    "plt.title('CM')\n",
    "plt.colorbar()\n",
    "tick_marks = numpy.arange(len(labels_names))\n",
    "plt.xticks(tick_marks, labels_names, rotation=90)\n",
    "plt.yticks(tick_marks, labels_names)\n",
    "fmt = '.2f'\n",
    "for i, j in itertools.product(range(CM_n.shape[0]), range(CM_n.shape[1])):\n",
    "        plt.text(j, i, format(CM_n[i, j], fmt),horizontalalignment=\"center\",verticalalignment='center',\n",
    "                color=\"white\" if CM_n[i, j] < 0.25 else \"black\")\n",
    "plt.show()"
   ]
  },
  {
   "cell_type": "code",
   "execution_count": null,
   "metadata": {},
   "outputs": [],
   "source": [
    "print(numpy.where(~train_X.any(axis=0))[0])"
   ]
  },
  {
   "cell_type": "code",
   "execution_count": null,
   "metadata": {},
   "outputs": [],
   "source": [
    "numpy.set_printoptions(threshold=numpy.nan)\n",
    "print(std_total)"
   ]
  }
 ],
 "metadata": {
  "kernelspec": {
   "display_name": "Environment (conda_tensor_4)",
   "language": "python",
   "name": "conda_tensor_4"
  },
  "language_info": {
   "codemirror_mode": {
    "name": "ipython",
    "version": 3
   },
   "file_extension": ".py",
   "mimetype": "text/x-python",
   "name": "python",
   "nbconvert_exporter": "python",
   "pygments_lexer": "ipython3",
   "version": "3.6.7"
  }
 },
 "nbformat": 4,
 "nbformat_minor": 2
}
