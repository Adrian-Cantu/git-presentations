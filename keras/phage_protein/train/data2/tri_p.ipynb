{
 "cells": [
  {
   "cell_type": "code",
   "execution_count": 13,
   "metadata": {},
   "outputs": [],
   "source": [
    "import os\n",
    "import sys\n",
    "sys.path.append(\"..\")\n",
    "import phage_init"
   ]
  },
  {
   "cell_type": "code",
   "execution_count": null,
   "metadata": {},
   "outputs": [],
   "source": []
  },
  {
   "cell_type": "code",
   "execution_count": 14,
   "metadata": {},
   "outputs": [],
   "source": [
    "#load the saved matrices\n",
    "import pickle\n",
    "train_X_total=pickle.load(open( os.path.join(phage_init.data_dir,\"train_x_data2_full.p\"), \"rb\" ) )\n",
    "test_X_total=pickle.load(open( os.path.join(phage_init.data_dir,\"test_x_data2_full.p\"), \"rb\" ) )\n",
    "train_Y=pickle.load(open( os.path.join(phage_init.data_dir,\"train_y_data2_full.p\"), \"rb\" ) )\n",
    "test_Y=pickle.load(open( os.path.join(phage_init.data_dir,\"test_y_data2_full.p\"), \"rb\" ) )\n",
    "mean_total=pickle.load(open( os.path.join(phage_init.data_dir,\"mean_data2_full.p\"), \"rb\" ) )\n",
    "std_total=pickle.load(open( os.path.join(phage_init.data_dir,\"std_data2_full.p\"), \"rb\" ) )"
   ]
  },
  {
   "cell_type": "code",
   "execution_count": 15,
   "metadata": {},
   "outputs": [],
   "source": [
    "di_train     = train_X_total[:,0:400]\n",
    "tri_train    = train_X_total[:,400:8400]\n",
    "di_sc_train  = train_X_total[:,8400:8449] \n",
    "tri_sc_train = train_X_total[:,8449:8792]\n",
    "tt_train     = train_X_total[:,8792:]"
   ]
  },
  {
   "cell_type": "code",
   "execution_count": 16,
   "metadata": {},
   "outputs": [],
   "source": [
    "di_test     = test_X_total[:,0:400]\n",
    "tri_test    = test_X_total[:,400:8400]\n",
    "di_sc_test  = test_X_total[:,8400:8449] \n",
    "tri_sc_test = test_X_total[:,8449:8792]\n",
    "tt_test     = test_X_total[:,8792:]"
   ]
  },
  {
   "cell_type": "code",
   "execution_count": 17,
   "metadata": {},
   "outputs": [],
   "source": [
    "mean_di     = mean_total[0:400]\n",
    "mean_tri    = mean_total[400:8400]\n",
    "mean_di_sc  = mean_total[8400:8449] \n",
    "mean_tri_sc = mean_total[8449:8792]\n",
    "mean_tt     = mean_total[8792:]"
   ]
  },
  {
   "cell_type": "code",
   "execution_count": 18,
   "metadata": {},
   "outputs": [],
   "source": [
    "std_di     = std_total[0:400]\n",
    "std_tri    = std_total[400:8400]\n",
    "std_di_sc  = std_total[8400:8449] \n",
    "std_tri_sc = std_total[8449:8792]\n",
    "std_tt     = std_total[8792:]"
   ]
  },
  {
   "cell_type": "code",
   "execution_count": 19,
   "metadata": {},
   "outputs": [],
   "source": [
    "#import keras and numpy\n",
    "import numpy\n",
    "from keras.models import Sequential\n",
    "from keras.layers import Dense\n",
    "from keras.layers import LSTM\n",
    "from keras.layers import Activation\n",
    "from keras.layers import Dropout\n",
    "from keras.optimizers import Adam"
   ]
  },
  {
   "cell_type": "code",
   "execution_count": 20,
   "metadata": {},
   "outputs": [
    {
     "name": "stdout",
     "output_type": "stream",
     "text": [
      "(50000, 8)\n",
      "(50000, 8008)\n",
      "(7774, 8008)\n"
     ]
    }
   ],
   "source": [
    "#print(di_train.shape)\n",
    "print(tt_train.shape)\n",
    "train_X =numpy.concatenate((tri_train,tt_train),axis=1)\n",
    "test_X  =numpy.concatenate((tri_test,tt_test),axis=1)\n",
    "#train_X=di_train\n",
    "#test_X=di_test\n",
    "model_name='tri_p_data2.h5'\n",
    "print(train_X.shape)\n",
    "print(test_X.shape)"
   ]
  },
  {
   "cell_type": "code",
   "execution_count": 21,
   "metadata": {},
   "outputs": [
    {
     "name": "stdout",
     "output_type": "stream",
     "text": [
      "[name: \"/device:CPU:0\"\n",
      "device_type: \"CPU\"\n",
      "memory_limit: 268435456\n",
      "locality {\n",
      "}\n",
      "incarnation: 4674127671050517766\n",
      ", name: \"/device:XLA_CPU:0\"\n",
      "device_type: \"XLA_CPU\"\n",
      "memory_limit: 17179869184\n",
      "locality {\n",
      "}\n",
      "incarnation: 13034733561838579199\n",
      "physical_device_desc: \"device: XLA_CPU device\"\n",
      "]\n"
     ]
    }
   ],
   "source": [
    "#this list the devices, just making sure there is a GPU present, you might be fine with no GPU\n",
    "from tensorflow.python.client import device_lib\n",
    "print(device_lib.list_local_devices())"
   ]
  },
  {
   "cell_type": "code",
   "execution_count": 22,
   "metadata": {},
   "outputs": [
    {
     "name": "stdout",
     "output_type": "stream",
     "text": [
      "8008\n"
     ]
    }
   ],
   "source": [
    "print(train_X.shape[1])\n",
    "f_num=train_X.shape[1]\n"
   ]
  },
  {
   "cell_type": "code",
   "execution_count": 23,
   "metadata": {},
   "outputs": [
    {
     "name": "stdout",
     "output_type": "stream",
     "text": [
      "_________________________________________________________________\n",
      "Layer (type)                 Output Shape              Param #   \n",
      "=================================================================\n",
      "dense_1 (Dense)              (None, 8008)              64136072  \n",
      "_________________________________________________________________\n",
      "dropout_1 (Dropout)          (None, 8008)              0         \n",
      "_________________________________________________________________\n",
      "dense_2 (Dense)              (None, 200)               1601800   \n",
      "_________________________________________________________________\n",
      "dropout_2 (Dropout)          (None, 200)               0         \n",
      "_________________________________________________________________\n",
      "dense_3 (Dense)              (None, 200)               40200     \n",
      "_________________________________________________________________\n",
      "dropout_3 (Dropout)          (None, 200)               0         \n",
      "_________________________________________________________________\n",
      "dense_4 (Dense)              (None, 10)                2010      \n",
      "=================================================================\n",
      "Total params: 65,780,082\n",
      "Trainable params: 65,780,082\n",
      "Non-trainable params: 0\n",
      "_________________________________________________________________\n",
      "None\n"
     ]
    }
   ],
   "source": [
    "#model with 2 leyers of 100 LSTM neurons\n",
    "model = Sequential()\n",
    "opt=Adam(lr=0.001, beta_1=0.9, beta_2=0.999, epsilon=None, decay=0.0, amsgrad=False)\n",
    "model.add(Dense(f_num, input_dim=f_num, kernel_initializer='random_uniform',activation='relu'))\n",
    "model.add(Dropout(0.2))\n",
    "model.add(Dense(200,activation='relu'))\n",
    "#model.add(Dense(200,activation='sigmoid'))\n",
    "model.add(Dropout(0.2))\n",
    "model.add(Dense(200,activation='relu'))\n",
    "#model.add(Dense(200,activation='sigmoid'))\n",
    "model.add(Dropout(0.2))\n",
    "model.add(Dense(10,activation='softmax'))\n",
    "model.compile(loss='categorical_crossentropy', optimizer=opt, metrics=['accuracy'])\n",
    "print(model.summary())"
   ]
  },
  {
   "cell_type": "code",
   "execution_count": null,
   "metadata": {},
   "outputs": [
    {
     "name": "stdout",
     "output_type": "stream",
     "text": [
      "Epoch 1/200\n",
      " 3200/50000 [>.............................] - ETA: 3:32 - loss: 3.3614 - acc: 0.3428"
     ]
    }
   ],
   "source": [
    "model.fit(train_X, train_Y, epochs=200,verbose=1, batch_size=200)"
   ]
  },
  {
   "cell_type": "code",
   "execution_count": 27,
   "metadata": {},
   "outputs": [
    {
     "name": "stdout",
     "output_type": "stream",
     "text": [
      "7774/7774 [==============================] - 8s 1ms/step\n",
      "Accuracy: 90.08%\n"
     ]
    }
   ],
   "source": [
    "scores = model.evaluate(test_X, test_Y, verbose=1)\n",
    "print(\"Accuracy: %.2f%%\" % (scores[1]*100))"
   ]
  },
  {
   "cell_type": "code",
   "execution_count": 28,
   "metadata": {},
   "outputs": [],
   "source": [
    "#you can save the as a file so you dont have to train it every time\n",
    "model.save( os.path.join(phage_init.model_dir,model_name))"
   ]
  },
  {
   "cell_type": "code",
   "execution_count": 29,
   "metadata": {},
   "outputs": [
    {
     "name": "stdout",
     "output_type": "stream",
     "text": [
      "                   precision    recall  f1-score   support\n",
      "\n",
      "     Major capsid       0.98      0.92      0.95      1836\n",
      "     Minor capsid       0.72      0.54      0.62       105\n",
      "        Baseplate       0.93      0.84      0.88       308\n",
      "       Major tail       0.83      0.92      0.87       423\n",
      "       Minor tail       0.89      0.80      0.84       499\n",
      "           Portal       0.93      0.95      0.94      2473\n",
      "       Tail fiber       0.59      0.75      0.66       412\n",
      "       Tail shaft       0.90      0.95      0.92       677\n",
      "           Collar       0.71      0.83      0.76       149\n",
      "Head-Tail joining       0.95      0.88      0.91       892\n",
      "\n",
      "        micro avg       0.90      0.90      0.90      7774\n",
      "        macro avg       0.84      0.84      0.84      7774\n",
      "     weighted avg       0.91      0.90      0.90      7774\n",
      "\n"
     ]
    }
   ],
   "source": [
    "from sklearn.metrics import classification_report\n",
    "\n",
    "\n",
    "test_Y_index = test_Y.argmax(axis=1) # Convert one-hot to index\n",
    "test_Y_predicted = model.predict_classes(test_X)\n",
    "labels_names=[\"Major capsid\",\"Minor capsid\",\"Baseplate\",\"Major tail\",\"Minor tail\",\"Portal\",\"Tail fiber\",\n",
    "             \"Tail shaft\",\"Collar\",\"Head-Tail joining\"]\n",
    "print(classification_report(test_Y_index, test_Y_predicted, target_names=labels_names ))\n",
    "#print (test_Y_index)"
   ]
  },
  {
   "cell_type": "code",
   "execution_count": null,
   "metadata": {},
   "outputs": [],
   "source": [
    "from collections import Counter\n",
    "zz=Counter(test_Y_index)\n",
    "sample_w=[zz[i] for i in range(0,10,1)]\n",
    "print(zz)\n",
    "print(sample_w)\n",
    "print()"
   ]
  },
  {
   "cell_type": "code",
   "execution_count": null,
   "metadata": {},
   "outputs": [],
   "source": [
    "from sklearn.metrics import confusion_matrix\n",
    "import matplotlib.pyplot as plt\n",
    "import itertools\n",
    "\n",
    "CM=confusion_matrix(test_Y_index, test_Y_predicted)\n",
    "CM_n=CM/numpy.array(sample_w)[:,None]\n",
    "scale_up=1.3\n",
    "plt.figure(figsize=[6.4*scale_up, 4.8*scale_up])\n",
    "plt.imshow(CM_n, interpolation='nearest')\n",
    "plt.title('CM')\n",
    "plt.colorbar()\n",
    "tick_marks = numpy.arange(len(labels_names))\n",
    "plt.xticks(tick_marks, labels_names, rotation=90)\n",
    "plt.yticks(tick_marks, labels_names)\n",
    "fmt = '.2f'\n",
    "for i, j in itertools.product(range(CM_n.shape[0]), range(CM_n.shape[1])):\n",
    "        plt.text(j, i, format(CM_n[i, j], fmt),horizontalalignment=\"center\",verticalalignment='center',\n",
    "                color=\"white\" if CM_n[i, j] < 0.25 else \"black\")\n",
    "plt.show()"
   ]
  },
  {
   "cell_type": "code",
   "execution_count": null,
   "metadata": {},
   "outputs": [],
   "source": []
  }
 ],
 "metadata": {
  "kernelspec": {
   "display_name": "Environment (conda_tensor_4)",
   "language": "python",
   "name": "conda_tensor_4"
  },
  "language_info": {
   "codemirror_mode": {
    "name": "ipython",
    "version": 3
   },
   "file_extension": ".py",
   "mimetype": "text/x-python",
   "name": "python",
   "nbconvert_exporter": "python",
   "pygments_lexer": "ipython3",
   "version": "3.6.7"
  }
 },
 "nbformat": 4,
 "nbformat_minor": 2
}
