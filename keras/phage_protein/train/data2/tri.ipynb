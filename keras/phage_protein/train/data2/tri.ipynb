{
 "cells": [
  {
   "cell_type": "code",
   "execution_count": 1,
   "metadata": {},
   "outputs": [],
   "source": [
    "import os\n",
    "import sys\n",
    "sys.path.append(\"../..\")\n",
    "import phage_init"
   ]
  },
  {
   "cell_type": "code",
   "execution_count": null,
   "metadata": {},
   "outputs": [],
   "source": []
  },
  {
   "cell_type": "code",
   "execution_count": 2,
   "metadata": {},
   "outputs": [],
   "source": [
    "#load the saved matrices\n",
    "import pickle\n",
    "train_X_total=pickle.load(open( os.path.join(phage_init.data_dir,\"train_x_data2_full.p\"), \"rb\" ) )\n",
    "test_X_total=pickle.load(open( os.path.join(phage_init.data_dir,\"test_x_data2_full.p\"), \"rb\" ) )\n",
    "train_Y=pickle.load(open( os.path.join(phage_init.data_dir,\"train_y_data2_full.p\"), \"rb\" ) )\n",
    "test_Y=pickle.load(open( os.path.join(phage_init.data_dir,\"test_y_data2_full.p\"), \"rb\" ) )\n",
    "mean_total=pickle.load(open( os.path.join(phage_init.data_dir,\"mean_data2_full.p\"), \"rb\" ) )\n",
    "std_total=pickle.load(open( os.path.join(phage_init.data_dir,\"std_data2_full.p\"), \"rb\" ) )"
   ]
  },
  {
   "cell_type": "code",
   "execution_count": 3,
   "metadata": {},
   "outputs": [],
   "source": [
    "di_train     = train_X_total[:,0:400]\n",
    "tri_train    = train_X_total[:,400:8400]\n",
    "di_sc_train  = train_X_total[:,8400:8449] \n",
    "tri_sc_train = train_X_total[:,8449:8792]\n",
    "tt_train     = train_X_total[:,8792:]"
   ]
  },
  {
   "cell_type": "code",
   "execution_count": 4,
   "metadata": {},
   "outputs": [],
   "source": [
    "di_test     = test_X_total[:,0:400]\n",
    "tri_test    = test_X_total[:,400:8400]\n",
    "di_sc_test  = test_X_total[:,8400:8449] \n",
    "tri_sc_test = test_X_total[:,8449:8792]\n",
    "tt_test     = test_X_total[:,8792:]"
   ]
  },
  {
   "cell_type": "code",
   "execution_count": 5,
   "metadata": {},
   "outputs": [],
   "source": [
    "mean_di     = mean_total[0:400]\n",
    "mean_tri    = mean_total[400:8400]\n",
    "mean_di_sc  = mean_total[8400:8449] \n",
    "mean_tri_sc = mean_total[8449:8792]\n",
    "mean_tt     = mean_total[8792:]"
   ]
  },
  {
   "cell_type": "code",
   "execution_count": 6,
   "metadata": {},
   "outputs": [],
   "source": [
    "std_di     = std_total[0:400]\n",
    "std_tri    = std_total[400:8400]\n",
    "std_di_sc  = std_total[8400:8449] \n",
    "std_tri_sc = std_total[8449:8792]\n",
    "std_tt     = std_total[8792:]"
   ]
  },
  {
   "cell_type": "code",
   "execution_count": 7,
   "metadata": {},
   "outputs": [
    {
     "name": "stderr",
     "output_type": "stream",
     "text": [
      "Using TensorFlow backend.\n"
     ]
    }
   ],
   "source": [
    "#import keras and numpy\n",
    "import numpy\n",
    "from keras.models import Sequential\n",
    "from keras.layers import Dense\n",
    "from keras.layers import LSTM\n",
    "from keras.layers import Activation\n",
    "from keras.layers import Dropout\n",
    "from keras.optimizers import Adam"
   ]
  },
  {
   "cell_type": "code",
   "execution_count": 8,
   "metadata": {},
   "outputs": [
    {
     "name": "stdout",
     "output_type": "stream",
     "text": [
      "(50000, 8)\n",
      "(50000, 8000)\n",
      "(7774, 8000)\n"
     ]
    }
   ],
   "source": [
    "#print(di_train.shape)\n",
    "print(tt_train.shape)\n",
    "#train_X =numpy.concatenate((tri_sc_train,tt_train),axis=1)\n",
    "#test_X  =numpy.concatenate((tri_sc_test,tt_test),axis=1)\n",
    "train_X=tri_train\n",
    "test_X=tri_test\n",
    "model_name='tri_data2.h5'\n",
    "print(train_X.shape)\n",
    "print(test_X.shape)"
   ]
  },
  {
   "cell_type": "code",
   "execution_count": 9,
   "metadata": {},
   "outputs": [
    {
     "name": "stdout",
     "output_type": "stream",
     "text": [
      "[name: \"/device:CPU:0\"\n",
      "device_type: \"CPU\"\n",
      "memory_limit: 268435456\n",
      "locality {\n",
      "}\n",
      "incarnation: 18255882411441174237\n",
      ", name: \"/device:XLA_CPU:0\"\n",
      "device_type: \"XLA_CPU\"\n",
      "memory_limit: 17179869184\n",
      "locality {\n",
      "}\n",
      "incarnation: 848179054679042692\n",
      "physical_device_desc: \"device: XLA_CPU device\"\n",
      "]\n"
     ]
    }
   ],
   "source": [
    "#this list the devices, just making sure there is a GPU present, you might be fine with no GPU\n",
    "from tensorflow.python.client import device_lib\n",
    "print(device_lib.list_local_devices())"
   ]
  },
  {
   "cell_type": "code",
   "execution_count": 10,
   "metadata": {},
   "outputs": [
    {
     "name": "stdout",
     "output_type": "stream",
     "text": [
      "8000\n"
     ]
    }
   ],
   "source": [
    "print(train_X.shape[1])\n",
    "f_num=train_X.shape[1]\n"
   ]
  },
  {
   "cell_type": "code",
   "execution_count": 11,
   "metadata": {},
   "outputs": [
    {
     "name": "stdout",
     "output_type": "stream",
     "text": [
      "_________________________________________________________________\n",
      "Layer (type)                 Output Shape              Param #   \n",
      "=================================================================\n",
      "dense_1 (Dense)              (None, 8000)              64008000  \n",
      "_________________________________________________________________\n",
      "dropout_1 (Dropout)          (None, 8000)              0         \n",
      "_________________________________________________________________\n",
      "dense_2 (Dense)              (None, 200)               1600200   \n",
      "_________________________________________________________________\n",
      "dropout_2 (Dropout)          (None, 200)               0         \n",
      "_________________________________________________________________\n",
      "dense_3 (Dense)              (None, 200)               40200     \n",
      "_________________________________________________________________\n",
      "dropout_3 (Dropout)          (None, 200)               0         \n",
      "_________________________________________________________________\n",
      "dense_4 (Dense)              (None, 10)                2010      \n",
      "=================================================================\n",
      "Total params: 65,650,410\n",
      "Trainable params: 65,650,410\n",
      "Non-trainable params: 0\n",
      "_________________________________________________________________\n",
      "None\n"
     ]
    }
   ],
   "source": [
    "#model with 2 leyers of 100 LSTM neurons\n",
    "model = Sequential()\n",
    "opt=Adam(lr=0.001, beta_1=0.9, beta_2=0.999, epsilon=None, decay=0.0, amsgrad=False)\n",
    "model.add(Dense(f_num, input_dim=f_num, kernel_initializer='random_uniform',activation='relu'))\n",
    "model.add(Dropout(0.2))\n",
    "model.add(Dense(200,activation='relu'))\n",
    "#model.add(Dense(200,activation='sigmoid'))\n",
    "model.add(Dropout(0.2))\n",
    "model.add(Dense(200,activation='relu'))\n",
    "#model.add(Dense(200,activation='sigmoid'))\n",
    "model.add(Dropout(0.2))\n",
    "model.add(Dense(10,activation='softmax'))\n",
    "model.compile(loss='categorical_crossentropy', optimizer=opt, metrics=['accuracy'])\n",
    "print(model.summary())"
   ]
  },
  {
   "cell_type": "code",
   "execution_count": 12,
   "metadata": {},
   "outputs": [
    {
     "name": "stdout",
     "output_type": "stream",
     "text": [
      "Epoch 1/200\n",
      "50000/50000 [==============================] - 59s 1ms/step - loss: 2.5992 - acc: 0.5570\n",
      "Epoch 2/200\n",
      "50000/50000 [==============================] - 56s 1ms/step - loss: 0.4885 - acc: 0.8552\n",
      "Epoch 3/200\n",
      "50000/50000 [==============================] - 56s 1ms/step - loss: 0.2352 - acc: 0.9304\n",
      "Epoch 4/200\n",
      "50000/50000 [==============================] - 56s 1ms/step - loss: 0.1427 - acc: 0.9580\n",
      "Epoch 5/200\n",
      "50000/50000 [==============================] - 56s 1ms/step - loss: 0.0969 - acc: 0.9709\n",
      "Epoch 6/200\n",
      "50000/50000 [==============================] - 56s 1ms/step - loss: 0.0766 - acc: 0.9779\n",
      "Epoch 7/200\n",
      "50000/50000 [==============================] - 57s 1ms/step - loss: 0.0662 - acc: 0.9800\n",
      "Epoch 8/200\n",
      "50000/50000 [==============================] - 56s 1ms/step - loss: 0.0568 - acc: 0.9844\n",
      "Epoch 9/200\n",
      "50000/50000 [==============================] - 57s 1ms/step - loss: 0.0497 - acc: 0.9858\n",
      "Epoch 10/200\n",
      "50000/50000 [==============================] - 56s 1ms/step - loss: 0.0456 - acc: 0.9869\n",
      "Epoch 11/200\n",
      "50000/50000 [==============================] - 57s 1ms/step - loss: 0.0417 - acc: 0.9882\n",
      "Epoch 12/200\n",
      "50000/50000 [==============================] - 58s 1ms/step - loss: 0.0377 - acc: 0.9894\n",
      "Epoch 13/200\n",
      "50000/50000 [==============================] - 58s 1ms/step - loss: 0.0371 - acc: 0.9901\n",
      "Epoch 14/200\n",
      "50000/50000 [==============================] - 59s 1ms/step - loss: 0.0341 - acc: 0.9900\n",
      "Epoch 15/200\n",
      "50000/50000 [==============================] - 60s 1ms/step - loss: 0.0338 - acc: 0.9905\n",
      "Epoch 16/200\n",
      "50000/50000 [==============================] - 59s 1ms/step - loss: 0.0310 - acc: 0.9913\n",
      "Epoch 17/200\n",
      "50000/50000 [==============================] - 59s 1ms/step - loss: 0.0297 - acc: 0.9915\n",
      "Epoch 18/200\n",
      "50000/50000 [==============================] - 60s 1ms/step - loss: 0.0294 - acc: 0.9920\n",
      "Epoch 19/200\n",
      "50000/50000 [==============================] - 61s 1ms/step - loss: 0.0284 - acc: 0.9919\n",
      "Epoch 20/200\n",
      "50000/50000 [==============================] - 60s 1ms/step - loss: 0.0276 - acc: 0.9921\n",
      "Epoch 21/200\n",
      "50000/50000 [==============================] - 60s 1ms/step - loss: 0.0283 - acc: 0.9915\n",
      "Epoch 22/200\n",
      "50000/50000 [==============================] - 60s 1ms/step - loss: 0.0269 - acc: 0.9921\n",
      "Epoch 23/200\n",
      "50000/50000 [==============================] - 61s 1ms/step - loss: 0.0281 - acc: 0.9922\n",
      "Epoch 24/200\n",
      "50000/50000 [==============================] - 61s 1ms/step - loss: 0.0262 - acc: 0.9924\n",
      "Epoch 25/200\n",
      "50000/50000 [==============================] - 61s 1ms/step - loss: 0.0262 - acc: 0.9927\n",
      "Epoch 26/200\n",
      "50000/50000 [==============================] - 61s 1ms/step - loss: 0.0238 - acc: 0.9931\n",
      "Epoch 27/200\n",
      "50000/50000 [==============================] - 62s 1ms/step - loss: 0.0260 - acc: 0.9926\n",
      "Epoch 28/200\n",
      "50000/50000 [==============================] - 61s 1ms/step - loss: 0.0255 - acc: 0.9929\n",
      "Epoch 29/200\n",
      "50000/50000 [==============================] - 62s 1ms/step - loss: 0.0267 - acc: 0.9923\n",
      "Epoch 30/200\n",
      "50000/50000 [==============================] - 63s 1ms/step - loss: 0.0301 - acc: 0.9927\n",
      "Epoch 31/200\n",
      "50000/50000 [==============================] - 63s 1ms/step - loss: 0.0263 - acc: 0.9933\n",
      "Epoch 34/200\n",
      "50000/50000 [==============================] - 62s 1ms/step - loss: 0.0264 - acc: 0.9929\n",
      "Epoch 35/200\n",
      "50000/50000 [==============================] - 63s 1ms/step - loss: 0.0253 - acc: 0.9931\n",
      "Epoch 36/200\n",
      "50000/50000 [==============================] - 63s 1ms/step - loss: 0.0253 - acc: 0.9934\n",
      "Epoch 37/200\n",
      "50000/50000 [==============================] - 63s 1ms/step - loss: 0.0261 - acc: 0.9929\n",
      "Epoch 38/200\n",
      "50000/50000 [==============================] - 63s 1ms/step - loss: 0.0265 - acc: 0.9927\n",
      "Epoch 39/200\n",
      "50000/50000 [==============================] - 63s 1ms/step - loss: 0.0275 - acc: 0.9926\n",
      "Epoch 40/200\n",
      "50000/50000 [==============================] - 63s 1ms/step - loss: 0.0255 - acc: 0.9934\n",
      "Epoch 41/200\n",
      "50000/50000 [==============================] - 63s 1ms/step - loss: 0.0274 - acc: 0.9928\n",
      "Epoch 42/200\n",
      "50000/50000 [==============================] - 64s 1ms/step - loss: 0.0270 - acc: 0.9931\n",
      "Epoch 43/200\n",
      "50000/50000 [==============================] - 64s 1ms/step - loss: 0.0267 - acc: 0.9931\n",
      "Epoch 44/200\n",
      "50000/50000 [==============================] - 64s 1ms/step - loss: 0.0240 - acc: 0.9935\n",
      "Epoch 45/200\n",
      "50000/50000 [==============================] - 64s 1ms/step - loss: 0.0271 - acc: 0.9931\n",
      "Epoch 46/200\n",
      "50000/50000 [==============================] - 65s 1ms/step - loss: 0.0274 - acc: 0.9929\n",
      "Epoch 47/200\n",
      "50000/50000 [==============================] - 65s 1ms/step - loss: 0.0258 - acc: 0.9929\n",
      "Epoch 48/200\n",
      "50000/50000 [==============================] - 64s 1ms/step - loss: 0.0241 - acc: 0.9932\n",
      "Epoch 49/200\n",
      "50000/50000 [==============================] - 64s 1ms/step - loss: 0.0276 - acc: 0.9932\n",
      "Epoch 50/200\n",
      "50000/50000 [==============================] - 65s 1ms/step - loss: 0.0267 - acc: 0.9933\n",
      "Epoch 51/200\n",
      "50000/50000 [==============================] - 65s 1ms/step - loss: 0.0252 - acc: 0.9935\n",
      "Epoch 52/200\n",
      "50000/50000 [==============================] - 65s 1ms/step - loss: 0.0261 - acc: 0.9935\n",
      "Epoch 53/200\n",
      "50000/50000 [==============================] - 65s 1ms/step - loss: 0.0264 - acc: 0.9935\n",
      "Epoch 54/200\n",
      "50000/50000 [==============================] - 65s 1ms/step - loss: 0.0268 - acc: 0.9933\n",
      "Epoch 55/200\n",
      "50000/50000 [==============================] - 64s 1ms/step - loss: 0.0242 - acc: 0.9938\n",
      "Epoch 56/200\n",
      "50000/50000 [==============================] - 65s 1ms/step - loss: 0.0234 - acc: 0.9942\n",
      "Epoch 57/200\n",
      "50000/50000 [==============================] - 65s 1ms/step - loss: 0.0237 - acc: 0.9938\n",
      "Epoch 58/200\n",
      "50000/50000 [==============================] - 66s 1ms/step - loss: 0.0234 - acc: 0.9940\n",
      "Epoch 59/200\n",
      "50000/50000 [==============================] - 65s 1ms/step - loss: 0.0256 - acc: 0.9939\n",
      "Epoch 60/200\n",
      "50000/50000 [==============================] - 65s 1ms/step - loss: 0.0237 - acc: 0.9933\n",
      "Epoch 61/200\n",
      "50000/50000 [==============================] - 65s 1ms/step - loss: 0.0231 - acc: 0.9943\n",
      "Epoch 62/200\n",
      "50000/50000 [==============================] - 65s 1ms/step - loss: 0.0213 - acc: 0.9942\n",
      "Epoch 63/200\n",
      "50000/50000 [==============================] - 66s 1ms/step - loss: 0.0181 - acc: 0.9949\n",
      "Epoch 64/200\n",
      "50000/50000 [==============================] - 66s 1ms/step - loss: 0.0204 - acc: 0.9948\n",
      "Epoch 65/200\n",
      "50000/50000 [==============================] - 65s 1ms/step - loss: 0.0201 - acc: 0.9947\n",
      "Epoch 66/200\n",
      "50000/50000 [==============================] - 65s 1ms/step - loss: 0.0184 - acc: 0.9953\n",
      "Epoch 67/200\n",
      "50000/50000 [==============================] - 66s 1ms/step - loss: 0.0210 - acc: 0.9943\n",
      "Epoch 68/200\n",
      "50000/50000 [==============================] - 66s 1ms/step - loss: 0.0188 - acc: 0.9947\n",
      "Epoch 69/200\n",
      "50000/50000 [==============================] - 66s 1ms/step - loss: 0.0206 - acc: 0.9947\n",
      "Epoch 70/200\n",
      "50000/50000 [==============================] - 66s 1ms/step - loss: 0.0190 - acc: 0.9953\n",
      "Epoch 71/200\n",
      "50000/50000 [==============================] - 67s 1ms/step - loss: 0.0199 - acc: 0.9950\n",
      "Epoch 72/200\n",
      "50000/50000 [==============================] - 67s 1ms/step - loss: 0.0191 - acc: 0.9950\n",
      "Epoch 73/200\n",
      "50000/50000 [==============================] - 66s 1ms/step - loss: 0.0205 - acc: 0.9949\n",
      "Epoch 74/200\n",
      "50000/50000 [==============================] - 64s 1ms/step - loss: 0.0178 - acc: 0.9952\n",
      "Epoch 75/200\n",
      "50000/50000 [==============================] - 64s 1ms/step - loss: 0.0189 - acc: 0.9952\n",
      "Epoch 76/200\n",
      "50000/50000 [==============================] - 64s 1ms/step - loss: 0.0247 - acc: 0.9941\n",
      "Epoch 77/200\n",
      "50000/50000 [==============================] - 64s 1ms/step - loss: 0.0208 - acc: 0.9948\n",
      "Epoch 78/200\n",
      "50000/50000 [==============================] - 64s 1ms/step - loss: 0.0212 - acc: 0.9947\n",
      "Epoch 79/200\n",
      "50000/50000 [==============================] - 64s 1ms/step - loss: 0.0230 - acc: 0.9942\n",
      "Epoch 80/200\n",
      "50000/50000 [==============================] - 65s 1ms/step - loss: 0.0214 - acc: 0.9947\n",
      "Epoch 81/200\n",
      "50000/50000 [==============================] - 64s 1ms/step - loss: 0.0209 - acc: 0.9949\n",
      "Epoch 82/200\n",
      "50000/50000 [==============================] - 64s 1ms/step - loss: 0.0210 - acc: 0.9944\n",
      "Epoch 83/200\n"
     ]
    },
    {
     "name": "stdout",
     "output_type": "stream",
     "text": [
      "50000/50000 [==============================] - 65s 1ms/step - loss: 0.0213 - acc: 0.9946\n",
      "Epoch 84/200\n",
      "50000/50000 [==============================] - 65s 1ms/step - loss: 0.0199 - acc: 0.9949\n",
      "Epoch 85/200\n",
      "50000/50000 [==============================] - 64s 1ms/step - loss: 0.0197 - acc: 0.9951\n",
      "Epoch 86/200\n",
      "50000/50000 [==============================] - 65s 1ms/step - loss: 0.0189 - acc: 0.9955\n",
      "Epoch 87/200\n",
      "50000/50000 [==============================] - 64s 1ms/step - loss: 0.0180 - acc: 0.9958\n",
      "Epoch 88/200\n",
      "50000/50000 [==============================] - 65s 1ms/step - loss: 0.0211 - acc: 0.9946\n",
      "Epoch 89/200\n",
      "50000/50000 [==============================] - 65s 1ms/step - loss: 0.0198 - acc: 0.9951\n",
      "Epoch 90/200\n",
      "50000/50000 [==============================] - 64s 1ms/step - loss: 0.0193 - acc: 0.9952\n",
      "Epoch 91/200\n",
      "50000/50000 [==============================] - 65s 1ms/step - loss: 0.0205 - acc: 0.9949\n",
      "Epoch 92/200\n",
      "50000/50000 [==============================] - 65s 1ms/step - loss: 0.0199 - acc: 0.9955\n",
      "Epoch 93/200\n",
      "50000/50000 [==============================] - 65s 1ms/step - loss: 0.0208 - acc: 0.9953\n",
      "Epoch 94/200\n",
      "50000/50000 [==============================] - 66s 1ms/step - loss: 0.0189 - acc: 0.9957\n",
      "Epoch 95/200\n",
      "50000/50000 [==============================] - 65s 1ms/step - loss: 0.0191 - acc: 0.9958\n",
      "Epoch 96/200\n",
      "50000/50000 [==============================] - 64s 1ms/step - loss: 0.0206 - acc: 0.9948\n",
      "Epoch 97/200\n",
      "50000/50000 [==============================] - 65s 1ms/step - loss: 0.0244 - acc: 0.9942\n",
      "Epoch 98/200\n",
      "50000/50000 [==============================] - 65s 1ms/step - loss: 0.0199 - acc: 0.9950\n",
      "Epoch 99/200\n",
      "50000/50000 [==============================] - 66s 1ms/step - loss: 0.0202 - acc: 0.9951\n",
      "Epoch 100/200\n",
      "50000/50000 [==============================] - 66s 1ms/step - loss: 0.0191 - acc: 0.9956\n",
      "Epoch 101/200\n",
      "50000/50000 [==============================] - 65s 1ms/step - loss: 0.0191 - acc: 0.9954\n",
      "Epoch 102/200\n",
      "50000/50000 [==============================] - 65s 1ms/step - loss: 0.0231 - acc: 0.9948\n",
      "Epoch 103/200\n",
      "50000/50000 [==============================] - 66s 1ms/step - loss: 0.0212 - acc: 0.9945\n",
      "Epoch 104/200\n",
      "50000/50000 [==============================] - 67s 1ms/step - loss: 0.0197 - acc: 0.9954\n",
      "Epoch 105/200\n",
      "50000/50000 [==============================] - 67s 1ms/step - loss: 0.0166 - acc: 0.9958\n",
      "Epoch 106/200\n",
      "50000/50000 [==============================] - 66s 1ms/step - loss: 0.0215 - acc: 0.9957\n",
      "Epoch 107/200\n",
      "50000/50000 [==============================] - 67s 1ms/step - loss: 0.0198 - acc: 0.9952\n",
      "Epoch 108/200\n",
      "50000/50000 [==============================] - 67s 1ms/step - loss: 0.0203 - acc: 0.9954\n",
      "Epoch 109/200\n",
      "50000/50000 [==============================] - 67s 1ms/step - loss: 0.0243 - acc: 0.9948\n",
      "Epoch 110/200\n",
      "50000/50000 [==============================] - 67s 1ms/step - loss: 0.0205 - acc: 0.9952\n",
      "Epoch 111/200\n",
      "50000/50000 [==============================] - 67s 1ms/step - loss: 0.0209 - acc: 0.9956\n",
      "Epoch 112/200\n",
      "50000/50000 [==============================] - 67s 1ms/step - loss: 0.0190 - acc: 0.9954\n",
      "Epoch 113/200\n",
      "50000/50000 [==============================] - 68s 1ms/step - loss: 0.0190 - acc: 0.9956\n",
      "Epoch 114/200\n",
      "50000/50000 [==============================] - 67s 1ms/step - loss: 0.0206 - acc: 0.9953\n",
      "Epoch 115/200\n",
      "50000/50000 [==============================] - 67s 1ms/step - loss: 0.0198 - acc: 0.9955\n",
      "Epoch 116/200\n",
      "50000/50000 [==============================] - 68s 1ms/step - loss: 0.0185 - acc: 0.9957\n",
      "Epoch 117/200\n",
      "50000/50000 [==============================] - 68s 1ms/step - loss: 0.0202 - acc: 0.9955\n",
      "Epoch 118/200\n",
      "50000/50000 [==============================] - 68s 1ms/step - loss: 0.0164 - acc: 0.9959\n",
      "Epoch 119/200\n",
      "50000/50000 [==============================] - 69s 1ms/step - loss: 0.0196 - acc: 0.9957\n",
      "Epoch 120/200\n",
      "50000/50000 [==============================] - 68s 1ms/step - loss: 0.0194 - acc: 0.9954\n",
      "Epoch 121/200\n",
      "50000/50000 [==============================] - 68s 1ms/step - loss: 0.0195 - acc: 0.9955\n",
      "Epoch 122/200\n",
      "50000/50000 [==============================] - 68s 1ms/step - loss: 0.0178 - acc: 0.9958\n",
      "Epoch 123/200\n",
      "50000/50000 [==============================] - 68s 1ms/step - loss: 0.0193 - acc: 0.9961\n",
      "Epoch 124/200\n",
      "50000/50000 [==============================] - 69s 1ms/step - loss: 0.0193 - acc: 0.9956\n",
      "Epoch 125/200\n",
      "50000/50000 [==============================] - 68s 1ms/step - loss: 0.0188 - acc: 0.9962\n",
      "Epoch 126/200\n",
      "50000/50000 [==============================] - 68s 1ms/step - loss: 0.0187 - acc: 0.9958\n",
      "Epoch 127/200\n",
      "50000/50000 [==============================] - 69s 1ms/step - loss: 0.0180 - acc: 0.9959\n",
      "Epoch 128/200\n",
      "50000/50000 [==============================] - 68s 1ms/step - loss: 0.0194 - acc: 0.9960\n",
      "Epoch 129/200\n",
      "50000/50000 [==============================] - 69s 1ms/step - loss: 0.0184 - acc: 0.9959\n",
      "Epoch 130/200\n",
      "50000/50000 [==============================] - 69s 1ms/step - loss: 0.0175 - acc: 0.9963\n",
      "Epoch 131/200\n",
      "50000/50000 [==============================] - 68s 1ms/step - loss: 0.0189 - acc: 0.9959\n",
      "Epoch 132/200\n",
      "50000/50000 [==============================] - 69s 1ms/step - loss: 0.0166 - acc: 0.9961\n",
      "Epoch 133/200\n",
      "50000/50000 [==============================] - 69s 1ms/step - loss: 0.0163 - acc: 0.9958\n",
      "Epoch 134/200\n",
      "50000/50000 [==============================] - 69s 1ms/step - loss: 0.0175 - acc: 0.9961\n",
      "Epoch 135/200\n",
      "50000/50000 [==============================] - 70s 1ms/step - loss: 0.0177 - acc: 0.9961\n",
      "Epoch 136/200\n",
      "50000/50000 [==============================] - 69s 1ms/step - loss: 0.0191 - acc: 0.9959\n",
      "Epoch 137/200\n",
      "50000/50000 [==============================] - 70s 1ms/step - loss: 0.0182 - acc: 0.9961\n",
      "Epoch 138/200\n",
      "50000/50000 [==============================] - 70s 1ms/step - loss: 0.0172 - acc: 0.9963\n",
      "Epoch 139/200\n",
      "50000/50000 [==============================] - 70s 1ms/step - loss: 0.0166 - acc: 0.9962\n",
      "Epoch 140/200\n",
      "50000/50000 [==============================] - 70s 1ms/step - loss: 0.0183 - acc: 0.9961\n",
      "Epoch 141/200\n",
      "50000/50000 [==============================] - 70s 1ms/step - loss: 0.0180 - acc: 0.9961\n",
      "Epoch 142/200\n",
      "50000/50000 [==============================] - 70s 1ms/step - loss: 0.0180 - acc: 0.9963\n",
      "Epoch 143/200\n",
      "50000/50000 [==============================] - 70s 1ms/step - loss: 0.0167 - acc: 0.9962\n",
      "Epoch 144/200\n",
      "50000/50000 [==============================] - 70s 1ms/step - loss: 0.0170 - acc: 0.9963\n",
      "Epoch 145/200\n",
      "50000/50000 [==============================] - 70s 1ms/step - loss: 0.0169 - acc: 0.9963\n",
      "Epoch 146/200\n",
      "50000/50000 [==============================] - 70s 1ms/step - loss: 0.0178 - acc: 0.9960\n",
      "Epoch 147/200\n",
      "50000/50000 [==============================] - 70s 1ms/step - loss: 0.0173 - acc: 0.9959\n",
      "Epoch 148/200\n",
      "36000/50000 [====================>.........] - ETA: 19s - loss: 0.0196 - acc: 0.9955"
     ]
    },
    {
     "name": "stderr",
     "output_type": "stream",
     "text": [
      "IOPub message rate exceeded.\n",
      "The notebook server will temporarily stop sending output\n",
      "to the client in order to avoid crashing it.\n",
      "To change this limit, set the config variable\n",
      "`--NotebookApp.iopub_msg_rate_limit`.\n",
      "\n",
      "Current values:\n",
      "NotebookApp.iopub_msg_rate_limit=1000.0 (msgs/sec)\n",
      "NotebookApp.rate_limit_window=3.0 (secs)\n",
      "\n"
     ]
    }
   ],
   "source": [
    "model.fit(train_X, train_Y, epochs=200,verbose=1, batch_size=2000)"
   ]
  },
  {
   "cell_type": "code",
   "execution_count": 19,
   "metadata": {},
   "outputs": [
    {
     "name": "stdout",
     "output_type": "stream",
     "text": [
      "7774/7774 [==============================] - 9s 1ms/step\n",
      "Accuracy: 90.84%\n"
     ]
    }
   ],
   "source": [
    "scores = model.evaluate(test_X, test_Y, verbose=1)\n",
    "print(\"Accuracy: %.2f%%\" % (scores[1]*100))"
   ]
  },
  {
   "cell_type": "code",
   "execution_count": 20,
   "metadata": {},
   "outputs": [],
   "source": [
    "#you can save the as a file so you dont have to train it every time\n",
    "model.save( os.path.join(phage_init.model_dir,model_name))"
   ]
  },
  {
   "cell_type": "code",
   "execution_count": 15,
   "metadata": {},
   "outputs": [
    {
     "name": "stdout",
     "output_type": "stream",
     "text": [
      "                   precision    recall  f1-score   support\n",
      "\n",
      "     Major capsid       0.95      0.94      0.94      1836\n",
      "     Minor capsid       0.73      0.55      0.63       105\n",
      "        Baseplate       0.91      0.88      0.89       308\n",
      "       Major tail       0.92      0.87      0.90       423\n",
      "       Minor tail       0.82      0.81      0.81       499\n",
      "           Portal       0.94      0.95      0.95      2473\n",
      "       Tail fiber       0.78      0.74      0.76       412\n",
      "       Tail shaft       0.89      0.95      0.92       677\n",
      "           Collar       0.72      0.80      0.76       149\n",
      "Head-Tail joining       0.90      0.92      0.91       892\n",
      "\n",
      "        micro avg       0.91      0.91      0.91      7774\n",
      "        macro avg       0.86      0.84      0.85      7774\n",
      "     weighted avg       0.91      0.91      0.91      7774\n",
      "\n"
     ]
    }
   ],
   "source": [
    "from sklearn.metrics import classification_report\n",
    "\n",
    "\n",
    "test_Y_index = test_Y.argmax(axis=1) # Convert one-hot to index\n",
    "test_Y_predicted = model.predict_classes(test_X)\n",
    "labels_names=[\"Major capsid\",\"Minor capsid\",\"Baseplate\",\"Major tail\",\"Minor tail\",\"Portal\",\"Tail fiber\",\n",
    "             \"Tail shaft\",\"Collar\",\"Head-Tail joining\"]\n",
    "print(classification_report(test_Y_index, test_Y_predicted, target_names=labels_names ))\n",
    "#print (test_Y_index)"
   ]
  },
  {
   "cell_type": "code",
   "execution_count": 16,
   "metadata": {},
   "outputs": [
    {
     "name": "stdout",
     "output_type": "stream",
     "text": [
      "Counter({5: 2473, 0: 1836, 9: 892, 7: 677, 4: 499, 3: 423, 6: 412, 2: 308, 8: 149, 1: 105})\n",
      "[1836, 105, 308, 423, 499, 2473, 412, 677, 149, 892]\n",
      "\n"
     ]
    }
   ],
   "source": [
    "from collections import Counter\n",
    "zz=Counter(test_Y_index)\n",
    "sample_w=[zz[i] for i in range(0,10,1)]\n",
    "print(zz)\n",
    "print(sample_w)\n",
    "print()"
   ]
  },
  {
   "cell_type": "code",
   "execution_count": 21,
   "metadata": {},
   "outputs": [
    {
     "data": {
      "image/png": "[encoded data removed]",
      "text/plain": [
       "<Figure size 599.04x449.28 with 2 Axes>"
      ]
     },
     "metadata": {
      "needs_background": "light"
     },
     "output_type": "display_data"
    }
   ],
   "source": [
    "from sklearn.metrics import confusion_matrix\n",
    "import matplotlib.pyplot as plt\n",
    "import itertools\n",
    "\n",
    "CM=confusion_matrix(test_Y_index, test_Y_predicted)\n",
    "CM_n=CM/numpy.array(sample_w)[:,None]\n",
    "scale_up=1.3\n",
    "plt.figure(figsize=[6.4*scale_up, 4.8*scale_up])\n",
    "plt.imshow(CM_n, interpolation='nearest')\n",
    "plt.title('CM')\n",
    "plt.colorbar()\n",
    "tick_marks = numpy.arange(len(labels_names))\n",
    "plt.xticks(tick_marks, labels_names, rotation=90)\n",
    "plt.yticks(tick_marks, labels_names)\n",
    "fmt = '.2f'\n",
    "for i, j in itertools.product(range(CM_n.shape[0]), range(CM_n.shape[1])):\n",
    "        plt.text(j, i, format(CM_n[i, j], fmt),horizontalalignment=\"center\",verticalalignment='center',\n",
    "                color=\"white\" if CM_n[i, j] < 0.25 else \"black\")\n",
    "plt.show()"
   ]
  },
  {
   "cell_type": "code",
   "execution_count": 18,
   "metadata": {},
   "outputs": [],
   "source": [
    "plt.show()"
   ]
  }
 ],
 "metadata": {
  "kernelspec": {
   "display_name": "Environment (conda_tensor_4)",
   "language": "python",
   "name": "conda_tensor_4"
  },
  "language_info": {
   "codemirror_mode": {
    "name": "ipython",
    "version": 3
   },
   "file_extension": ".py",
   "mimetype": "text/x-python",
   "name": "python",
   "nbconvert_exporter": "python",
   "pygments_lexer": "ipython3",
   "version": "3.6.7"
  }
 },
 "nbformat": 4,
 "nbformat_minor": 2
}
