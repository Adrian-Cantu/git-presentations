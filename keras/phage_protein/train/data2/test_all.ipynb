{
 "cells": [
  {
   "cell_type": "code",
   "execution_count": 1,
   "metadata": {},
   "outputs": [],
   "source": [
    "import os\n",
    "import sys\n",
    "sys.path.append(\"../..\")\n",
    "import phage_init"
   ]
  },
  {
   "cell_type": "code",
   "execution_count": 2,
   "metadata": {},
   "outputs": [],
   "source": [
    "import pandas as pd\n",
    "#d = {'model': [], 'class': [],'precision':[],'recall':[],'f1-score':[]}\n",
    "d = {'model': [], 'class': [],'score_type':[],'value':[]}\n",
    "df = pd.DataFrame(data=d)\n",
    "F = open('all_models_table.txt','w') "
   ]
  },
  {
   "cell_type": "code",
   "execution_count": 3,
   "metadata": {},
   "outputs": [],
   "source": [
    "#load the saved matrices\n",
    "import pickle\n",
    "train_X_total=pickle.load(open( os.path.join(phage_init.data_dir,\"train_x_data2_full.p\"), \"rb\" ) )\n",
    "test_X_total=pickle.load(open( os.path.join(phage_init.data_dir,\"test_x_data2_full.p\"), \"rb\" ) )\n",
    "train_Y=pickle.load(open( os.path.join(phage_init.data_dir,\"train_y_data2_full.p\"), \"rb\" ) )\n",
    "test_Y=pickle.load(open( os.path.join(phage_init.data_dir,\"test_y_data2_full.p\"), \"rb\" ) )\n",
    "mean_total=pickle.load(open( os.path.join(phage_init.data_dir,\"mean_data2_full.p\"), \"rb\" ) )\n",
    "std_total=pickle.load(open( os.path.join(phage_init.data_dir,\"std_data2_full.p\"), \"rb\" ) )"
   ]
  },
  {
   "cell_type": "code",
   "execution_count": 9,
   "metadata": {},
   "outputs": [],
   "source": [
    "def add_to_df(df,test_Y_index, test_Y_predicted,model_name):\n",
    "    labels_names=[\"Major capsid\",\"Minor capsid\",\"Baseplate\",\"Major tail\",\"Minor tail\",\"Portal\",\"Tail fiber\",\n",
    "             \"Tail shaft\",\"Collar\",\"Head-Tail joining\"]\n",
    "    labels_dataframe=[\"Major capsid\",\"Minor capsid\",\"Baseplate\",\"Major tail\",\"Minor tail\",\"Portal\",\"Tail fiber\",\n",
    "                 \"Tail shaft\",\"Collar\",\"Head-Tail joining\",\"weighted avg\"]\n",
    "    report=classification_report(test_Y_index, test_Y_predicted, target_names=labels_names,output_dict=True )\n",
    "    for label in labels_dataframe:\n",
    "        #data_row=[report[label][i] for i in ['precision','recall',\"f1-score\"]]\n",
    "        #data_row.insert(0,label)\n",
    "        #data_row.insert(0,model_name)\n",
    "        score_type='precision'\n",
    "        data_row=[model_name,label,score_type,report[label][score_type]]\n",
    "        df=df.append(pd.Series(data_row,index=df.columns),sort=False,ignore_index=True)\n",
    "        score_type='recall'\n",
    "        data_row=[model_name,label,score_type,report[label][score_type]]\n",
    "        df=df.append(pd.Series(data_row,index=df.columns),sort=False,ignore_index=True)\n",
    "        score_type='f1-score'\n",
    "        data_row=[model_name,label,score_type,report[label][score_type]]\n",
    "        df=df.append(pd.Series(data_row,index=df.columns),sort=False,ignore_index=True)\n",
    "    return df\n",
    "    \n"
   ]
  },
  {
   "cell_type": "code",
   "execution_count": 5,
   "metadata": {},
   "outputs": [],
   "source": [
    "di_train     = train_X_total[:,0:400]\n",
    "tri_train    = train_X_total[:,400:8400]\n",
    "di_sc_train  = train_X_total[:,8400:8449] \n",
    "tri_sc_train = train_X_total[:,8449:8792]\n",
    "tt_train     = train_X_total[:,8792:]"
   ]
  },
  {
   "cell_type": "code",
   "execution_count": 6,
   "metadata": {},
   "outputs": [],
   "source": [
    "di_test     = test_X_total[:,0:400]\n",
    "tri_test    = test_X_total[:,400:8400]\n",
    "di_sc_test  = test_X_total[:,8400:8449] \n",
    "tri_sc_test = test_X_total[:,8449:8792]\n",
    "tt_test     = test_X_total[:,8792:]"
   ]
  },
  {
   "cell_type": "code",
   "execution_count": 7,
   "metadata": {},
   "outputs": [],
   "source": [
    "test_Y_index = test_Y.argmax(axis=1) # Convert one-hot to index\n",
    "labels_names=[\"Major capsid\",\"Minor capsid\",\"Baseplate\",\"Major tail\",\"Minor tail\",\"Portal\",\"Tail fiber\",\n",
    "             \"Tail shaft\",\"Collar\",\"Head-Tail joining\"]\n",
    "labels_dataframe=[\"Major capsid\",\"Minor capsid\",\"Baseplate\",\"Major tail\",\"Minor tail\",\"Portal\",\"Tail fiber\",\n",
    "                 \"Tail shaft\",\"Collar\",\"Head-Tail joining\",\"weighted avg\"]"
   ]
  },
  {
   "cell_type": "code",
   "execution_count": 8,
   "metadata": {},
   "outputs": [
    {
     "name": "stderr",
     "output_type": "stream",
     "text": [
      "Using TensorFlow backend.\n"
     ]
    }
   ],
   "source": [
    "from keras.models import Sequential\n",
    "from keras.layers import Dense\n",
    "from keras.layers import LSTM\n",
    "from keras.layers import Activation\n",
    "from keras.layers import Dropout\n",
    "from keras.models import load_model\n",
    "from sklearn.metrics import classification_report\n",
    "import numpy"
   ]
  },
  {
   "cell_type": "code",
   "execution_count": null,
   "metadata": {},
   "outputs": [],
   "source": [
    "df = pd.DataFrame(data=d)"
   ]
  },
  {
   "cell_type": "code",
   "execution_count": 11,
   "metadata": {},
   "outputs": [
    {
     "data": {
      "text/html": [
       "<div>\n",
       "<style scoped>\n",
       "    .dataframe tbody tr th:only-of-type {\n",
       "        vertical-align: middle;\n",
       "    }\n",
       "\n",
       "    .dataframe tbody tr th {\n",
       "        vertical-align: top;\n",
       "    }\n",
       "\n",
       "    .dataframe thead th {\n",
       "        text-align: right;\n",
       "    }\n",
       "</style>\n",
       "<table border=\"1\" class=\"dataframe\">\n",
       "  <thead>\n",
       "    <tr style=\"text-align: right;\">\n",
       "      <th></th>\n",
       "      <th>model</th>\n",
       "      <th>class</th>\n",
       "      <th>score_type</th>\n",
       "      <th>value</th>\n",
       "    </tr>\n",
       "  </thead>\n",
       "  <tbody>\n",
       "    <tr>\n",
       "      <th>0</th>\n",
       "      <td>di_data2.h5</td>\n",
       "      <td>Major capsid</td>\n",
       "      <td>precision</td>\n",
       "      <td>0.936182</td>\n",
       "    </tr>\n",
       "    <tr>\n",
       "      <th>1</th>\n",
       "      <td>di_data2.h5</td>\n",
       "      <td>Major capsid</td>\n",
       "      <td>recall</td>\n",
       "      <td>0.942810</td>\n",
       "    </tr>\n",
       "    <tr>\n",
       "      <th>2</th>\n",
       "      <td>di_data2.h5</td>\n",
       "      <td>Major capsid</td>\n",
       "      <td>f1-score</td>\n",
       "      <td>0.939484</td>\n",
       "    </tr>\n",
       "    <tr>\n",
       "      <th>3</th>\n",
       "      <td>di_data2.h5</td>\n",
       "      <td>Minor capsid</td>\n",
       "      <td>precision</td>\n",
       "      <td>0.739130</td>\n",
       "    </tr>\n",
       "    <tr>\n",
       "      <th>4</th>\n",
       "      <td>di_data2.h5</td>\n",
       "      <td>Minor capsid</td>\n",
       "      <td>recall</td>\n",
       "      <td>0.485714</td>\n",
       "    </tr>\n",
       "    <tr>\n",
       "      <th>5</th>\n",
       "      <td>di_data2.h5</td>\n",
       "      <td>Minor capsid</td>\n",
       "      <td>f1-score</td>\n",
       "      <td>0.586207</td>\n",
       "    </tr>\n",
       "    <tr>\n",
       "      <th>6</th>\n",
       "      <td>di_data2.h5</td>\n",
       "      <td>Baseplate</td>\n",
       "      <td>precision</td>\n",
       "      <td>0.876254</td>\n",
       "    </tr>\n",
       "    <tr>\n",
       "      <th>7</th>\n",
       "      <td>di_data2.h5</td>\n",
       "      <td>Baseplate</td>\n",
       "      <td>recall</td>\n",
       "      <td>0.850649</td>\n",
       "    </tr>\n",
       "    <tr>\n",
       "      <th>8</th>\n",
       "      <td>di_data2.h5</td>\n",
       "      <td>Baseplate</td>\n",
       "      <td>f1-score</td>\n",
       "      <td>0.863262</td>\n",
       "    </tr>\n",
       "    <tr>\n",
       "      <th>9</th>\n",
       "      <td>di_data2.h5</td>\n",
       "      <td>Major tail</td>\n",
       "      <td>precision</td>\n",
       "      <td>0.879070</td>\n",
       "    </tr>\n",
       "    <tr>\n",
       "      <th>10</th>\n",
       "      <td>di_data2.h5</td>\n",
       "      <td>Major tail</td>\n",
       "      <td>recall</td>\n",
       "      <td>0.893617</td>\n",
       "    </tr>\n",
       "    <tr>\n",
       "      <th>11</th>\n",
       "      <td>di_data2.h5</td>\n",
       "      <td>Major tail</td>\n",
       "      <td>f1-score</td>\n",
       "      <td>0.886284</td>\n",
       "    </tr>\n",
       "    <tr>\n",
       "      <th>12</th>\n",
       "      <td>di_data2.h5</td>\n",
       "      <td>Minor tail</td>\n",
       "      <td>precision</td>\n",
       "      <td>0.868750</td>\n",
       "    </tr>\n",
       "    <tr>\n",
       "      <th>13</th>\n",
       "      <td>di_data2.h5</td>\n",
       "      <td>Minor tail</td>\n",
       "      <td>recall</td>\n",
       "      <td>0.835671</td>\n",
       "    </tr>\n",
       "    <tr>\n",
       "      <th>14</th>\n",
       "      <td>di_data2.h5</td>\n",
       "      <td>Minor tail</td>\n",
       "      <td>f1-score</td>\n",
       "      <td>0.851890</td>\n",
       "    </tr>\n",
       "    <tr>\n",
       "      <th>15</th>\n",
       "      <td>di_data2.h5</td>\n",
       "      <td>Portal</td>\n",
       "      <td>precision</td>\n",
       "      <td>0.939527</td>\n",
       "    </tr>\n",
       "    <tr>\n",
       "      <th>16</th>\n",
       "      <td>di_data2.h5</td>\n",
       "      <td>Portal</td>\n",
       "      <td>recall</td>\n",
       "      <td>0.948645</td>\n",
       "    </tr>\n",
       "    <tr>\n",
       "      <th>17</th>\n",
       "      <td>di_data2.h5</td>\n",
       "      <td>Portal</td>\n",
       "      <td>f1-score</td>\n",
       "      <td>0.944064</td>\n",
       "    </tr>\n",
       "    <tr>\n",
       "      <th>18</th>\n",
       "      <td>di_data2.h5</td>\n",
       "      <td>Tail fiber</td>\n",
       "      <td>precision</td>\n",
       "      <td>0.789873</td>\n",
       "    </tr>\n",
       "    <tr>\n",
       "      <th>19</th>\n",
       "      <td>di_data2.h5</td>\n",
       "      <td>Tail fiber</td>\n",
       "      <td>recall</td>\n",
       "      <td>0.757282</td>\n",
       "    </tr>\n",
       "    <tr>\n",
       "      <th>20</th>\n",
       "      <td>di_data2.h5</td>\n",
       "      <td>Tail fiber</td>\n",
       "      <td>f1-score</td>\n",
       "      <td>0.773234</td>\n",
       "    </tr>\n",
       "    <tr>\n",
       "      <th>21</th>\n",
       "      <td>di_data2.h5</td>\n",
       "      <td>Tail shaft</td>\n",
       "      <td>precision</td>\n",
       "      <td>0.949618</td>\n",
       "    </tr>\n",
       "    <tr>\n",
       "      <th>22</th>\n",
       "      <td>di_data2.h5</td>\n",
       "      <td>Tail shaft</td>\n",
       "      <td>recall</td>\n",
       "      <td>0.918759</td>\n",
       "    </tr>\n",
       "    <tr>\n",
       "      <th>23</th>\n",
       "      <td>di_data2.h5</td>\n",
       "      <td>Tail shaft</td>\n",
       "      <td>f1-score</td>\n",
       "      <td>0.933934</td>\n",
       "    </tr>\n",
       "    <tr>\n",
       "      <th>24</th>\n",
       "      <td>di_data2.h5</td>\n",
       "      <td>Collar</td>\n",
       "      <td>precision</td>\n",
       "      <td>0.712575</td>\n",
       "    </tr>\n",
       "    <tr>\n",
       "      <th>25</th>\n",
       "      <td>di_data2.h5</td>\n",
       "      <td>Collar</td>\n",
       "      <td>recall</td>\n",
       "      <td>0.798658</td>\n",
       "    </tr>\n",
       "    <tr>\n",
       "      <th>26</th>\n",
       "      <td>di_data2.h5</td>\n",
       "      <td>Collar</td>\n",
       "      <td>f1-score</td>\n",
       "      <td>0.753165</td>\n",
       "    </tr>\n",
       "    <tr>\n",
       "      <th>27</th>\n",
       "      <td>di_data2.h5</td>\n",
       "      <td>Head-Tail joining</td>\n",
       "      <td>precision</td>\n",
       "      <td>0.892819</td>\n",
       "    </tr>\n",
       "    <tr>\n",
       "      <th>28</th>\n",
       "      <td>di_data2.h5</td>\n",
       "      <td>Head-Tail joining</td>\n",
       "      <td>recall</td>\n",
       "      <td>0.933857</td>\n",
       "    </tr>\n",
       "    <tr>\n",
       "      <th>29</th>\n",
       "      <td>di_data2.h5</td>\n",
       "      <td>Head-Tail joining</td>\n",
       "      <td>f1-score</td>\n",
       "      <td>0.912877</td>\n",
       "    </tr>\n",
       "    <tr>\n",
       "      <th>30</th>\n",
       "      <td>di_data2.h5</td>\n",
       "      <td>weighted avg</td>\n",
       "      <td>precision</td>\n",
       "      <td>0.908929</td>\n",
       "    </tr>\n",
       "    <tr>\n",
       "      <th>31</th>\n",
       "      <td>di_data2.h5</td>\n",
       "      <td>weighted avg</td>\n",
       "      <td>recall</td>\n",
       "      <td>0.909570</td>\n",
       "    </tr>\n",
       "    <tr>\n",
       "      <th>32</th>\n",
       "      <td>di_data2.h5</td>\n",
       "      <td>weighted avg</td>\n",
       "      <td>f1-score</td>\n",
       "      <td>0.908714</td>\n",
       "    </tr>\n",
       "  </tbody>\n",
       "</table>\n",
       "</div>"
      ],
      "text/plain": [
       "          model              class score_type     value\n",
       "0   di_data2.h5       Major capsid  precision  0.936182\n",
       "1   di_data2.h5       Major capsid     recall  0.942810\n",
       "2   di_data2.h5       Major capsid   f1-score  0.939484\n",
       "3   di_data2.h5       Minor capsid  precision  0.739130\n",
       "4   di_data2.h5       Minor capsid     recall  0.485714\n",
       "5   di_data2.h5       Minor capsid   f1-score  0.586207\n",
       "6   di_data2.h5          Baseplate  precision  0.876254\n",
       "7   di_data2.h5          Baseplate     recall  0.850649\n",
       "8   di_data2.h5          Baseplate   f1-score  0.863262\n",
       "9   di_data2.h5         Major tail  precision  0.879070\n",
       "10  di_data2.h5         Major tail     recall  0.893617\n",
       "11  di_data2.h5         Major tail   f1-score  0.886284\n",
       "12  di_data2.h5         Minor tail  precision  0.868750\n",
       "13  di_data2.h5         Minor tail     recall  0.835671\n",
       "14  di_data2.h5         Minor tail   f1-score  0.851890\n",
       "15  di_data2.h5             Portal  precision  0.939527\n",
       "16  di_data2.h5             Portal     recall  0.948645\n",
       "17  di_data2.h5             Portal   f1-score  0.944064\n",
       "18  di_data2.h5         Tail fiber  precision  0.789873\n",
       "19  di_data2.h5         Tail fiber     recall  0.757282\n",
       "20  di_data2.h5         Tail fiber   f1-score  0.773234\n",
       "21  di_data2.h5         Tail shaft  precision  0.949618\n",
       "22  di_data2.h5         Tail shaft     recall  0.918759\n",
       "23  di_data2.h5         Tail shaft   f1-score  0.933934\n",
       "24  di_data2.h5             Collar  precision  0.712575\n",
       "25  di_data2.h5             Collar     recall  0.798658\n",
       "26  di_data2.h5             Collar   f1-score  0.753165\n",
       "27  di_data2.h5  Head-Tail joining  precision  0.892819\n",
       "28  di_data2.h5  Head-Tail joining     recall  0.933857\n",
       "29  di_data2.h5  Head-Tail joining   f1-score  0.912877\n",
       "30  di_data2.h5       weighted avg  precision  0.908929\n",
       "31  di_data2.h5       weighted avg     recall  0.909570\n",
       "32  di_data2.h5       weighted avg   f1-score  0.908714"
      ]
     },
     "execution_count": 11,
     "metadata": {},
     "output_type": "execute_result"
    }
   ],
   "source": [
    "df"
   ]
  },
  {
   "cell_type": "code",
   "execution_count": 10,
   "metadata": {},
   "outputs": [
    {
     "name": "stdout",
     "output_type": "stream",
     "text": [
      "                   precision    recall  f1-score   support\n",
      "\n",
      "     Major capsid       0.94      0.94      0.94      1836\n",
      "     Minor capsid       0.74      0.49      0.59       105\n",
      "        Baseplate       0.88      0.85      0.86       308\n",
      "       Major tail       0.88      0.89      0.89       423\n",
      "       Minor tail       0.87      0.84      0.85       499\n",
      "           Portal       0.94      0.95      0.94      2473\n",
      "       Tail fiber       0.79      0.76      0.77       412\n",
      "       Tail shaft       0.95      0.92      0.93       677\n",
      "           Collar       0.71      0.80      0.75       149\n",
      "Head-Tail joining       0.89      0.93      0.91       892\n",
      "\n",
      "        micro avg       0.91      0.91      0.91      7774\n",
      "        macro avg       0.86      0.84      0.84      7774\n",
      "     weighted avg       0.91      0.91      0.91      7774\n",
      "\n"
     ]
    },
    {
     "data": {
      "text/plain": [
       "828"
      ]
     },
     "execution_count": 10,
     "metadata": {},
     "output_type": "execute_result"
    }
   ],
   "source": [
    "test_X=di_test\n",
    "model_name='di_data2.h5'\n",
    "\n",
    "model = load_model( os.path.join(phage_init.model_dir,model_name) )\n",
    "test_Y_predicted = model.predict_classes(test_X)\n",
    "print(classification_report(test_Y_index, test_Y_predicted, target_names=labels_names ))\n",
    "df=add_to_df(df,test_Y_index, test_Y_predicted,model_name)\n",
    "F.write(model_name)\n",
    "F.write(classification_report(test_Y_index, test_Y_predicted, target_names=labels_names ))"
   ]
  },
  {
   "cell_type": "code",
   "execution_count": 12,
   "metadata": {},
   "outputs": [
    {
     "name": "stdout",
     "output_type": "stream",
     "text": [
      "                   precision    recall  f1-score   support\n",
      "\n",
      "     Major capsid       0.95      0.94      0.94      1836\n",
      "     Minor capsid       0.77      0.54      0.64       105\n",
      "        Baseplate       0.90      0.86      0.88       308\n",
      "       Major tail       0.88      0.92      0.90       423\n",
      "       Minor tail       0.87      0.84      0.86       499\n",
      "           Portal       0.94      0.96      0.95      2473\n",
      "       Tail fiber       0.79      0.73      0.76       412\n",
      "       Tail shaft       0.94      0.93      0.94       677\n",
      "           Collar       0.78      0.72      0.75       149\n",
      "Head-Tail joining       0.88      0.95      0.91       892\n",
      "\n",
      "        micro avg       0.91      0.91      0.91      7774\n",
      "        macro avg       0.87      0.84      0.85      7774\n",
      "     weighted avg       0.91      0.91      0.91      7774\n",
      "\n"
     ]
    },
    {
     "data": {
      "text/plain": [
       "828"
      ]
     },
     "execution_count": 12,
     "metadata": {},
     "output_type": "execute_result"
    }
   ],
   "source": [
    "test_X=numpy.concatenate((di_test,tt_test),axis=1)\n",
    "model_name='di_p_data2.h5'\n",
    "\n",
    "model = load_model( os.path.join(phage_init.model_dir,model_name) )\n",
    "test_Y_predicted = model.predict_classes(test_X)\n",
    "print(classification_report(test_Y_index, test_Y_predicted, target_names=labels_names ))\n",
    "df=add_to_df(df,test_Y_index, test_Y_predicted,model_name)\n",
    "F.write(model_name)\n",
    "F.write(classification_report(test_Y_index, test_Y_predicted, target_names=labels_names ))"
   ]
  },
  {
   "cell_type": "code",
   "execution_count": null,
   "metadata": {},
   "outputs": [],
   "source": [
    "from sklearn.metrics import confusion_matrix\n",
    "import matplotlib.pyplot as plt\n",
    "import itertools\n",
    "from collections import Counter\n",
    "zz=Counter(test_Y_index)\n",
    "sample_w=[zz[i] for i in range(0,10,1)]\n",
    "\n",
    "CM=confusion_matrix(test_Y_index, test_Y_predicted)\n",
    "CM_n=CM/numpy.array(sample_w)[:,None]\n",
    "scale_up=1.3\n",
    "plt.figure(figsize=[6.4*scale_up, 4.8*scale_up])\n",
    "plt.imshow(CM_n, interpolation='nearest')\n",
    "plt.title('CM')\n",
    "plt.colorbar()\n",
    "tick_marks = numpy.arange(len(labels_names))\n",
    "plt.xticks(tick_marks, labels_names, rotation=90)\n",
    "plt.yticks(tick_marks, labels_names)\n",
    "fmt = '.2f'\n",
    "for i, j in itertools.product(range(CM_n.shape[0]), range(CM_n.shape[1])):\n",
    "        plt.text(j, i, format(CM_n[i, j], fmt),horizontalalignment=\"center\",verticalalignment='center',\n",
    "                color=\"white\" if CM_n[i, j] < 0.25 else \"black\")"
   ]
  },
  {
   "cell_type": "code",
   "execution_count": 13,
   "metadata": {},
   "outputs": [
    {
     "name": "stdout",
     "output_type": "stream",
     "text": [
      "                   precision    recall  f1-score   support\n",
      "\n",
      "     Major capsid       0.95      0.94      0.94      1836\n",
      "     Minor capsid       0.73      0.55      0.63       105\n",
      "        Baseplate       0.91      0.88      0.89       308\n",
      "       Major tail       0.92      0.87      0.90       423\n",
      "       Minor tail       0.82      0.81      0.81       499\n",
      "           Portal       0.94      0.95      0.95      2473\n",
      "       Tail fiber       0.78      0.74      0.76       412\n",
      "       Tail shaft       0.89      0.95      0.92       677\n",
      "           Collar       0.72      0.80      0.76       149\n",
      "Head-Tail joining       0.90      0.92      0.91       892\n",
      "\n",
      "        micro avg       0.91      0.91      0.91      7774\n",
      "        macro avg       0.86      0.84      0.85      7774\n",
      "     weighted avg       0.91      0.91      0.91      7774\n",
      "\n"
     ]
    },
    {
     "data": {
      "text/plain": [
       "828"
      ]
     },
     "execution_count": 13,
     "metadata": {},
     "output_type": "execute_result"
    }
   ],
   "source": [
    "test_X=tri_test\n",
    "model_name='tri_data2.h5'\n",
    "\n",
    "model = load_model( os.path.join(phage_init.model_dir,model_name) )\n",
    "test_Y_predicted = model.predict_classes(test_X)\n",
    "print(classification_report(test_Y_index, test_Y_predicted, target_names=labels_names ))\n",
    "df=add_to_df(df,test_Y_index, test_Y_predicted,model_name)\n",
    "F.write(model_name)\n",
    "F.write(classification_report(test_Y_index, test_Y_predicted, target_names=labels_names ))"
   ]
  },
  {
   "cell_type": "code",
   "execution_count": 14,
   "metadata": {},
   "outputs": [
    {
     "name": "stdout",
     "output_type": "stream",
     "text": [
      "                   precision    recall  f1-score   support\n",
      "\n",
      "     Major capsid       0.94      0.95      0.94      1836\n",
      "     Minor capsid       0.71      0.52      0.60       105\n",
      "        Baseplate       0.93      0.84      0.88       308\n",
      "       Major tail       0.84      0.92      0.88       423\n",
      "       Minor tail       0.83      0.80      0.81       499\n",
      "           Portal       0.93      0.96      0.94      2473\n",
      "       Tail fiber       0.80      0.72      0.76       412\n",
      "       Tail shaft       0.95      0.94      0.95       677\n",
      "           Collar       0.74      0.79      0.76       149\n",
      "Head-Tail joining       0.92      0.90      0.91       892\n",
      "\n",
      "        micro avg       0.91      0.91      0.91      7774\n",
      "        macro avg       0.86      0.83      0.84      7774\n",
      "     weighted avg       0.91      0.91      0.91      7774\n",
      "\n"
     ]
    },
    {
     "data": {
      "text/plain": [
       "828"
      ]
     },
     "execution_count": 14,
     "metadata": {},
     "output_type": "execute_result"
    }
   ],
   "source": [
    "test_X=numpy.concatenate((tri_test,tt_test),axis=1)\n",
    "model_name='tri_p_data2.h5'\n",
    "\n",
    "model = load_model( os.path.join(phage_init.model_dir,model_name) )\n",
    "test_Y_predicted = model.predict_classes(test_X)\n",
    "print(classification_report(test_Y_index, test_Y_predicted, target_names=labels_names ))\n",
    "df=add_to_df(df,test_Y_index, test_Y_predicted,model_name)\n",
    "F.write(model_name)\n",
    "F.write(classification_report(test_Y_index, test_Y_predicted, target_names=labels_names ))"
   ]
  },
  {
   "cell_type": "code",
   "execution_count": 15,
   "metadata": {},
   "outputs": [
    {
     "name": "stdout",
     "output_type": "stream",
     "text": [
      "                   precision    recall  f1-score   support\n",
      "\n",
      "     Major capsid       0.82      0.84      0.83      1836\n",
      "     Minor capsid       0.88      0.28      0.42       105\n",
      "        Baseplate       0.79      0.64      0.71       308\n",
      "       Major tail       0.81      0.78      0.79       423\n",
      "       Minor tail       0.75      0.65      0.69       499\n",
      "           Portal       0.81      0.90      0.85      2473\n",
      "       Tail fiber       0.69      0.56      0.62       412\n",
      "       Tail shaft       0.81      0.80      0.81       677\n",
      "           Collar       0.74      0.66      0.70       149\n",
      "Head-Tail joining       0.80      0.80      0.80       892\n",
      "\n",
      "        micro avg       0.80      0.80      0.80      7774\n",
      "        macro avg       0.79      0.69      0.72      7774\n",
      "     weighted avg       0.80      0.80      0.80      7774\n",
      "\n"
     ]
    },
    {
     "data": {
      "text/plain": [
       "828"
      ]
     },
     "execution_count": 15,
     "metadata": {},
     "output_type": "execute_result"
    }
   ],
   "source": [
    "test_X=di_sc_test\n",
    "model_name='di_sc_data2.h5'\n",
    "\n",
    "model = load_model( os.path.join(phage_init.model_dir,model_name) )\n",
    "test_Y_predicted = model.predict_classes(test_X)\n",
    "print(classification_report(test_Y_index, test_Y_predicted, target_names=labels_names ))\n",
    "df=add_to_df(df,test_Y_index, test_Y_predicted,model_name)\n",
    "F.write(model_name)\n",
    "F.write(classification_report(test_Y_index, test_Y_predicted, target_names=labels_names ))"
   ]
  },
  {
   "cell_type": "code",
   "execution_count": 16,
   "metadata": {},
   "outputs": [
    {
     "name": "stdout",
     "output_type": "stream",
     "text": [
      "                   precision    recall  f1-score   support\n",
      "\n",
      "     Major capsid       0.91      0.91      0.91      1836\n",
      "     Minor capsid       0.87      0.39      0.54       105\n",
      "        Baseplate       0.83      0.78      0.80       308\n",
      "       Major tail       0.86      0.88      0.87       423\n",
      "       Minor tail       0.80      0.75      0.78       499\n",
      "           Portal       0.90      0.93      0.91      2473\n",
      "       Tail fiber       0.73      0.64      0.68       412\n",
      "       Tail shaft       0.89      0.88      0.88       677\n",
      "           Collar       0.65      0.64      0.65       149\n",
      "Head-Tail joining       0.86      0.90      0.88       892\n",
      "\n",
      "        micro avg       0.87      0.87      0.87      7774\n",
      "        macro avg       0.83      0.77      0.79      7774\n",
      "     weighted avg       0.87      0.87      0.87      7774\n",
      "\n"
     ]
    },
    {
     "data": {
      "text/plain": [
       "828"
      ]
     },
     "execution_count": 16,
     "metadata": {},
     "output_type": "execute_result"
    }
   ],
   "source": [
    "test_X=numpy.concatenate((di_sc_test,tt_test),axis=1)\n",
    "model_name='di_sc_p_data2.h5'\n",
    "\n",
    "model = load_model( os.path.join(phage_init.model_dir,model_name) )\n",
    "test_Y_predicted = model.predict_classes(test_X)\n",
    "print(classification_report(test_Y_index, test_Y_predicted, target_names=labels_names ))\n",
    "df=add_to_df(df,test_Y_index, test_Y_predicted,model_name)\n",
    "F.write(model_name)\n",
    "F.write(classification_report(test_Y_index, test_Y_predicted, target_names=labels_names ))"
   ]
  },
  {
   "cell_type": "code",
   "execution_count": 17,
   "metadata": {},
   "outputs": [
    {
     "name": "stdout",
     "output_type": "stream",
     "text": [
      "                   precision    recall  f1-score   support\n",
      "\n",
      "     Major capsid       0.91      0.93      0.92      1836\n",
      "     Minor capsid       0.70      0.51      0.59       105\n",
      "        Baseplate       0.85      0.82      0.84       308\n",
      "       Major tail       0.85      0.85      0.85       423\n",
      "       Minor tail       0.82      0.80      0.81       499\n",
      "           Portal       0.92      0.93      0.92      2473\n",
      "       Tail fiber       0.77      0.68      0.72       412\n",
      "       Tail shaft       0.93      0.89      0.91       677\n",
      "           Collar       0.68      0.77      0.72       149\n",
      "Head-Tail joining       0.86      0.91      0.88       892\n",
      "\n",
      "        micro avg       0.88      0.88      0.88      7774\n",
      "        macro avg       0.83      0.81      0.82      7774\n",
      "     weighted avg       0.88      0.88      0.88      7774\n",
      "\n"
     ]
    },
    {
     "data": {
      "text/plain": [
       "828"
      ]
     },
     "execution_count": 17,
     "metadata": {},
     "output_type": "execute_result"
    }
   ],
   "source": [
    "test_X=tri_sc_test\n",
    "model_name='tri_sc_data2.h5'\n",
    "\n",
    "model = load_model( os.path.join(phage_init.model_dir,model_name) )\n",
    "test_Y_predicted = model.predict_classes(test_X)\n",
    "print(classification_report(test_Y_index, test_Y_predicted, target_names=labels_names ))\n",
    "df=add_to_df(df,test_Y_index, test_Y_predicted,model_name)\n",
    "F.write(model_name)\n",
    "F.write(classification_report(test_Y_index, test_Y_predicted, target_names=labels_names ))"
   ]
  },
  {
   "cell_type": "code",
   "execution_count": 18,
   "metadata": {},
   "outputs": [
    {
     "name": "stdout",
     "output_type": "stream",
     "text": [
      "                   precision    recall  f1-score   support\n",
      "\n",
      "     Major capsid       0.93      0.92      0.93      1836\n",
      "     Minor capsid       0.76      0.50      0.60       105\n",
      "        Baseplate       0.90      0.84      0.87       308\n",
      "       Major tail       0.85      0.88      0.86       423\n",
      "       Minor tail       0.87      0.81      0.84       499\n",
      "           Portal       0.92      0.94      0.93      2473\n",
      "       Tail fiber       0.72      0.70      0.71       412\n",
      "       Tail shaft       0.94      0.92      0.93       677\n",
      "           Collar       0.70      0.72      0.71       149\n",
      "Head-Tail joining       0.87      0.92      0.90       892\n",
      "\n",
      "        micro avg       0.90      0.90      0.90      7774\n",
      "        macro avg       0.85      0.82      0.83      7774\n",
      "     weighted avg       0.89      0.90      0.89      7774\n",
      "\n"
     ]
    },
    {
     "data": {
      "text/plain": [
       "828"
      ]
     },
     "execution_count": 18,
     "metadata": {},
     "output_type": "execute_result"
    }
   ],
   "source": [
    "test_X=numpy.concatenate((tri_sc_test,tt_test),axis=1)\n",
    "model_name='tri_sc_p_data2.h5'\n",
    "\n",
    "model = load_model( os.path.join(phage_init.model_dir,model_name) )\n",
    "test_Y_predicted = model.predict_classes(test_X)\n",
    "print(classification_report(test_Y_index, test_Y_predicted, target_names=labels_names ))\n",
    "df=add_to_df(df,test_Y_index, test_Y_predicted,model_name)\n",
    "F.write(model_name)\n",
    "F.write(classification_report(test_Y_index, test_Y_predicted, target_names=labels_names ))"
   ]
  },
  {
   "cell_type": "code",
   "execution_count": 19,
   "metadata": {},
   "outputs": [
    {
     "name": "stdout",
     "output_type": "stream",
     "text": [
      "                   precision    recall  f1-score   support\n",
      "\n",
      "     Major capsid       0.94      0.95      0.95      1836\n",
      "     Minor capsid       0.74      0.56      0.64       105\n",
      "        Baseplate       0.92      0.85      0.89       308\n",
      "       Major tail       0.88      0.92      0.90       423\n",
      "       Minor tail       0.87      0.82      0.85       499\n",
      "           Portal       0.94      0.96      0.95      2473\n",
      "       Tail fiber       0.78      0.77      0.78       412\n",
      "       Tail shaft       0.93      0.94      0.93       677\n",
      "           Collar       0.74      0.73      0.74       149\n",
      "Head-Tail joining       0.92      0.91      0.92       892\n",
      "\n",
      "        micro avg       0.91      0.91      0.91      7774\n",
      "        macro avg       0.87      0.84      0.85      7774\n",
      "     weighted avg       0.91      0.91      0.91      7774\n",
      "\n"
     ]
    },
    {
     "data": {
      "text/plain": [
       "828"
      ]
     },
     "execution_count": 19,
     "metadata": {},
     "output_type": "execute_result"
    }
   ],
   "source": [
    "test_X=test_X_total\n",
    "model_name='all_data2.h5'\n",
    "\n",
    "model = load_model( os.path.join(phage_init.model_dir,model_name) )\n",
    "test_Y_predicted = model.predict_classes(test_X)\n",
    "print(classification_report(test_Y_index, test_Y_predicted, target_names=labels_names ))\n",
    "df=add_to_df(df,test_Y_index, test_Y_predicted,model_name)\n",
    "F.write(model_name)\n",
    "F.write(classification_report(test_Y_index, test_Y_predicted, target_names=labels_names ))"
   ]
  },
  {
   "cell_type": "code",
   "execution_count": 20,
   "metadata": {},
   "outputs": [],
   "source": [
    "import seaborn as sns\n",
    "import matplotlib.pyplot as plt\n"
   ]
  },
  {
   "cell_type": "code",
   "execution_count": 21,
   "metadata": {},
   "outputs": [],
   "source": [
    "avg_df=df[df['class'] == 'weighted avg']"
   ]
  },
  {
   "cell_type": "code",
   "execution_count": 27,
   "metadata": {},
   "outputs": [
    {
     "data": {
      "image/png": "[encoded data removed]",
      "text/plain": [
       "<Figure size 576x432 with 1 Axes>"
      ]
     },
     "metadata": {},
     "output_type": "display_data"
    }
   ],
   "source": [
    "fig, ax = plt.subplots()\n",
    "\n",
    "#fig.set_size_inches(18, 15)\n",
    "fig.set_size_inches(8, 6)\n",
    "sns.set(style=\"whitegrid\")\n",
    "ax.tick_params(axis='y',labelsize=16)\n",
    "ax.tick_params(axis='x',labelsize=14)\n",
    "ax.set_title('Weighted average model metrics', fontsize=40,va='bottom')\n",
    "sns.barplot(ax=ax,y=\"value\", x=\"model\", hue=\"score_type\", data=avg_df)\n",
    "ax.set_ylabel('')    \n",
    "ax.set_xlabel('')\n",
    "l = ax.legend()\n",
    "plt.setp(ax.get_legend().get_texts(), fontsize='22') # for legend text\n",
    "#print(dir(l))\n",
    "ax.set(ylim=(0.7, 1))\n",
    "ax.set_xticklabels(['di','di_p','tri','tri_p','di_sc','di_sc_p','tri_sc','tri_sc_p','all'])\n",
    "plt.show()\n",
    "fig.savefig('avg_score.pdf')\n"
   ]
  },
  {
   "cell_type": "code",
   "execution_count": 23,
   "metadata": {},
   "outputs": [],
   "source": [
    "f1_df=df[df['score_type'] == 'f1-score']"
   ]
  },
  {
   "cell_type": "code",
   "execution_count": 24,
   "metadata": {},
   "outputs": [
    {
     "data": {
      "image/png": "[encoded data removed]",
      "text/plain": [
       "<Figure size 1296x1080 with 1 Axes>"
      ]
     },
     "metadata": {},
     "output_type": "display_data"
    }
   ],
   "source": [
    "fig2, ax2 = plt.subplots()\n",
    "fig2.set_size_inches(18, 15)\n",
    "sns.set(style=\"whitegrid\")\n",
    "ax2.tick_params(axis='y',labelsize=16)\n",
    "ax2.tick_params(axis='x',labelsize=14)\n",
    "ax2.set_title('Per class f1-score', fontsize=40,va='bottom')\n",
    "sns.barplot(ax=ax2,y=\"value\", x=\"model\", hue=\"class\", data=f1_df)\n",
    "ax2.set_ylabel('')    \n",
    "ax2.set_xlabel('')\n",
    "l = ax2.legend()\n",
    "plt.setp(ax2.get_legend().get_texts(), fontsize='22') # for legend text\n",
    "#print(dir(l))\n",
    "ax2.set(ylim=(0, 1))\n",
    "ax2.set(xlim=(-0.5, 11.2))\n",
    "ax2.set_xticklabels(['di','di_p','tri','tri_p','di_sc','di_sc_p','tri_sc','tri_sc_p','all'])\n",
    "plt.show()\n",
    "fig2.savefig('f1_score')"
   ]
  },
  {
   "cell_type": "code",
   "execution_count": 25,
   "metadata": {},
   "outputs": [],
   "source": [
    "F.close()"
   ]
  }
 ],
 "metadata": {
  "kernelspec": {
   "display_name": "Environment (conda_tensorflow_p36)",
   "language": "python",
   "name": "conda_tensorflow_p36"
  },
  "language_info": {
   "codemirror_mode": {
    "name": "ipython",
    "version": 3
   },
   "file_extension": ".py",
   "mimetype": "text/x-python",
   "name": "python",
   "nbconvert_exporter": "python",
   "pygments_lexer": "ipython3",
   "version": "3.6.5"
  }
 },
 "nbformat": 4,
 "nbformat_minor": 2
}
