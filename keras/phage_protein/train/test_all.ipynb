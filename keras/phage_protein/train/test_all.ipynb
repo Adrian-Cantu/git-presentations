{
 "cells": [
  {
   "cell_type": "code",
   "execution_count": 15,
   "metadata": {},
   "outputs": [],
   "source": [
    "import os\n",
    "import sys\n",
    "sys.path.append(\"..\")\n",
    "import phage_init"
   ]
  },
  {
   "cell_type": "code",
   "execution_count": 2,
   "metadata": {},
   "outputs": [],
   "source": [
    "#load the saved matrices\n",
    "import pickle\n",
    "train_X_total=pickle.load(open( os.path.join(phage_init.data_dir,\"train_x.p\"), \"rb\" ) )\n",
    "test_X_total=pickle.load(open( os.path.join(phage_init.data_dir,\"test_x.p\"), \"rb\" ) )\n",
    "train_Y=pickle.load(open( os.path.join(phage_init.data_dir,\"train_y.p\"), \"rb\" ) )\n",
    "test_Y=pickle.load(open( os.path.join(phage_init.data_dir,\"test_y.p\"), \"rb\" ) )\n",
    "mean_total=pickle.load(open( os.path.join(phage_init.data_dir,\"mean.p\"), \"rb\" ) )\n",
    "std_total=pickle.load(open( os.path.join(phage_init.data_dir,\"std.p\"), \"rb\" ) )"
   ]
  },
  {
   "cell_type": "code",
   "execution_count": 3,
   "metadata": {},
   "outputs": [],
   "source": [
    "di_train     = train_X_total[:,0:400]\n",
    "tri_train    = train_X_total[:,400:8400]\n",
    "di_sc_train  = train_X_total[:,8400:8449] \n",
    "tri_sc_train = train_X_total[:,8449:8792]\n",
    "tt_train     = train_X_total[:,8792:]"
   ]
  },
  {
   "cell_type": "code",
   "execution_count": 4,
   "metadata": {},
   "outputs": [],
   "source": [
    "di_test     = test_X_total[:,0:400]\n",
    "tri_test    = test_X_total[:,400:8400]\n",
    "di_sc_test  = test_X_total[:,8400:8449] \n",
    "tri_sc_test = test_X_total[:,8449:8792]\n",
    "tt_test     = test_X_total[:,8792:]"
   ]
  },
  {
   "cell_type": "code",
   "execution_count": 5,
   "metadata": {},
   "outputs": [],
   "source": [
    "test_Y_index = test_Y.argmax(axis=1) # Convert one-hot to index\n",
    "labels_names=[\"Major capsid\",\"Minor capsid\",\"Baseplate\",\"Major tail\",\"Minor tail\",\"Portal\",\"Tail fiber\",\n",
    "             \"Tail shaft\",\"Collar\",\"Head-Tail joining\"]"
   ]
  },
  {
   "cell_type": "code",
   "execution_count": 6,
   "metadata": {},
   "outputs": [
    {
     "name": "stderr",
     "output_type": "stream",
     "text": [
      "Using TensorFlow backend.\n"
     ]
    }
   ],
   "source": [
    "from keras.models import Sequential\n",
    "from keras.layers import Dense\n",
    "from keras.layers import LSTM\n",
    "from keras.layers import Activation\n",
    "from keras.layers import Dropout\n",
    "from keras.models import load_model\n",
    "from sklearn.metrics import classification_report\n",
    "import numpy"
   ]
  },
  {
   "cell_type": "code",
   "execution_count": 7,
   "metadata": {},
   "outputs": [
    {
     "name": "stdout",
     "output_type": "stream",
     "text": [
      "                   precision    recall  f1-score   support\n",
      "\n",
      "     Major capsid       0.92      0.78      0.85        93\n",
      "     Minor capsid       0.75      0.87      0.80        52\n",
      "        Baseplate       0.63      0.89      0.74       103\n",
      "       Major tail       0.91      0.74      0.82        54\n",
      "       Minor tail       0.96      0.75      0.84        36\n",
      "           Portal       0.87      0.75      0.81        73\n",
      "       Tail fiber       0.65      0.49      0.56        87\n",
      "       Tail shaft       0.80      0.67      0.73        48\n",
      "           Collar       0.61      0.88      0.72        49\n",
      "Head-Tail joining       0.97      0.94      0.96        80\n",
      "\n",
      "      avg / total       0.80      0.78      0.78       675\n",
      "\n"
     ]
    }
   ],
   "source": [
    "test_X=di_test\n",
    "model_name='di.h5'\n",
    "\n",
    "model = load_model( os.path.join(phage_init.model_dir,model_name) )\n",
    "test_Y_predicted = model.predict_classes(test_X)\n",
    "print(classification_report(test_Y_index, test_Y_predicted, target_names=labels_names ))"
   ]
  },
  {
   "cell_type": "code",
   "execution_count": 8,
   "metadata": {},
   "outputs": [
    {
     "name": "stdout",
     "output_type": "stream",
     "text": [
      "                   precision    recall  f1-score   support\n",
      "\n",
      "     Major capsid       0.92      0.73      0.81        93\n",
      "     Minor capsid       0.77      0.83      0.80        52\n",
      "        Baseplate       0.83      0.81      0.82       103\n",
      "       Major tail       0.90      0.65      0.75        54\n",
      "       Minor tail       0.88      0.83      0.86        36\n",
      "           Portal       0.84      0.74      0.79        73\n",
      "       Tail fiber       0.50      0.57      0.53        87\n",
      "       Tail shaft       0.65      0.77      0.70        48\n",
      "           Collar       0.55      0.92      0.69        49\n",
      "Head-Tail joining       0.96      0.82      0.89        80\n",
      "\n",
      "      avg / total       0.79      0.76      0.76       675\n",
      "\n"
     ]
    }
   ],
   "source": [
    "test_X=numpy.concatenate((di_test,tt_test),axis=1)\n",
    "model_name='di_p.h5'\n",
    "\n",
    "model = load_model( os.path.join(phage_init.model_dir,model_name) )\n",
    "test_Y_predicted = model.predict_classes(test_X)\n",
    "print(classification_report(test_Y_index, test_Y_predicted, target_names=labels_names ))"
   ]
  },
  {
   "cell_type": "code",
   "execution_count": 9,
   "metadata": {},
   "outputs": [
    {
     "name": "stdout",
     "output_type": "stream",
     "text": [
      "                   precision    recall  f1-score   support\n",
      "\n",
      "     Major capsid       0.85      0.84      0.84        93\n",
      "     Minor capsid       0.77      0.83      0.80        52\n",
      "        Baseplate       0.81      0.84      0.82       103\n",
      "       Major tail       0.84      0.70      0.77        54\n",
      "       Minor tail       0.89      0.89      0.89        36\n",
      "           Portal       0.88      0.77      0.82        73\n",
      "       Tail fiber       0.58      0.68      0.63        87\n",
      "       Tail shaft       0.55      0.71      0.62        48\n",
      "           Collar       0.50      0.33      0.40        49\n",
      "Head-Tail joining       0.97      0.96      0.97        80\n",
      "\n",
      "      avg / total       0.77      0.77      0.77       675\n",
      "\n"
     ]
    }
   ],
   "source": [
    "test_X=tri_test\n",
    "model_name='tri.h5'\n",
    "\n",
    "model = load_model( os.path.join(phage_init.model_dir,model_name) )\n",
    "test_Y_predicted = model.predict_classes(test_X)\n",
    "print(classification_report(test_Y_index, test_Y_predicted, target_names=labels_names ))"
   ]
  },
  {
   "cell_type": "code",
   "execution_count": 10,
   "metadata": {},
   "outputs": [
    {
     "name": "stdout",
     "output_type": "stream",
     "text": [
      "                   precision    recall  f1-score   support\n",
      "\n",
      "     Major capsid       0.89      0.83      0.86        93\n",
      "     Minor capsid       0.81      0.88      0.84        52\n",
      "        Baseplate       0.74      0.87      0.80       103\n",
      "       Major tail       1.00      0.59      0.74        54\n",
      "       Minor tail       0.97      0.78      0.86        36\n",
      "           Portal       0.86      0.75      0.80        73\n",
      "       Tail fiber       0.52      0.59      0.55        87\n",
      "       Tail shaft       0.55      0.77      0.64        48\n",
      "           Collar       0.39      0.31      0.34        49\n",
      "Head-Tail joining       0.96      0.96      0.96        80\n",
      "\n",
      "      avg / total       0.77      0.75      0.75       675\n",
      "\n"
     ]
    }
   ],
   "source": [
    "test_X=numpy.concatenate((tri_test,tt_test),axis=1)\n",
    "model_name='tri_p.h5'\n",
    "\n",
    "model = load_model( os.path.join(phage_init.model_dir,model_name) )\n",
    "test_Y_predicted = model.predict_classes(test_X)\n",
    "print(classification_report(test_Y_index, test_Y_predicted, target_names=labels_names ))"
   ]
  },
  {
   "cell_type": "code",
   "execution_count": 11,
   "metadata": {},
   "outputs": [
    {
     "name": "stdout",
     "output_type": "stream",
     "text": [
      "                   precision    recall  f1-score   support\n",
      "\n",
      "     Major capsid       0.68      0.81      0.74        93\n",
      "     Minor capsid       0.77      0.63      0.69        52\n",
      "        Baseplate       0.74      0.83      0.78       103\n",
      "       Major tail       0.89      0.63      0.74        54\n",
      "       Minor tail       0.85      0.78      0.81        36\n",
      "           Portal       0.70      0.75      0.72        73\n",
      "       Tail fiber       0.53      0.68      0.59        87\n",
      "       Tail shaft       0.69      0.56      0.62        48\n",
      "           Collar       0.54      0.27      0.36        49\n",
      "Head-Tail joining       0.91      0.93      0.92        80\n",
      "\n",
      "      avg / total       0.72      0.72      0.71       675\n",
      "\n"
     ]
    }
   ],
   "source": [
    "test_X=di_sc_test\n",
    "model_name='di_sc.h5'\n",
    "\n",
    "model = load_model( os.path.join(phage_init.model_dir,model_name) )\n",
    "test_Y_predicted = model.predict_classes(test_X)\n",
    "print(classification_report(test_Y_index, test_Y_predicted, target_names=labels_names ))"
   ]
  },
  {
   "cell_type": "code",
   "execution_count": 12,
   "metadata": {},
   "outputs": [
    {
     "name": "stdout",
     "output_type": "stream",
     "text": [
      "                   precision    recall  f1-score   support\n",
      "\n",
      "     Major capsid       0.84      0.87      0.85        93\n",
      "     Minor capsid       0.84      0.73      0.78        52\n",
      "        Baseplate       0.76      0.82      0.79       103\n",
      "       Major tail       0.87      0.72      0.79        54\n",
      "       Minor tail       0.88      0.83      0.86        36\n",
      "           Portal       0.82      0.82      0.82        73\n",
      "       Tail fiber       0.65      0.55      0.60        87\n",
      "       Tail shaft       0.59      0.67      0.63        48\n",
      "           Collar       0.59      0.76      0.66        49\n",
      "Head-Tail joining       0.95      0.95      0.95        80\n",
      "\n",
      "      avg / total       0.78      0.78      0.78       675\n",
      "\n"
     ]
    }
   ],
   "source": [
    "test_X=numpy.concatenate((di_sc_test,tt_test),axis=1)\n",
    "model_name='di_sc_p.h5'\n",
    "\n",
    "model = load_model( os.path.join(phage_init.model_dir,model_name) )\n",
    "test_Y_predicted = model.predict_classes(test_X)\n",
    "print(classification_report(test_Y_index, test_Y_predicted, target_names=labels_names ))"
   ]
  },
  {
   "cell_type": "code",
   "execution_count": 13,
   "metadata": {},
   "outputs": [
    {
     "name": "stdout",
     "output_type": "stream",
     "text": [
      "                   precision    recall  f1-score   support\n",
      "\n",
      "     Major capsid       0.87      0.83      0.85        93\n",
      "     Minor capsid       0.81      0.83      0.82        52\n",
      "        Baseplate       0.79      0.81      0.80       103\n",
      "       Major tail       0.80      0.72      0.76        54\n",
      "       Minor tail       0.88      0.81      0.84        36\n",
      "           Portal       0.80      0.77      0.78        73\n",
      "       Tail fiber       0.55      0.53      0.54        87\n",
      "       Tail shaft       0.54      0.56      0.55        48\n",
      "           Collar       0.54      0.67      0.60        49\n",
      "Head-Tail joining       0.96      0.97      0.97        80\n",
      "\n",
      "      avg / total       0.76      0.76      0.76       675\n",
      "\n"
     ]
    }
   ],
   "source": [
    "test_X=tri_sc_test\n",
    "model_name='tri_sc.h5'\n",
    "\n",
    "model = load_model( os.path.join(phage_init.model_dir,model_name) )\n",
    "test_Y_predicted = model.predict_classes(test_X)\n",
    "print(classification_report(test_Y_index, test_Y_predicted, target_names=labels_names ))"
   ]
  },
  {
   "cell_type": "code",
   "execution_count": 14,
   "metadata": {},
   "outputs": [
    {
     "name": "stdout",
     "output_type": "stream",
     "text": [
      "                   precision    recall  f1-score   support\n",
      "\n",
      "     Major capsid       0.85      0.88      0.86        93\n",
      "     Minor capsid       0.84      0.83      0.83        52\n",
      "        Baseplate       0.85      0.80      0.82       103\n",
      "       Major tail       0.84      0.80      0.82        54\n",
      "       Minor tail       0.94      0.81      0.87        36\n",
      "           Portal       0.81      0.74      0.77        73\n",
      "       Tail fiber       0.53      0.55      0.54        87\n",
      "       Tail shaft       0.63      0.60      0.62        48\n",
      "           Collar       0.50      0.61      0.55        49\n",
      "Head-Tail joining       0.92      0.99      0.95        80\n",
      "\n",
      "      avg / total       0.78      0.77      0.77       675\n",
      "\n"
     ]
    }
   ],
   "source": [
    "test_X=numpy.concatenate((tri_sc_test,tt_test),axis=1)\n",
    "model_name='tri_sc_p.h5'\n",
    "\n",
    "model = load_model( os.path.join(phage_init.model_dir,model_name) )\n",
    "test_Y_predicted = model.predict_classes(test_X)\n",
    "print(classification_report(test_Y_index, test_Y_predicted, target_names=labels_names ))"
   ]
  }
 ],
 "metadata": {
  "kernelspec": {
   "display_name": "Environment (conda_tensorflow_p36)",
   "language": "python",
   "name": "conda_tensorflow_p36"
  },
  "language_info": {
   "codemirror_mode": {
    "name": "ipython",
    "version": 3
   },
   "file_extension": ".py",
   "mimetype": "text/x-python",
   "name": "python",
   "nbconvert_exporter": "python",
   "pygments_lexer": "ipython3",
   "version": "3.6.5"
  }
 },
 "nbformat": 4,
 "nbformat_minor": 2
}
