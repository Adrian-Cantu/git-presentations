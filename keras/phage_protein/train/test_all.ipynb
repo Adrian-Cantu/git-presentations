{
 "cells": [
  {
   "cell_type": "code",
   "execution_count": 1,
   "metadata": {},
   "outputs": [],
   "source": [
    "import os\n",
    "import sys\n",
    "sys.path.append(\"..\")\n",
    "import phage_init"
   ]
  },
  {
   "cell_type": "code",
   "execution_count": 2,
   "metadata": {},
   "outputs": [],
   "source": [
    "import pandas as pd\n",
    "#d = {'model': [], 'class': [],'precision':[],'recall':[],'f1-score':[]}\n",
    "d = {'model': [], 'class': [],'score_type':[],'value':[]}\n",
    "df = pd.DataFrame(data=d)\n",
    "F = open('all_models_table.txt','w') "
   ]
  },
  {
   "cell_type": "code",
   "execution_count": 3,
   "metadata": {},
   "outputs": [],
   "source": [
    "#load the saved matrices\n",
    "import pickle\n",
    "train_X_total=pickle.load(open( os.path.join(phage_init.data_dir,\"train_x.p\"), \"rb\" ) )\n",
    "test_X_total=pickle.load(open( os.path.join(phage_init.data_dir,\"test_x.p\"), \"rb\" ) )\n",
    "train_Y=pickle.load(open( os.path.join(phage_init.data_dir,\"train_y.p\"), \"rb\" ) )\n",
    "test_Y=pickle.load(open( os.path.join(phage_init.data_dir,\"test_y.p\"), \"rb\" ) )\n",
    "mean_total=pickle.load(open( os.path.join(phage_init.data_dir,\"mean.p\"), \"rb\" ) )\n",
    "std_total=pickle.load(open( os.path.join(phage_init.data_dir,\"std.p\"), \"rb\" ) )"
   ]
  },
  {
   "cell_type": "code",
   "execution_count": 4,
   "metadata": {},
   "outputs": [],
   "source": [
    "def add_to_df(df,test_Y_index, test_Y_predicted,model_name):\n",
    "    labels_names=[\"Major capsid\",\"Minor capsid\",\"Baseplate\",\"Major tail\",\"Minor tail\",\"Portal\",\"Tail fiber\",\n",
    "             \"Tail shaft\",\"Collar\",\"Head-Tail joining\"]\n",
    "    labels_dataframe=[\"Major capsid\",\"Minor capsid\",\"Baseplate\",\"Major tail\",\"Minor tail\",\"Portal\",\"Tail fiber\",\n",
    "                 \"Tail shaft\",\"Collar\",\"Head-Tail joining\",\"weighted avg\"]\n",
    "    for label in labels_dataframe:\n",
    "        report=classification_report(test_Y_index, test_Y_predicted, target_names=labels_names,output_dict=True )\n",
    "        #data_row=[report[label][i] for i in ['precision','recall',\"f1-score\"]]\n",
    "        #data_row.insert(0,label)\n",
    "        #data_row.insert(0,model_name)\n",
    "        score_type='precision'\n",
    "        data_row=[model_name,label,score_type,report[label][score_type]]\n",
    "        df=df.append(pd.Series(data_row,index=df.columns),sort=False,ignore_index=True)\n",
    "        score_type='recall'\n",
    "        data_row=[model_name,label,score_type,report[label][score_type]]\n",
    "        df=df.append(pd.Series(data_row,index=df.columns),sort=False,ignore_index=True)\n",
    "        score_type='f1-score'\n",
    "        data_row=[model_name,label,score_type,report[label][score_type]]\n",
    "        df=df.append(pd.Series(data_row,index=df.columns),sort=False,ignore_index=True)\n",
    "    return df\n",
    "    \n"
   ]
  },
  {
   "cell_type": "code",
   "execution_count": 5,
   "metadata": {},
   "outputs": [],
   "source": [
    "di_train     = train_X_total[:,0:400]\n",
    "tri_train    = train_X_total[:,400:8400]\n",
    "di_sc_train  = train_X_total[:,8400:8449] \n",
    "tri_sc_train = train_X_total[:,8449:8792]\n",
    "tt_train     = train_X_total[:,8792:]"
   ]
  },
  {
   "cell_type": "code",
   "execution_count": 6,
   "metadata": {},
   "outputs": [],
   "source": [
    "di_test     = test_X_total[:,0:400]\n",
    "tri_test    = test_X_total[:,400:8400]\n",
    "di_sc_test  = test_X_total[:,8400:8449] \n",
    "tri_sc_test = test_X_total[:,8449:8792]\n",
    "tt_test     = test_X_total[:,8792:]"
   ]
  },
  {
   "cell_type": "code",
   "execution_count": 7,
   "metadata": {},
   "outputs": [],
   "source": [
    "test_Y_index = test_Y.argmax(axis=1) # Convert one-hot to index\n",
    "labels_names=[\"Major capsid\",\"Minor capsid\",\"Baseplate\",\"Major tail\",\"Minor tail\",\"Portal\",\"Tail fiber\",\n",
    "             \"Tail shaft\",\"Collar\",\"Head-Tail joining\"]\n",
    "labels_dataframe=[\"Major capsid\",\"Minor capsid\",\"Baseplate\",\"Major tail\",\"Minor tail\",\"Portal\",\"Tail fiber\",\n",
    "                 \"Tail shaft\",\"Collar\",\"Head-Tail joining\",\"weighted avg\"]"
   ]
  },
  {
   "cell_type": "code",
   "execution_count": 8,
   "metadata": {},
   "outputs": [
    {
     "name": "stderr",
     "output_type": "stream",
     "text": [
      "Using TensorFlow backend.\n"
     ]
    }
   ],
   "source": [
    "from keras.models import Sequential\n",
    "from keras.layers import Dense\n",
    "from keras.layers import LSTM\n",
    "from keras.layers import Activation\n",
    "from keras.layers import Dropout\n",
    "from keras.models import load_model\n",
    "from sklearn.metrics import classification_report\n",
    "import numpy"
   ]
  },
  {
   "cell_type": "code",
   "execution_count": 9,
   "metadata": {},
   "outputs": [
    {
     "name": "stdout",
     "output_type": "stream",
     "text": [
      "                   precision    recall  f1-score   support\n",
      "\n",
      "     Major capsid       0.82      0.85      0.84        93\n",
      "     Minor capsid       0.81      0.81      0.81        52\n",
      "        Baseplate       0.77      0.83      0.80       103\n",
      "       Major tail       0.82      0.67      0.73        54\n",
      "       Minor tail       0.86      0.83      0.85        36\n",
      "           Portal       0.84      0.79      0.82        73\n",
      "       Tail fiber       0.68      0.54      0.60        87\n",
      "       Tail shaft       0.66      0.65      0.65        48\n",
      "           Collar       0.59      0.82      0.68        49\n",
      "Head-Tail joining       0.95      0.99      0.97        80\n",
      "\n",
      "        micro avg       0.78      0.78      0.78       675\n",
      "        macro avg       0.78      0.78      0.77       675\n",
      "     weighted avg       0.79      0.78      0.78       675\n",
      "\n"
     ]
    },
    {
     "data": {
      "text/plain": [
       "828"
      ]
     },
     "execution_count": 9,
     "metadata": {},
     "output_type": "execute_result"
    }
   ],
   "source": [
    "test_X=di_test\n",
    "model_name='di.h5'\n",
    "\n",
    "model = load_model( os.path.join(phage_init.model_dir,model_name) )\n",
    "test_Y_predicted = model.predict_classes(test_X)\n",
    "print(classification_report(test_Y_index, test_Y_predicted, target_names=labels_names ))\n",
    "df=add_to_df(df,test_Y_index, test_Y_predicted,model_name)\n",
    "F.write(model_name)\n",
    "F.write(classification_report(test_Y_index, test_Y_predicted, target_names=labels_names ))"
   ]
  },
  {
   "cell_type": "code",
   "execution_count": 10,
   "metadata": {},
   "outputs": [
    {
     "name": "stdout",
     "output_type": "stream",
     "text": [
      "                   precision    recall  f1-score   support\n",
      "\n",
      "     Major capsid       0.90      0.75      0.82        93\n",
      "     Minor capsid       0.78      0.83      0.80        52\n",
      "        Baseplate       0.84      0.82      0.83       103\n",
      "       Major tail       0.82      0.74      0.78        54\n",
      "       Minor tail       0.93      0.78      0.85        36\n",
      "           Portal       0.90      0.75      0.82        73\n",
      "       Tail fiber       0.50      0.66      0.56        87\n",
      "       Tail shaft       0.68      0.62      0.65        48\n",
      "           Collar       0.63      0.92      0.75        49\n",
      "Head-Tail joining       0.99      0.89      0.93        80\n",
      "\n",
      "        micro avg       0.77      0.77      0.77       675\n",
      "        macro avg       0.80      0.78      0.78       675\n",
      "     weighted avg       0.80      0.77      0.78       675\n",
      "\n"
     ]
    },
    {
     "data": {
      "text/plain": [
       "828"
      ]
     },
     "execution_count": 10,
     "metadata": {},
     "output_type": "execute_result"
    }
   ],
   "source": [
    "test_X=numpy.concatenate((di_test,tt_test),axis=1)\n",
    "model_name='di_p.h5'\n",
    "\n",
    "model = load_model( os.path.join(phage_init.model_dir,model_name) )\n",
    "test_Y_predicted = model.predict_classes(test_X)\n",
    "print(classification_report(test_Y_index, test_Y_predicted, target_names=labels_names ))\n",
    "df=add_to_df(df,test_Y_index, test_Y_predicted,model_name)\n",
    "F.write(model_name)\n",
    "F.write(classification_report(test_Y_index, test_Y_predicted, target_names=labels_names ))"
   ]
  },
  {
   "cell_type": "code",
   "execution_count": 11,
   "metadata": {},
   "outputs": [],
   "source": [
    "from sklearn.metrics import confusion_matrix\n",
    "import matplotlib.pyplot as plt\n",
    "import itertools\n",
    "from collections import Counter\n",
    "zz=Counter(test_Y_index)\n",
    "sample_w=[zz[i] for i in range(0,10,1)]\n",
    "\n",
    "CM=confusion_matrix(test_Y_index, test_Y_predicted)\n",
    "CM_n=CM/numpy.array(sample_w)[:,None]\n",
    "scale_up=1.3\n",
    "plt.figure(figsize=[6.4*scale_up, 4.8*scale_up])\n",
    "plt.imshow(CM_n, interpolation='nearest')\n",
    "plt.title('CM')\n",
    "plt.colorbar()\n",
    "tick_marks = numpy.arange(len(labels_names))\n",
    "plt.xticks(tick_marks, labels_names, rotation=90)\n",
    "plt.yticks(tick_marks, labels_names)\n",
    "fmt = '.2f'\n",
    "for i, j in itertools.product(range(CM_n.shape[0]), range(CM_n.shape[1])):\n",
    "        plt.text(j, i, format(CM_n[i, j], fmt),horizontalalignment=\"center\",verticalalignment='center',\n",
    "                color=\"white\" if CM_n[i, j] < 0.25 else \"black\")"
   ]
  },
  {
   "cell_type": "code",
   "execution_count": 12,
   "metadata": {},
   "outputs": [
    {
     "name": "stdout",
     "output_type": "stream",
     "text": [
      "                   precision    recall  f1-score   support\n",
      "\n",
      "     Major capsid       0.85      0.81      0.83        93\n",
      "     Minor capsid       0.82      0.88      0.85        52\n",
      "        Baseplate       0.77      0.82      0.79       103\n",
      "       Major tail       0.86      0.67      0.75        54\n",
      "       Minor tail       0.94      0.86      0.90        36\n",
      "           Portal       0.77      0.77      0.77        73\n",
      "       Tail fiber       0.54      0.66      0.59        87\n",
      "       Tail shaft       0.58      0.75      0.65        48\n",
      "           Collar       0.42      0.22      0.29        49\n",
      "Head-Tail joining       0.96      0.96      0.96        80\n",
      "\n",
      "        micro avg       0.75      0.75      0.75       675\n",
      "        macro avg       0.75      0.74      0.74       675\n",
      "     weighted avg       0.76      0.75      0.75       675\n",
      "\n"
     ]
    },
    {
     "data": {
      "text/plain": [
       "828"
      ]
     },
     "execution_count": 12,
     "metadata": {},
     "output_type": "execute_result"
    }
   ],
   "source": [
    "test_X=tri_test\n",
    "model_name='tri.h5'\n",
    "\n",
    "model = load_model( os.path.join(phage_init.model_dir,model_name) )\n",
    "test_Y_predicted = model.predict_classes(test_X)\n",
    "print(classification_report(test_Y_index, test_Y_predicted, target_names=labels_names ))\n",
    "df=add_to_df(df,test_Y_index, test_Y_predicted,model_name)\n",
    "F.write(model_name)\n",
    "F.write(classification_report(test_Y_index, test_Y_predicted, target_names=labels_names ))"
   ]
  },
  {
   "cell_type": "code",
   "execution_count": 13,
   "metadata": {},
   "outputs": [
    {
     "name": "stdout",
     "output_type": "stream",
     "text": [
      "                   precision    recall  f1-score   support\n",
      "\n",
      "     Major capsid       0.85      0.83      0.84        93\n",
      "     Minor capsid       0.83      0.73      0.78        52\n",
      "        Baseplate       0.81      0.84      0.83       103\n",
      "       Major tail       0.71      0.76      0.73        54\n",
      "       Minor tail       0.97      0.78      0.86        36\n",
      "           Portal       0.87      0.75      0.81        73\n",
      "       Tail fiber       0.58      0.52      0.55        87\n",
      "       Tail shaft       0.56      0.62      0.59        48\n",
      "           Collar       0.51      0.55      0.53        49\n",
      "Head-Tail joining       0.81      0.97      0.89        80\n",
      "\n",
      "        micro avg       0.75      0.75      0.75       675\n",
      "        macro avg       0.75      0.74      0.74       675\n",
      "     weighted avg       0.75      0.75      0.75       675\n",
      "\n"
     ]
    },
    {
     "data": {
      "text/plain": [
       "828"
      ]
     },
     "execution_count": 13,
     "metadata": {},
     "output_type": "execute_result"
    }
   ],
   "source": [
    "test_X=numpy.concatenate((tri_test,tt_test),axis=1)\n",
    "model_name='tri_p.h5'\n",
    "\n",
    "model = load_model( os.path.join(phage_init.model_dir,model_name) )\n",
    "test_Y_predicted = model.predict_classes(test_X)\n",
    "print(classification_report(test_Y_index, test_Y_predicted, target_names=labels_names ))\n",
    "df=add_to_df(df,test_Y_index, test_Y_predicted,model_name)\n",
    "F.write(model_name)\n",
    "F.write(classification_report(test_Y_index, test_Y_predicted, target_names=labels_names ))"
   ]
  },
  {
   "cell_type": "code",
   "execution_count": 14,
   "metadata": {},
   "outputs": [
    {
     "name": "stdout",
     "output_type": "stream",
     "text": [
      "                   precision    recall  f1-score   support\n",
      "\n",
      "     Major capsid       0.68      0.82      0.74        93\n",
      "     Minor capsid       0.84      0.69      0.76        52\n",
      "        Baseplate       0.67      0.77      0.71       103\n",
      "       Major tail       0.92      0.63      0.75        54\n",
      "       Minor tail       0.88      0.61      0.72        36\n",
      "           Portal       0.73      0.75      0.74        73\n",
      "       Tail fiber       0.54      0.49      0.51        87\n",
      "       Tail shaft       0.56      0.56      0.56        48\n",
      "           Collar       0.55      0.65      0.60        49\n",
      "Head-Tail joining       0.92      0.91      0.92        80\n",
      "\n",
      "        micro avg       0.71      0.71      0.71       675\n",
      "        macro avg       0.73      0.69      0.70       675\n",
      "     weighted avg       0.72      0.71      0.71       675\n",
      "\n"
     ]
    },
    {
     "data": {
      "text/plain": [
       "828"
      ]
     },
     "execution_count": 14,
     "metadata": {},
     "output_type": "execute_result"
    }
   ],
   "source": [
    "test_X=di_sc_test\n",
    "model_name='di_sc.h5'\n",
    "\n",
    "model = load_model( os.path.join(phage_init.model_dir,model_name) )\n",
    "test_Y_predicted = model.predict_classes(test_X)\n",
    "print(classification_report(test_Y_index, test_Y_predicted, target_names=labels_names ))\n",
    "df=add_to_df(df,test_Y_index, test_Y_predicted,model_name)\n",
    "F.write(model_name)\n",
    "F.write(classification_report(test_Y_index, test_Y_predicted, target_names=labels_names ))"
   ]
  },
  {
   "cell_type": "code",
   "execution_count": 15,
   "metadata": {},
   "outputs": [
    {
     "name": "stdout",
     "output_type": "stream",
     "text": [
      "                   precision    recall  f1-score   support\n",
      "\n",
      "     Major capsid       0.73      0.83      0.78        93\n",
      "     Minor capsid       0.84      0.79      0.81        52\n",
      "        Baseplate       0.73      0.85      0.79       103\n",
      "       Major tail       0.87      0.76      0.81        54\n",
      "       Minor tail       0.88      0.81      0.84        36\n",
      "           Portal       0.83      0.73      0.77        73\n",
      "       Tail fiber       0.65      0.59      0.62        87\n",
      "       Tail shaft       0.68      0.58      0.63        48\n",
      "           Collar       0.56      0.65      0.60        49\n",
      "Head-Tail joining       0.94      0.95      0.94        80\n",
      "\n",
      "        micro avg       0.76      0.76      0.76       675\n",
      "        macro avg       0.77      0.75      0.76       675\n",
      "     weighted avg       0.77      0.76      0.76       675\n",
      "\n"
     ]
    },
    {
     "data": {
      "text/plain": [
       "828"
      ]
     },
     "execution_count": 15,
     "metadata": {},
     "output_type": "execute_result"
    }
   ],
   "source": [
    "test_X=numpy.concatenate((di_sc_test,tt_test),axis=1)\n",
    "model_name='di_sc_p.h5'\n",
    "\n",
    "model = load_model( os.path.join(phage_init.model_dir,model_name) )\n",
    "test_Y_predicted = model.predict_classes(test_X)\n",
    "print(classification_report(test_Y_index, test_Y_predicted, target_names=labels_names ))\n",
    "df=add_to_df(df,test_Y_index, test_Y_predicted,model_name)\n",
    "F.write(model_name)\n",
    "F.write(classification_report(test_Y_index, test_Y_predicted, target_names=labels_names ))"
   ]
  },
  {
   "cell_type": "code",
   "execution_count": 16,
   "metadata": {},
   "outputs": [
    {
     "name": "stdout",
     "output_type": "stream",
     "text": [
      "                   precision    recall  f1-score   support\n",
      "\n",
      "     Major capsid       0.79      0.83      0.81        93\n",
      "     Minor capsid       0.85      0.79      0.82        52\n",
      "        Baseplate       0.81      0.79      0.80       103\n",
      "       Major tail       0.80      0.67      0.73        54\n",
      "       Minor tail       0.96      0.75      0.84        36\n",
      "           Portal       0.84      0.81      0.83        73\n",
      "       Tail fiber       0.50      0.64      0.56        87\n",
      "       Tail shaft       0.57      0.65      0.61        48\n",
      "           Collar       0.36      0.27      0.31        49\n",
      "Head-Tail joining       0.95      0.99      0.97        80\n",
      "\n",
      "        micro avg       0.74      0.74      0.74       675\n",
      "        macro avg       0.74      0.72      0.73       675\n",
      "     weighted avg       0.75      0.74      0.74       675\n",
      "\n"
     ]
    },
    {
     "data": {
      "text/plain": [
       "828"
      ]
     },
     "execution_count": 16,
     "metadata": {},
     "output_type": "execute_result"
    }
   ],
   "source": [
    "test_X=tri_sc_test\n",
    "model_name='tri_sc.h5'\n",
    "\n",
    "model = load_model( os.path.join(phage_init.model_dir,model_name) )\n",
    "test_Y_predicted = model.predict_classes(test_X)\n",
    "print(classification_report(test_Y_index, test_Y_predicted, target_names=labels_names ))\n",
    "df=add_to_df(df,test_Y_index, test_Y_predicted,model_name)\n",
    "F.write(model_name)\n",
    "F.write(classification_report(test_Y_index, test_Y_predicted, target_names=labels_names ))"
   ]
  },
  {
   "cell_type": "code",
   "execution_count": 17,
   "metadata": {},
   "outputs": [
    {
     "name": "stdout",
     "output_type": "stream",
     "text": [
      "                   precision    recall  f1-score   support\n",
      "\n",
      "     Major capsid       0.81      0.83      0.82        93\n",
      "     Minor capsid       0.80      0.79      0.80        52\n",
      "        Baseplate       0.78      0.80      0.79       103\n",
      "       Major tail       0.83      0.65      0.73        54\n",
      "       Minor tail       0.84      0.75      0.79        36\n",
      "           Portal       0.75      0.73      0.74        73\n",
      "       Tail fiber       0.58      0.53      0.55        87\n",
      "       Tail shaft       0.56      0.67      0.61        48\n",
      "           Collar       0.51      0.57      0.54        49\n",
      "Head-Tail joining       0.90      0.99      0.94        80\n",
      "\n",
      "        micro avg       0.74      0.74      0.74       675\n",
      "        macro avg       0.74      0.73      0.73       675\n",
      "     weighted avg       0.74      0.74      0.74       675\n",
      "\n"
     ]
    },
    {
     "data": {
      "text/plain": [
       "828"
      ]
     },
     "execution_count": 17,
     "metadata": {},
     "output_type": "execute_result"
    }
   ],
   "source": [
    "test_X=numpy.concatenate((tri_sc_test,tt_test),axis=1)\n",
    "model_name='tri_sc_p.h5'\n",
    "\n",
    "model = load_model( os.path.join(phage_init.model_dir,model_name) )\n",
    "test_Y_predicted = model.predict_classes(test_X)\n",
    "print(classification_report(test_Y_index, test_Y_predicted, target_names=labels_names ))\n",
    "df=add_to_df(df,test_Y_index, test_Y_predicted,model_name)\n",
    "F.write(model_name)\n",
    "F.write(classification_report(test_Y_index, test_Y_predicted, target_names=labels_names ))"
   ]
  },
  {
   "cell_type": "code",
   "execution_count": 18,
   "metadata": {},
   "outputs": [
    {
     "name": "stdout",
     "output_type": "stream",
     "text": [
      "                   precision    recall  f1-score   support\n",
      "\n",
      "     Major capsid       0.82      0.82      0.82        93\n",
      "     Minor capsid       0.80      0.83      0.81        52\n",
      "        Baseplate       0.84      0.81      0.82       103\n",
      "       Major tail       0.76      0.63      0.69        54\n",
      "       Minor tail       0.94      0.81      0.87        36\n",
      "           Portal       0.80      0.78      0.79        73\n",
      "       Tail fiber       0.48      0.57      0.52        87\n",
      "       Tail shaft       0.53      0.67      0.59        48\n",
      "           Collar       0.31      0.22      0.26        49\n",
      "Head-Tail joining       0.96      0.97      0.97        80\n",
      "\n",
      "        micro avg       0.73      0.73      0.73       675\n",
      "        macro avg       0.72      0.71      0.71       675\n",
      "     weighted avg       0.73      0.73      0.73       675\n",
      "\n"
     ]
    },
    {
     "data": {
      "text/plain": [
       "828"
      ]
     },
     "execution_count": 18,
     "metadata": {},
     "output_type": "execute_result"
    }
   ],
   "source": [
    "test_X=test_X_total\n",
    "model_name='all.h5'\n",
    "\n",
    "model = load_model( os.path.join(phage_init.model_dir,model_name) )\n",
    "test_Y_predicted = model.predict_classes(test_X)\n",
    "print(classification_report(test_Y_index, test_Y_predicted, target_names=labels_names ))\n",
    "df=add_to_df(df,test_Y_index, test_Y_predicted,model_name)\n",
    "F.write(model_name)\n",
    "F.write(classification_report(test_Y_index, test_Y_predicted, target_names=labels_names ))"
   ]
  },
  {
   "cell_type": "code",
   "execution_count": 19,
   "metadata": {},
   "outputs": [],
   "source": [
    "import seaborn as sns\n",
    "import matplotlib.pyplot as plt\n"
   ]
  },
  {
   "cell_type": "code",
   "execution_count": 20,
   "metadata": {},
   "outputs": [],
   "source": [
    "avg_df=df[df['class'] == 'weighted avg']"
   ]
  },
  {
   "cell_type": "code",
   "execution_count": 21,
   "metadata": {},
   "outputs": [
    {
     "data": {
      "image/png": "[encoded data removed]",
      "text/plain": [
       "<Figure size 1296x1080 with 1 Axes>"
      ]
     },
     "metadata": {
      "needs_background": "light"
     },
     "output_type": "display_data"
    }
   ],
   "source": [
    "fig, ax = plt.subplots()\n",
    "\n",
    "fig.set_size_inches(18, 15)\n",
    "sns.set(style=\"whitegrid\")\n",
    "ax.tick_params(axis='y',labelsize=16)\n",
    "ax.tick_params(axis='x',labelsize=14)\n",
    "ax.set_title('Weighted average model metrics', fontsize=40,va='bottom')\n",
    "sns.barplot(ax=ax,y=\"value\", x=\"model\", hue=\"score_type\", data=avg_df)\n",
    "ax.set_ylabel('')    \n",
    "ax.set_xlabel('')\n",
    "l = ax.legend()\n",
    "plt.setp(ax.get_legend().get_texts(), fontsize='22') # for legend text\n",
    "#print(dir(l))\n",
    "ax.set(ylim=(0, 1))\n",
    "plt.show()\n",
    "fig.savefig('avg_score')\n"
   ]
  },
  {
   "cell_type": "code",
   "execution_count": 22,
   "metadata": {},
   "outputs": [],
   "source": [
    "f1_df=df[df['score_type'] == 'f1-score']"
   ]
  },
  {
   "cell_type": "code",
   "execution_count": 23,
   "metadata": {},
   "outputs": [
    {
     "data": {
      "image/png": "[encoded data removed]",
      "text/plain": [
       "<Figure size 1296x1080 with 1 Axes>"
      ]
     },
     "metadata": {},
     "output_type": "display_data"
    }
   ],
   "source": [
    "fig2, ax2 = plt.subplots()\n",
    "fig2.set_size_inches(18, 15)\n",
    "sns.set(style=\"whitegrid\")\n",
    "ax2.tick_params(axis='y',labelsize=16)\n",
    "ax2.tick_params(axis='x',labelsize=14)\n",
    "ax2.set_title('Per class model metrics', fontsize=40,va='bottom')\n",
    "sns.barplot(ax=ax2,y=\"value\", x=\"model\", hue=\"class\", data=f1_df)\n",
    "ax2.set_ylabel('')    \n",
    "ax2.set_xlabel('')\n",
    "l = ax2.legend()\n",
    "plt.setp(ax2.get_legend().get_texts(), fontsize='22') # for legend text\n",
    "#print(dir(l))\n",
    "ax2.set(ylim=(0, 1))\n",
    "ax2.set(xlim=(-0.5, 11))\n",
    "plt.show()\n",
    "fig2.savefig('f1_score')"
   ]
  },
  {
   "cell_type": "code",
   "execution_count": 24,
   "metadata": {},
   "outputs": [],
   "source": [
    "F.close()"
   ]
  }
 ],
 "metadata": {
  "kernelspec": {
   "display_name": "Environment (conda_tensor_4)",
   "language": "python",
   "name": "conda_tensor_4"
  },
  "language_info": {
   "codemirror_mode": {
    "name": "ipython",
    "version": 3
   },
   "file_extension": ".py",
   "mimetype": "text/x-python",
   "name": "python",
   "nbconvert_exporter": "python",
   "pygments_lexer": "ipython3",
   "version": "3.6.7"
  }
 },
 "nbformat": 4,
 "nbformat_minor": 2
}
