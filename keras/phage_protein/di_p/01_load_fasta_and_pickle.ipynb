{
 "cells": [
  {
   "cell_type": "code",
   "execution_count": null,
   "metadata": {},
   "outputs": [],
   "source": [
    "import numpy\n",
    "import itertools\n",
    "from Bio.Seq import Seq\n",
    "from Bio.Alphabet import IUPAC\n",
    "from Bio import SeqIO\n",
    "from Bio.SeqUtils.ProtParam import ProteinAnalysis\n",
    "from scipy import stats\n",
    "from Bio.Alphabet import IUPAC\n",
    "#from itertools import permutations\n",
    "AA=[\"A\",\"C\",\"D\",\"E\",\"F\",\"G\",\"H\",\"I\",\"K\",\"L\",\"M\",\"N\",\"P\",\"Q\",\"R\",\"S\",\"T\",\"V\",\"W\",\"Y\"]"
   ]
  },
  {
   "cell_type": "code",
   "execution_count": null,
   "metadata": {},
   "outputs": [],
   "source": [
    "dipep = [''.join(i) for i in itertools.product(AA, repeat = 2)]"
   ]
  },
  {
   "cell_type": "code",
   "execution_count": null,
   "metadata": {},
   "outputs": [],
   "source": [
    "\n",
    "arr = numpy.empty((0,407), dtype=numpy.float)\n",
    "class_arr = numpy.empty((0), dtype=numpy.int)\n",
    "#print(arr.shape)\n",
    "#print(arr)\n",
    "all_fasta=(\"../major_capsid.fasta\",\"../minor_capsid.fasta\",\"../baseplate.fasta\",\n",
    "          \"../major_tail.fasta\",\"../minor_tail.fasta\",\"../portal.fasta\",\n",
    "          \"../tail_fiber.fasta\",\"../tail_sheath.fasta\",\"../collar.fasta\",\n",
    "          \"../htj.fasta\")\n",
    "#print(all_fasta)\n",
    "prot_class=0;\n",
    "for file in all_fasta:\n",
    "    print('####################' + file)\n",
    "    for record in SeqIO.parse(file, \"fasta\"):\n",
    "        #print(record.id)\n",
    "        ll=len(record.seq)\n",
    "        #xx=Seq(str(record.seq),IUPAC.protein)\n",
    "        X = ProteinAnalysis(record.seq.__str__().replace('X','A').replace('J','L'))\n",
    "        #X = ProteinAnalysis(str(xx))\n",
    "        tt= [X.isoelectric_point(), X.instability_index(),ll,X.aromaticity(),\n",
    "            X.molar_extinction_coefficient()[0],X.molar_extinction_coefficient()[1],\n",
    "            X.gravy()]\n",
    "        tt_n = numpy.asarray(tt,dtype=numpy.float)\n",
    "\n",
    "        dipep_count=[record.seq.count(i)/ll for i in dipep]\n",
    "        dipep_count_n = numpy.asarray(dipep_count,dtype=numpy.float)\n",
    "    \n",
    "        cat_n= numpy.append(dipep_count_n,tt_n)\n",
    "        cat_n = cat_n.reshape((1,cat_n.shape[0]))\n",
    "\n",
    "        arr = numpy.append(arr,cat_n , axis=0)\n",
    "        class_arr = numpy.append(class_arr,prot_class)\n",
    "    prot_class+=1\n",
    "    \n",
    "\n",
    "    "
   ]
  },
  {
   "cell_type": "code",
   "execution_count": null,
   "metadata": {},
   "outputs": [],
   "source": [
    " print(arr.shape)\n",
    "\n",
    "#arr_z = numpy.apply_over_axis(stats.zscore,arr,0)\n",
    "arr_z=numpy.apply_along_axis(stats.zscore,0,arr)\n",
    "#arr_z=numpy.apply_along_axis(stats.zscore,0,arr)\n",
    "#print(arr_z)\n",
    "#print(arr)\n",
    "#print(arr_z.shape)\n",
    "#print(prot_class)"
   ]
  },
  {
   "cell_type": "code",
   "execution_count": null,
   "metadata": {},
   "outputs": [],
   "source": []
  },
  {
   "cell_type": "code",
   "execution_count": null,
   "metadata": {},
   "outputs": [],
   "source": [
    "mean_arr=numpy.apply_along_axis(numpy.mean,0,arr)\n",
    "#print(mean_arr)\n",
    "print(mean_arr.shape)\n",
    "std_arr=numpy.apply_along_axis(numpy.std,0,arr)\n",
    "print(std_arr.shape)"
   ]
  },
  {
   "cell_type": "code",
   "execution_count": null,
   "metadata": {},
   "outputs": [],
   "source": [
    "#targets = numpy.array([[2, 3, 4, 0]]).reshape(-1)\n",
    "\n",
    "nb_classes = 10\n",
    "one_hot_targets = numpy.eye(nb_classes)[class_arr]\n",
    "print(one_hot_targets)\n",
    "print(one_hot_targets.shape)"
   ]
  },
  {
   "cell_type": "code",
   "execution_count": null,
   "metadata": {},
   "outputs": [],
   "source": [
    "\n",
    "final = numpy.concatenate((arr_z, one_hot_targets), axis=1)\n",
    "final_raw = numpy.concatenate((arr, one_hot_targets), axis=1)"
   ]
  },
  {
   "cell_type": "code",
   "execution_count": null,
   "metadata": {},
   "outputs": [],
   "source": [
    "numpy.savetxt('test.out', final, delimiter='\\t') "
   ]
  },
  {
   "cell_type": "code",
   "execution_count": null,
   "metadata": {},
   "outputs": [],
   "source": [
    "numpy.savetxt('test2.out', final_raw, delimiter='\\t') "
   ]
  },
  {
   "cell_type": "code",
   "execution_count": null,
   "metadata": {},
   "outputs": [],
   "source": [
    "numpy.random.shuffle(final)\n",
    "numpy.random.shuffle(final_raw)"
   ]
  },
  {
   "cell_type": "code",
   "execution_count": null,
   "metadata": {},
   "outputs": [],
   "source": [
    "import pickle\n",
    "##number of proteins for training\n",
    "tt=25000\n",
    "##number of features\n",
    "f_num=407\n",
    "pickle.dump(final[0:tt,0:f_num], open( \"dipep_new_train_x.p\", \"wb\" ) )\n",
    "pickle.dump(final[tt:,0:f_num],  open( \"dipep_new_test_x.p\" , \"wb\" ) )\n",
    "pickle.dump(final[0:tt,f_num:], open( \"dipep_new_train_y.p\", \"wb\" ) )\n",
    "pickle.dump(final[tt:,f_num:],  open( \"dipep_new_test_y.p\" , \"wb\" ) )\n",
    "pickle.dump(mean_arr,  open( \"dipep_new_mean.p\" , \"wb\" ) )\n",
    "pickle.dump(std_arr,  open( \"dipep_new_std.p\" , \"wb\" ) )"
   ]
  },
  {
   "cell_type": "code",
   "execution_count": null,
   "metadata": {},
   "outputs": [],
   "source": [
    "pickle.dump(final_raw[0:tt,0:f_num], open( \"dipep_raw_new_train_x.p\", \"wb\" ) )\n",
    "pickle.dump(final_raw[tt:,0:f_num],  open( \"dipep_raw_new_test_x.p\" , \"wb\" ) )\n",
    "pickle.dump(final_raw[0:tt,f_num:], open( \"dipep_raw_new_train_y.p\", \"wb\" ) )\n",
    "pickle.dump(final_raw[tt:,f_num:],  open( \"dipep_raw_new_test_y.p\" , \"wb\" ) )"
   ]
  },
  {
   "cell_type": "code",
   "execution_count": null,
   "metadata": {},
   "outputs": [],
   "source": []
  }
 ],
 "metadata": {
  "kernelspec": {
   "display_name": "Python 3",
   "language": "python",
   "name": "python3"
  },
  "language_info": {
   "codemirror_mode": {
    "name": "ipython",
    "version": 3
   },
   "file_extension": ".py",
   "mimetype": "text/x-python",
   "name": "python",
   "nbconvert_exporter": "python",
   "pygments_lexer": "ipython3",
   "version": "3.6.8"
  }
 },
 "nbformat": 4,
 "nbformat_minor": 2
}
