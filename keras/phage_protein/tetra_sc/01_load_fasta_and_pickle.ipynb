{
 "cells": [
  {
   "cell_type": "code",
   "execution_count": 1,
   "metadata": {},
   "outputs": [],
   "source": [
    "import numpy\n",
    "import itertools\n",
    "from Bio.Seq import Seq\n",
    "from Bio.Alphabet import IUPAC\n",
    "from Bio import SeqIO\n",
    "from Bio.SeqUtils.ProtParam import ProteinAnalysis\n",
    "from scipy import stats\n",
    "from Bio.Alphabet import IUPAC\n",
    "#from itertools import permutations\n",
    "\n",
    "AA=[\"A\",\"C\",\"D\",\"E\",\"F\",\"G\",\"H\",\"I\",\"K\",\"L\",\"M\",\"N\",\"P\",\"Q\",\"R\",\"S\",\"T\",\"V\",\"W\",\"Y\"]\n",
    "SC=[\"1\",\"2\",\"3\",\"4\",\"5\",\"6\",\"7\"]\n"
   ]
  },
  {
   "cell_type": "markdown",
   "metadata": {},
   "source": [
    "### Side chain\n",
    "original  \n",
    "ACDEFGHIKLMNPQRSTVWY  \n",
    "12445131311222322155\n",
    "\n",
    "\n"
   ]
  },
  {
   "cell_type": "code",
   "execution_count": 2,
   "metadata": {},
   "outputs": [
    {
     "name": "stdout",
     "output_type": "stream",
     "text": [
      "['111', '112', '113', '114', '115', '116', '117', '121', '122', '123', '124', '125', '126', '127', '131', '132', '133', '134', '135', '136', '137', '141', '142', '143', '144', '145', '146', '147', '151', '152', '153', '154', '155', '156', '157', '161', '162', '163', '164', '165', '166', '167', '171', '172', '173', '174', '175', '176', '177', '211', '212', '213', '214', '215', '216', '217', '221', '222', '223', '224', '225', '226', '227', '231', '232', '233', '234', '235', '236', '237', '241', '242', '243', '244', '245', '246', '247', '251', '252', '253', '254', '255', '256', '257', '261', '262', '263', '264', '265', '266', '267', '271', '272', '273', '274', '275', '276', '277', '311', '312', '313', '314', '315', '316', '317', '321', '322', '323', '324', '325', '326', '327', '331', '332', '333', '334', '335', '336', '337', '341', '342', '343', '344', '345', '346', '347', '351', '352', '353', '354', '355', '356', '357', '361', '362', '363', '364', '365', '366', '367', '371', '372', '373', '374', '375', '376', '377', '411', '412', '413', '414', '415', '416', '417', '421', '422', '423', '424', '425', '426', '427', '431', '432', '433', '434', '435', '436', '437', '441', '442', '443', '444', '445', '446', '447', '451', '452', '453', '454', '455', '456', '457', '461', '462', '463', '464', '465', '466', '467', '471', '472', '473', '474', '475', '476', '477', '511', '512', '513', '514', '515', '516', '517', '521', '522', '523', '524', '525', '526', '527', '531', '532', '533', '534', '535', '536', '537', '541', '542', '543', '544', '545', '546', '547', '551', '552', '553', '554', '555', '556', '557', '561', '562', '563', '564', '565', '566', '567', '571', '572', '573', '574', '575', '576', '577', '611', '612', '613', '614', '615', '616', '617', '621', '622', '623', '624', '625', '626', '627', '631', '632', '633', '634', '635', '636', '637', '641', '642', '643', '644', '645', '646', '647', '651', '652', '653', '654', '655', '656', '657', '661', '662', '663', '664', '665', '666', '667', '671', '672', '673', '674', '675', '676', '677', '711', '712', '713', '714', '715', '716', '717', '721', '722', '723', '724', '725', '726', '727', '731', '732', '733', '734', '735', '736', '737', '741', '742', '743', '744', '745', '746', '747', '751', '752', '753', '754', '755', '756', '757', '761', '762', '763', '764', '765', '766', '767', '771', '772', '773', '774', '775', '776', '777']\n"
     ]
    }
   ],
   "source": [
    "dipep = [''.join(i) for i in itertools.product(AA, repeat = 2)]\n",
    "di_sc = [''.join(i) for i in itertools.product(SC, repeat = 3)]\n",
    "print(di_sc)"
   ]
  },
  {
   "cell_type": "code",
   "execution_count": 3,
   "metadata": {},
   "outputs": [
    {
     "name": "stdout",
     "output_type": "stream",
     "text": [
      "####################../major_capsid.fasta\n",
      "####################../minor_capsid.fasta\n",
      "####################../baseplate.fasta\n",
      "####################../major_tail.fasta\n",
      "####################../minor_tail.fasta\n",
      "####################../portal.fasta\n",
      "####################../tail_fiber.fasta\n",
      "####################../tail_sheath.fasta\n",
      "####################../collar.fasta\n",
      "####################../htj.fasta\n"
     ]
    }
   ],
   "source": [
    "f_num=350\n",
    "myseq=\"AILMVNQSTGPCHKPDEFWY\"\n",
    "trantab2=myseq.maketrans(\"AILMVNQSTGPCHKPDEFWY\",\"11111222233455566777\")\n",
    "arr = numpy.empty((0,f_num), dtype=numpy.float)\n",
    "class_arr = numpy.empty((0), dtype=numpy.int)\n",
    "#print(arr.shape)\n",
    "#print(arr)\n",
    "all_fasta=(\"../major_capsid.fasta\",\"../minor_capsid.fasta\",\"../baseplate.fasta\",\n",
    "          \"../major_tail.fasta\",\"../minor_tail.fasta\",\"../portal.fasta\",\n",
    "          \"../tail_fiber.fasta\",\"../tail_sheath.fasta\",\"../collar.fasta\",\n",
    "          \"../htj.fasta\")\n",
    "#print(all_fasta)\n",
    "prot_class=0;\n",
    "for file in all_fasta:\n",
    "    print('####################' + file)\n",
    "    for record in SeqIO.parse(file, \"fasta\"):\n",
    "        #print(record.id)\n",
    "        ll=len(record.seq)\n",
    "        #xx=Seq(str(record.seq),IUPAC.protein)\n",
    "        X = ProteinAnalysis(record.seq.__str__().replace('X','A').replace('J','L'))\n",
    "        #X = ProteinAnalysis(str(xx))\n",
    "        tt= [X.isoelectric_point(), X.instability_index(),ll,X.aromaticity(),\n",
    "            X.molar_extinction_coefficient()[0],X.molar_extinction_coefficient()[1],\n",
    "            X.gravy()]\n",
    "        tt_n = numpy.asarray(tt,dtype=numpy.float)\n",
    "        myseq=str(record.seq).translate(trantab2)\n",
    "        dipep_count=[myseq.count(i)/ll for i in di_sc]\n",
    "        dipep_count_n = numpy.asarray(dipep_count,dtype=numpy.float)\n",
    "    \n",
    "        cat_n= numpy.append(dipep_count_n,tt_n)\n",
    "        cat_n = cat_n.reshape((1,cat_n.shape[0]))\n",
    "\n",
    "        arr = numpy.append(arr,cat_n , axis=0)\n",
    "        class_arr = numpy.append(class_arr,prot_class)\n",
    "    prot_class+=1\n",
    "    \n",
    "\n",
    "    "
   ]
  },
  {
   "cell_type": "code",
   "execution_count": 4,
   "metadata": {},
   "outputs": [
    {
     "name": "stdout",
     "output_type": "stream",
     "text": [
      "(25675, 350)\n"
     ]
    }
   ],
   "source": [
    " print(arr.shape)\n",
    "\n",
    "#arr_z = numpy.apply_over_axis(stats.zscore,arr,0)\n",
    "arr_z=numpy.apply_along_axis(stats.zscore,0,arr)\n",
    "#arr_z=numpy.apply_along_axis(stats.zscore,0,arr)\n",
    "#print(arr_z)\n",
    "#print(arr)\n",
    "#print(arr_z.shape)\n",
    "#print(prot_class)"
   ]
  },
  {
   "cell_type": "code",
   "execution_count": 5,
   "metadata": {},
   "outputs": [
    {
     "name": "stdout",
     "output_type": "stream",
     "text": [
      "(350,)\n",
      "(350,)\n"
     ]
    }
   ],
   "source": [
    "mean_arr=numpy.apply_along_axis(numpy.mean,0,arr)\n",
    "#print(mean_arr)\n",
    "print(mean_arr.shape)\n",
    "std_arr=numpy.apply_along_axis(numpy.std,0,arr)\n",
    "print(std_arr.shape)"
   ]
  },
  {
   "cell_type": "code",
   "execution_count": 6,
   "metadata": {},
   "outputs": [
    {
     "name": "stdout",
     "output_type": "stream",
     "text": [
      "[[1. 0. 0. ... 0. 0. 0.]\n",
      " [1. 0. 0. ... 0. 0. 0.]\n",
      " [1. 0. 0. ... 0. 0. 0.]\n",
      " ...\n",
      " [0. 0. 0. ... 0. 0. 1.]\n",
      " [0. 0. 0. ... 0. 0. 1.]\n",
      " [0. 0. 0. ... 0. 0. 1.]]\n",
      "(25675, 10)\n"
     ]
    }
   ],
   "source": [
    "#targets = numpy.array([[2, 3, 4, 0]]).reshape(-1)\n",
    "\n",
    "nb_classes = 10\n",
    "one_hot_targets = numpy.eye(nb_classes)[class_arr]\n",
    "print(one_hot_targets)\n",
    "print(one_hot_targets.shape)"
   ]
  },
  {
   "cell_type": "code",
   "execution_count": 7,
   "metadata": {},
   "outputs": [],
   "source": [
    "\n",
    "final = numpy.concatenate((arr_z, one_hot_targets), axis=1)\n",
    "final_raw = numpy.concatenate((arr, one_hot_targets), axis=1)"
   ]
  },
  {
   "cell_type": "code",
   "execution_count": null,
   "metadata": {},
   "outputs": [],
   "source": [
    "#numpy.savetxt('test.out', final, delimiter='\\t') \n",
    "#numpy.savetxt('test2.out', final_raw, delimiter='\\t') "
   ]
  },
  {
   "cell_type": "code",
   "execution_count": null,
   "metadata": {},
   "outputs": [],
   "source": []
  },
  {
   "cell_type": "code",
   "execution_count": 8,
   "metadata": {},
   "outputs": [],
   "source": [
    "numpy.random.shuffle(final)\n",
    "numpy.random.shuffle(final_raw)"
   ]
  },
  {
   "cell_type": "code",
   "execution_count": 9,
   "metadata": {},
   "outputs": [],
   "source": [
    "import pickle\n",
    "##number of proteins for training\n",
    "tt=25000\n",
    "##number of features\n",
    "\n",
    "pickle.dump(final[0:tt,0:f_num], open( \"di_sc_train_x.p\", \"wb\" ) )\n",
    "pickle.dump(final[tt:,0:f_num],  open( \"di_sc_test_x.p\" , \"wb\" ) )\n",
    "pickle.dump(final[0:tt,f_num:], open( \"di_sc_train_y.p\", \"wb\" ) )\n",
    "pickle.dump(final[tt:,f_num:],  open( \"di_sc_test_y.p\" , \"wb\" ) )\n",
    "pickle.dump(mean_arr,  open( \"di_sc_mean.p\" , \"wb\" ) )\n",
    "pickle.dump(std_arr,  open( \"di_sc_std.p\" , \"wb\" ) )"
   ]
  },
  {
   "cell_type": "code",
   "execution_count": null,
   "metadata": {},
   "outputs": [],
   "source": [
    "#pickle.dump(final_raw[0:tt,0:f_num], open( \"dipep_raw_new_train_x.p\", \"wb\" ) )\n",
    "#pickle.dump(final_raw[tt:,0:f_num],  open( \"dipep_raw_new_test_x.p\" , \"wb\" ) )\n",
    "#pickle.dump(final_raw[0:tt,f_num:], open( \"dipep_raw_new_train_y.p\", \"wb\" ) )\n",
    "#pickle.dump(final_raw[tt:,f_num:],  open( \"dipep_raw_new_test_y.p\" , \"wb\" ) )"
   ]
  },
  {
   "cell_type": "code",
   "execution_count": null,
   "metadata": {},
   "outputs": [],
   "source": []
  }
 ],
 "metadata": {
  "kernelspec": {
   "display_name": "Environment (conda_jup)",
   "language": "python",
   "name": "conda_jup"
  },
  "language_info": {
   "codemirror_mode": {
    "name": "ipython",
    "version": 3
   },
   "file_extension": ".py",
   "mimetype": "text/x-python",
   "name": "python",
   "nbconvert_exporter": "python",
   "pygments_lexer": "ipython3",
   "version": "3.6.6"
  }
 },
 "nbformat": 4,
 "nbformat_minor": 2
}
