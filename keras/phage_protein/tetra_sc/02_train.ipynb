{
 "cells": [
  {
   "cell_type": "code",
   "execution_count": 1,
   "metadata": {},
   "outputs": [],
   "source": [
    "#load the saved matrices\n",
    "import pickle\n",
    "train_X=pickle.load(open( \"di_sc_train_x.p\", \"rb\" ) )\n",
    "test_X=pickle.load(open( \"di_sc_test_x.p\", \"rb\" ) )\n",
    "train_Y=pickle.load(open( \"di_sc_train_y.p\", \"rb\" ) )\n",
    "test_Y=pickle.load(open( \"di_sc_test_y.p\", \"rb\" ) )\n",
    "mean_arr=pickle.load(open( \"di_sc_mean.p\", \"rb\" ) )\n",
    "mean_std=pickle.load(open( \"di_sc_std.p\", \"rb\" ) )"
   ]
  },
  {
   "cell_type": "code",
   "execution_count": 2,
   "metadata": {},
   "outputs": [
    {
     "name": "stderr",
     "output_type": "stream",
     "text": [
      "Using TensorFlow backend.\n"
     ]
    }
   ],
   "source": [
    "#import keras and numpy\n",
    "import numpy\n",
    "from keras.models import Sequential\n",
    "from keras.layers import Dense\n",
    "from keras.layers import LSTM\n",
    "from keras.layers import Activation\n",
    "from keras.layers import Dropout\n",
    "from keras.optimizers import Adam"
   ]
  },
  {
   "cell_type": "code",
   "execution_count": 3,
   "metadata": {},
   "outputs": [
    {
     "name": "stdout",
     "output_type": "stream",
     "text": [
      "[name: \"/device:CPU:0\"\n",
      "device_type: \"CPU\"\n",
      "memory_limit: 268435456\n",
      "locality {\n",
      "}\n",
      "incarnation: 4843565494943449995\n",
      "]\n"
     ]
    }
   ],
   "source": [
    "#this list the devices, just making sure there is a GPU present, you might be fine with no GPU\n",
    "from tensorflow.python.client import device_lib\n",
    "print(device_lib.list_local_devices())"
   ]
  },
  {
   "cell_type": "code",
   "execution_count": 4,
   "metadata": {},
   "outputs": [
    {
     "name": "stdout",
     "output_type": "stream",
     "text": [
      "_________________________________________________________________\n",
      "Layer (type)                 Output Shape              Param #   \n",
      "=================================================================\n",
      "dense_1 (Dense)              (None, 350)               122850    \n",
      "_________________________________________________________________\n",
      "dropout_1 (Dropout)          (None, 350)               0         \n",
      "_________________________________________________________________\n",
      "dense_2 (Dense)              (None, 100)               35100     \n",
      "_________________________________________________________________\n",
      "dropout_2 (Dropout)          (None, 100)               0         \n",
      "_________________________________________________________________\n",
      "dense_3 (Dense)              (None, 100)               10100     \n",
      "_________________________________________________________________\n",
      "dropout_3 (Dropout)          (None, 100)               0         \n",
      "_________________________________________________________________\n",
      "dense_4 (Dense)              (None, 100)               10100     \n",
      "_________________________________________________________________\n",
      "dropout_4 (Dropout)          (None, 100)               0         \n",
      "_________________________________________________________________\n",
      "dense_5 (Dense)              (None, 100)               10100     \n",
      "_________________________________________________________________\n",
      "dropout_5 (Dropout)          (None, 100)               0         \n",
      "_________________________________________________________________\n",
      "dense_6 (Dense)              (None, 100)               10100     \n",
      "_________________________________________________________________\n",
      "dropout_6 (Dropout)          (None, 100)               0         \n",
      "_________________________________________________________________\n",
      "dense_7 (Dense)              (None, 100)               10100     \n",
      "_________________________________________________________________\n",
      "dropout_7 (Dropout)          (None, 100)               0         \n",
      "_________________________________________________________________\n",
      "dense_8 (Dense)              (None, 100)               10100     \n",
      "_________________________________________________________________\n",
      "dropout_8 (Dropout)          (None, 100)               0         \n",
      "_________________________________________________________________\n",
      "dense_9 (Dense)              (None, 100)               10100     \n",
      "_________________________________________________________________\n",
      "dropout_9 (Dropout)          (None, 100)               0         \n",
      "_________________________________________________________________\n",
      "dense_10 (Dense)             (None, 10)                1010      \n",
      "=================================================================\n",
      "Total params: 229,660\n",
      "Trainable params: 229,660\n",
      "Non-trainable params: 0\n",
      "_________________________________________________________________\n",
      "None\n"
     ]
    }
   ],
   "source": [
    "#model with 2 leyers of 100 LSTM neurons\n",
    "f_num=350\n",
    "model = Sequential()\n",
    "opt=Adam(lr=0.007, beta_1=0.9, beta_2=0.999, epsilon=None, decay=0.0, amsgrad=False)\n",
    "model.add(Dense(f_num, input_dim=f_num, kernel_initializer='random_uniform',activation='relu'))\n",
    "model.add(Dropout(0.2))\n",
    "model.add(Dense(100,activation='relu'))\n",
    "#model.add(Dense(200,activation='sigmoid'))\n",
    "model.add(Dropout(0.2))\n",
    "model.add(Dense(100,activation='relu'))\n",
    "#model.add(Dense(200,activation='sigmoid'))\n",
    "model.add(Dropout(0.2))\n",
    "model.add(Dense(100,activation='relu'))\n",
    "#model.add(Dense(200,activation='sigmoid'))\n",
    "model.add(Dropout(0.2))\n",
    "model.add(Dense(100,activation='relu'))\n",
    "#model.add(Dense(200,activation='sigmoid'))\n",
    "model.add(Dropout(0.2))\n",
    "model.add(Dense(100,activation='relu'))\n",
    "#model.add(Dense(200,activation='sigmoid'))\n",
    "model.add(Dropout(0.2))\n",
    "model.add(Dense(100,activation='relu'))\n",
    "#model.add(Dense(200,activation='sigmoid'))\n",
    "model.add(Dropout(0.2))\n",
    "model.add(Dense(100,activation='relu'))\n",
    "#model.add(Dense(200,activation='sigmoid'))\n",
    "model.add(Dropout(0.2))\n",
    "model.add(Dense(100,activation='relu'))\n",
    "#model.add(Dense(200,activation='sigmoid'))\n",
    "model.add(Dropout(0.2))\n",
    "model.add(Dense(10,activation='softmax'))\n",
    "model.compile(loss='categorical_crossentropy', optimizer=opt, metrics=['accuracy'])\n",
    "print(model.summary())"
   ]
  },
  {
   "cell_type": "code",
   "execution_count": 5,
   "metadata": {},
   "outputs": [
    {
     "name": "stdout",
     "output_type": "stream",
     "text": [
      "Epoch 1/100\n",
      "25000/25000 [==============================] - 4s 177us/step - loss: 1.8007 - acc: 0.3448\n",
      "Epoch 2/100\n",
      "25000/25000 [==============================] - 4s 151us/step - loss: 1.5211 - acc: 0.4691\n",
      "Epoch 3/100\n",
      "25000/25000 [==============================] - 4s 151us/step - loss: 1.4718 - acc: 0.5132\n",
      "Epoch 4/100\n",
      "25000/25000 [==============================] - 4s 152us/step - loss: 1.4236 - acc: 0.5326\n",
      "Epoch 5/100\n",
      "25000/25000 [==============================] - 4s 154us/step - loss: 1.4344 - acc: 0.5368\n",
      "Epoch 6/100\n",
      "25000/25000 [==============================] - 4s 155us/step - loss: 1.4356 - acc: 0.5302\n",
      "Epoch 7/100\n",
      "25000/25000 [==============================] - 4s 157us/step - loss: 1.4170 - acc: 0.5340\n",
      "Epoch 8/100\n",
      "25000/25000 [==============================] - 4s 154us/step - loss: 1.5389 - acc: 0.4975\n",
      "Epoch 9/100\n",
      "25000/25000 [==============================] - 4s 154us/step - loss: 1.7158 - acc: 0.4507\n",
      "Epoch 10/100\n",
      "25000/25000 [==============================] - 4s 151us/step - loss: 2.0032 - acc: 0.3062\n",
      "Epoch 11/100\n",
      "25000/25000 [==============================] - 4s 150us/step - loss: 2.1769 - acc: 0.2830\n",
      "Epoch 12/100\n",
      "25000/25000 [==============================] - 4s 149us/step - loss: 2.2468 - acc: 0.2107\n",
      "Epoch 13/100\n",
      "25000/25000 [==============================] - 4s 150us/step - loss: 2.1508 - acc: 0.2103\n",
      "Epoch 14/100\n",
      "25000/25000 [==============================] - 3s 132us/step - loss: 2.1567 - acc: 0.2084\n",
      "Epoch 15/100\n",
      "25000/25000 [==============================] - 4s 153us/step - loss: 2.2063 - acc: 0.1968\n",
      "Epoch 16/100\n",
      "25000/25000 [==============================] - 4s 154us/step - loss: 2.1529 - acc: 0.2044\n",
      "Epoch 17/100\n",
      "25000/25000 [==============================] - 4s 150us/step - loss: 2.1341 - acc: 0.2131\n",
      "Epoch 18/100\n",
      "25000/25000 [==============================] - 4s 151us/step - loss: 2.1161 - acc: 0.2198\n",
      "Epoch 19/100\n",
      "25000/25000 [==============================] - 4s 153us/step - loss: 2.1303 - acc: 0.2161\n",
      "Epoch 20/100\n",
      "25000/25000 [==============================] - 4s 151us/step - loss: 2.1577 - acc: 0.2086\n",
      "Epoch 21/100\n",
      "25000/25000 [==============================] - 4s 152us/step - loss: 3.1964 - acc: 0.2009\n",
      "Epoch 22/100\n",
      "25000/25000 [==============================] - 4s 152us/step - loss: 2.6612 - acc: 0.1911\n",
      "Epoch 23/100\n",
      "25000/25000 [==============================] - 4s 154us/step - loss: 2.2154 - acc: 0.2071\n",
      "Epoch 24/100\n",
      "25000/25000 [==============================] - 4s 153us/step - loss: 2.1911 - acc: 0.2077\n",
      "Epoch 25/100\n",
      "25000/25000 [==============================] - 4s 151us/step - loss: 2.2275 - acc: 0.2090\n",
      "Epoch 26/100\n",
      "25000/25000 [==============================] - 4s 151us/step - loss: 2.1810 - acc: 0.2034\n",
      "Epoch 27/100\n",
      "25000/25000 [==============================] - 4s 152us/step - loss: 2.1939 - acc: 0.1836\n",
      "Epoch 28/100\n",
      "25000/25000 [==============================] - 4s 151us/step - loss: 2.1900 - acc: 0.1869\n",
      "Epoch 29/100\n",
      "25000/25000 [==============================] - 4s 152us/step - loss: 2.1872 - acc: 0.1873\n",
      "Epoch 30/100\n",
      "25000/25000 [==============================] - 4s 152us/step - loss: 2.1891 - acc: 0.1917\n",
      "Epoch 31/100\n",
      "25000/25000 [==============================] - 4s 151us/step - loss: 2.1718 - acc: 0.2129\n",
      "Epoch 32/100\n",
      "25000/25000 [==============================] - 4s 152us/step - loss: 2.1757 - acc: 0.2119\n",
      "Epoch 33/100\n",
      "25000/25000 [==============================] - 4s 155us/step - loss: 2.1842 - acc: 0.2050\n",
      "Epoch 34/100\n",
      "25000/25000 [==============================] - 4s 152us/step - loss: 2.2228 - acc: 0.1988\n",
      "Epoch 35/100\n",
      "25000/25000 [==============================] - 4s 151us/step - loss: 2.3208 - acc: 0.1824\n",
      "Epoch 36/100\n",
      "25000/25000 [==============================] - 4s 151us/step - loss: 2.2005 - acc: 0.1798\n",
      "Epoch 37/100\n",
      "25000/25000 [==============================] - 4s 151us/step - loss: 2.1975 - acc: 0.1834\n",
      "Epoch 38/100\n",
      "25000/25000 [==============================] - 4s 151us/step - loss: 2.1986 - acc: 0.1828\n",
      "Epoch 39/100\n",
      "25000/25000 [==============================] - 4s 152us/step - loss: 2.2015 - acc: 0.1850\n",
      "Epoch 40/100\n",
      "25000/25000 [==============================] - 4s 154us/step - loss: 2.2230 - acc: 0.1692\n",
      "Epoch 41/100\n",
      "25000/25000 [==============================] - 4s 152us/step - loss: 2.2229 - acc: 0.1726\n",
      "Epoch 42/100\n",
      "25000/25000 [==============================] - 4s 153us/step - loss: 2.2203 - acc: 0.1731\n",
      "Epoch 43/100\n",
      "25000/25000 [==============================] - 4s 154us/step - loss: 2.2229 - acc: 0.1730\n",
      "Epoch 44/100\n",
      "25000/25000 [==============================] - 4s 152us/step - loss: 2.2267 - acc: 0.1765\n",
      "Epoch 45/100\n",
      "25000/25000 [==============================] - 4s 153us/step - loss: 2.3368 - acc: 0.1682\n",
      "Epoch 46/100\n",
      "25000/25000 [==============================] - 4s 151us/step - loss: 2.2439 - acc: 0.1669\n",
      "Epoch 47/100\n",
      "25000/25000 [==============================] - 4s 151us/step - loss: 2.2379 - acc: 0.1682\n",
      "Epoch 48/100\n",
      "25000/25000 [==============================] - 4s 152us/step - loss: 2.2343 - acc: 0.1657\n",
      "Epoch 49/100\n",
      "25000/25000 [==============================] - 4s 151us/step - loss: 2.2335 - acc: 0.1637\n",
      "Epoch 50/100\n",
      "25000/25000 [==============================] - 4s 153us/step - loss: 2.2335 - acc: 0.1657\n",
      "Epoch 51/100\n",
      "25000/25000 [==============================] - 4s 154us/step - loss: 2.2336 - acc: 0.1664\n",
      "Epoch 52/100\n",
      "25000/25000 [==============================] - 4s 151us/step - loss: 2.2475 - acc: 0.1680\n",
      "Epoch 53/100\n",
      "25000/25000 [==============================] - 4s 150us/step - loss: 2.2381 - acc: 0.1668\n",
      "Epoch 54/100\n",
      "25000/25000 [==============================] - 4s 151us/step - loss: 2.2457 - acc: 0.1648\n",
      "Epoch 55/100\n",
      "25000/25000 [==============================] - 4s 151us/step - loss: 2.2339 - acc: 0.1646\n",
      "Epoch 56/100\n",
      "25000/25000 [==============================] - 4s 152us/step - loss: 2.2339 - acc: 0.1646\n",
      "Epoch 57/100\n",
      "25000/25000 [==============================] - 4s 151us/step - loss: 2.2346 - acc: 0.1640\n",
      "Epoch 58/100\n",
      "25000/25000 [==============================] - 4s 153us/step - loss: 2.2326 - acc: 0.1646\n",
      "Epoch 59/100\n",
      "25000/25000 [==============================] - 4s 155us/step - loss: 2.2338 - acc: 0.1646\n",
      "Epoch 60/100\n",
      "25000/25000 [==============================] - 4s 153us/step - loss: 2.2340 - acc: 0.1646\n",
      "Epoch 61/100\n",
      "25000/25000 [==============================] - 3s 137us/step - loss: 2.2321 - acc: 0.1646\n",
      "Epoch 62/100\n",
      "25000/25000 [==============================] - 4s 147us/step - loss: 2.2337 - acc: 0.1647\n",
      "Epoch 63/100\n",
      "25000/25000 [==============================] - 4s 152us/step - loss: 2.2367 - acc: 0.1646\n",
      "Epoch 64/100\n",
      "25000/25000 [==============================] - 4s 152us/step - loss: 2.2354 - acc: 0.1646\n",
      "Epoch 65/100\n",
      "25000/25000 [==============================] - 4s 151us/step - loss: 2.2338 - acc: 0.1646\n",
      "Epoch 66/100\n",
      "25000/25000 [==============================] - 4s 152us/step - loss: 2.2349 - acc: 0.1647\n",
      "Epoch 67/100\n",
      "25000/25000 [==============================] - 4s 152us/step - loss: 2.2326 - acc: 0.1646\n",
      "Epoch 68/100\n",
      "25000/25000 [==============================] - 4s 152us/step - loss: 2.2326 - acc: 0.1646\n",
      "Epoch 69/100\n",
      "25000/25000 [==============================] - 4s 154us/step - loss: 2.2322 - acc: 0.1646\n",
      "Epoch 70/100\n",
      "25000/25000 [==============================] - 4s 152us/step - loss: 2.2336 - acc: 0.1646\n",
      "Epoch 71/100\n",
      "25000/25000 [==============================] - 4s 154us/step - loss: 2.2344 - acc: 0.1646\n",
      "Epoch 72/100\n",
      "25000/25000 [==============================] - 4s 154us/step - loss: 2.2323 - acc: 0.1646\n",
      "Epoch 73/100\n",
      "25000/25000 [==============================] - 4s 151us/step - loss: 2.2328 - acc: 0.1646\n",
      "Epoch 74/100\n",
      "25000/25000 [==============================] - 4s 152us/step - loss: 2.2328 - acc: 0.1646\n",
      "Epoch 75/100\n",
      "25000/25000 [==============================] - 4s 151us/step - loss: 2.2332 - acc: 0.1647\n",
      "Epoch 76/100\n",
      "25000/25000 [==============================] - 4s 152us/step - loss: 2.2332 - acc: 0.1646\n",
      "Epoch 77/100\n",
      "25000/25000 [==============================] - 4s 152us/step - loss: 2.2333 - acc: 0.1646\n",
      "Epoch 78/100\n",
      "25000/25000 [==============================] - 4s 153us/step - loss: 2.2338 - acc: 0.1646\n",
      "Epoch 79/100\n",
      "25000/25000 [==============================] - 4s 153us/step - loss: 2.2328 - acc: 0.1646\n",
      "Epoch 80/100\n"
     ]
    },
    {
     "name": "stdout",
     "output_type": "stream",
     "text": [
      "25000/25000 [==============================] - 4s 151us/step - loss: 2.2339 - acc: 0.1646\n",
      "Epoch 81/100\n",
      "25000/25000 [==============================] - 4s 155us/step - loss: 2.2333 - acc: 0.1646\n",
      "Epoch 82/100\n",
      "25000/25000 [==============================] - 4s 152us/step - loss: 2.2329 - acc: 0.1646\n",
      "Epoch 83/100\n",
      "25000/25000 [==============================] - 4s 152us/step - loss: 2.2332 - acc: 0.1646\n",
      "Epoch 84/100\n",
      "25000/25000 [==============================] - 4s 152us/step - loss: 2.2327 - acc: 0.1646\n",
      "Epoch 85/100\n",
      "25000/25000 [==============================] - 4s 151us/step - loss: 2.2328 - acc: 0.1646\n",
      "Epoch 86/100\n",
      "25000/25000 [==============================] - 4s 151us/step - loss: 2.2329 - acc: 0.1646\n",
      "Epoch 87/100\n",
      "25000/25000 [==============================] - 4s 152us/step - loss: 2.2328 - acc: 0.1646\n",
      "Epoch 88/100\n",
      "25000/25000 [==============================] - 4s 151us/step - loss: 2.2322 - acc: 0.1646\n",
      "Epoch 89/100\n",
      "25000/25000 [==============================] - 4s 153us/step - loss: 2.2322 - acc: 0.1646\n",
      "Epoch 90/100\n",
      "25000/25000 [==============================] - 4s 153us/step - loss: 2.2321 - acc: 0.1647\n",
      "Epoch 91/100\n",
      "25000/25000 [==============================] - 4s 154us/step - loss: 2.2322 - acc: 0.1646\n",
      "Epoch 92/100\n",
      "25000/25000 [==============================] - 4s 151us/step - loss: 2.2340 - acc: 0.1646\n",
      "Epoch 93/100\n",
      "25000/25000 [==============================] - 4s 151us/step - loss: 2.2321 - acc: 0.1646\n",
      "Epoch 94/100\n",
      "25000/25000 [==============================] - 4s 151us/step - loss: 2.2322 - acc: 0.1646\n",
      "Epoch 95/100\n",
      "25000/25000 [==============================] - 4s 152us/step - loss: 2.2327 - acc: 0.1646\n",
      "Epoch 96/100\n",
      "25000/25000 [==============================] - 4s 152us/step - loss: 2.2328 - acc: 0.1646\n",
      "Epoch 97/100\n",
      "25000/25000 [==============================] - 4s 153us/step - loss: 2.2327 - acc: 0.1646\n",
      "Epoch 98/100\n",
      "25000/25000 [==============================] - 4s 153us/step - loss: 2.2332 - acc: 0.1646\n",
      "Epoch 99/100\n",
      "25000/25000 [==============================] - 4s 153us/step - loss: 2.2327 - acc: 0.1646\n",
      "Epoch 100/100\n",
      "25000/25000 [==============================] - 4s 155us/step - loss: 2.2319 - acc: 0.1646\n"
     ]
    },
    {
     "data": {
      "text/plain": [
       "<keras.callbacks.History at 0x7ff0f468a518>"
      ]
     },
     "execution_count": 5,
     "metadata": {},
     "output_type": "execute_result"
    }
   ],
   "source": [
    "model.fit(train_X, train_Y, epochs=100, batch_size=100,verbose=1)"
   ]
  },
  {
   "cell_type": "code",
   "execution_count": 6,
   "metadata": {},
   "outputs": [
    {
     "name": "stdout",
     "output_type": "stream",
     "text": [
      "675/675 [==============================] - 0s 307us/step\n",
      "Accuracy: 16.44%\n"
     ]
    }
   ],
   "source": [
    "scores = model.evaluate(test_X, test_Y, verbose=1)\n",
    "print(\"Accuracy: %.2f%%\" % (scores[1]*100))"
   ]
  },
  {
   "cell_type": "code",
   "execution_count": 7,
   "metadata": {},
   "outputs": [
    {
     "name": "stdout",
     "output_type": "stream",
     "text": [
      "                   precision    recall  f1-score   support\n",
      "\n",
      "     Major capsid       0.00      0.00      0.00       116\n",
      "     Minor capsid       0.00      0.00      0.00        36\n",
      "        Baseplate       0.16      1.00      0.28       111\n",
      "       Major tail       0.00      0.00      0.00        55\n",
      "       Minor tail       0.00      0.00      0.00        45\n",
      "           Portal       0.00      0.00      0.00        81\n",
      "       Tail fiber       0.00      0.00      0.00        66\n",
      "       Tail shaft       0.00      0.00      0.00        57\n",
      "           Collar       0.00      0.00      0.00        35\n",
      "Head-Tail joining       0.00      0.00      0.00        73\n",
      "\n",
      "        micro avg       0.16      0.16      0.16       675\n",
      "        macro avg       0.02      0.10      0.03       675\n",
      "     weighted avg       0.03      0.16      0.05       675\n",
      "\n"
     ]
    },
    {
     "name": "stderr",
     "output_type": "stream",
     "text": [
      "/home/adrian/anaconda3/envs/jup/lib/python3.6/site-packages/sklearn/metrics/classification.py:1143: UndefinedMetricWarning: Precision and F-score are ill-defined and being set to 0.0 in labels with no predicted samples.\n",
      "  'precision', 'predicted', average, warn_for)\n"
     ]
    }
   ],
   "source": [
    "from sklearn.metrics import classification_report\n",
    "\n",
    "\n",
    "test_Y_index = test_Y.argmax(axis=1) # Convert one-hot to index\n",
    "test_Y_predicted = model.predict_classes(test_X)\n",
    "labels_names=[\"Major capsid\",\"Minor capsid\",\"Baseplate\",\"Major tail\",\"Minor tail\",\"Portal\",\"Tail fiber\",\n",
    "             \"Tail shaft\",\"Collar\",\"Head-Tail joining\"]\n",
    "print(classification_report(test_Y_index, test_Y_predicted, target_names=labels_names ))\n",
    "#print (test_Y_index)"
   ]
  },
  {
   "cell_type": "code",
   "execution_count": 8,
   "metadata": {},
   "outputs": [
    {
     "name": "stdout",
     "output_type": "stream",
     "text": [
      "Counter({0: 116, 2: 111, 5: 81, 9: 73, 6: 66, 7: 57, 3: 55, 4: 45, 1: 36, 8: 35})\n",
      "[116, 36, 111, 55, 45, 81, 66, 57, 35, 73]\n",
      "\n"
     ]
    }
   ],
   "source": [
    "from collections import Counter\n",
    "zz=Counter(test_Y_index)\n",
    "sample_w=[zz[i] for i in range(0,10,1)]\n",
    "print(zz)\n",
    "print(sample_w)\n",
    "print()"
   ]
  },
  {
   "cell_type": "code",
   "execution_count": 9,
   "metadata": {},
   "outputs": [
    {
     "data": {
      "text/plain": [
       "<function matplotlib.pyplot.show(*args, **kw)>"
      ]
     },
     "execution_count": 9,
     "metadata": {},
     "output_type": "execute_result"
    }
   ],
   "source": [
    "from sklearn.metrics import confusion_matrix\n",
    "import matplotlib.pyplot as plt\n",
    "import itertools\n",
    "\n",
    "CM=confusion_matrix(test_Y_index, test_Y_predicted)\n",
    "CM_n=CM/numpy.array(sample_w)[:,None]\n",
    "scale_up=1.3\n",
    "plt.figure(figsize=[6.4*scale_up, 4.8*scale_up])\n",
    "plt.imshow(CM_n, interpolation='nearest')\n",
    "plt.title('CM')\n",
    "plt.colorbar()\n",
    "tick_marks = numpy.arange(len(labels_names))\n",
    "plt.xticks(tick_marks, labels_names, rotation=90)\n",
    "plt.yticks(tick_marks, labels_names)\n",
    "fmt = '.2f'\n",
    "for i, j in itertools.product(range(CM_n.shape[0]), range(CM_n.shape[1])):\n",
    "        plt.text(j, i, format(CM_n[i, j], fmt),horizontalalignment=\"center\",verticalalignment='center',\n",
    "                color=\"white\" if CM_n[i, j] < 0.25 else \"black\")\n",
    "plt.show"
   ]
  },
  {
   "cell_type": "code",
   "execution_count": 10,
   "metadata": {},
   "outputs": [],
   "source": [
    "#you can save the as a file so you dont have to train it every time\n",
    "model.save('di_sc_model.h5')"
   ]
  }
 ],
 "metadata": {
  "kernelspec": {
   "display_name": "Environment (conda_jup)",
   "language": "python",
   "name": "conda_jup"
  },
  "language_info": {
   "codemirror_mode": {
    "name": "ipython",
    "version": 3
   },
   "file_extension": ".py",
   "mimetype": "text/x-python",
   "name": "python",
   "nbconvert_exporter": "python",
   "pygments_lexer": "ipython3",
   "version": "3.6.6"
  }
 },
 "nbformat": 4,
 "nbformat_minor": 2
}
