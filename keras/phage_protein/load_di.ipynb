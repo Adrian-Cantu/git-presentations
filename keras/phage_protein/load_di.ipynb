{
 "cells": [
  {
   "cell_type": "code",
   "execution_count": null,
   "metadata": {},
   "outputs": [],
   "source": [
    "\n",
    "\n",
    "import os\n",
    "import importlib"
   ]
  },
  {
   "cell_type": "code",
   "execution_count": null,
   "metadata": {},
   "outputs": [],
   "source": [
    "train_X=[]\n",
    "train_Y=[]\n",
    "F = open(\"pi_dipep_head\",\"r\")\n",
    "for line in F: \n",
    "    fields=line.split(' ')\n",
    "    train_X.append([float(i) for i in fields[0:401]])\n",
    "    train_Y.append([float(i) for i in fields[401:]])\n",
    "    \n"
   ]
  },
  {
   "cell_type": "code",
   "execution_count": null,
   "metadata": {},
   "outputs": [],
   "source": [
    "test_X=[]\n",
    "test_Y=[]\n",
    "F = open(\"pi_dipep_tail\",\"r\")\n",
    "for line in F: \n",
    "    fields=line.split(' ')\n",
    "    test_X.append([float(i) for i in fields[0:401]])\n",
    "    test_Y.append([float(i) for i in fields[401:]])\n",
    "    \n"
   ]
  },
  {
   "cell_type": "code",
   "execution_count": null,
   "metadata": {},
   "outputs": [],
   "source": [
    "#recast to numpy.float32, not sure if it is really necessary\n",
    "import numpy\n",
    "\n",
    "train_X_format = numpy.asarray(train_X,dtype=numpy.float32)\n",
    "test_X_format = numpy.asarray(test_X,dtype=numpy.float32)\n",
    "train_Y_format = numpy.asarray(train_Y,dtype=numpy.float32)\n",
    "test_Y_format= numpy.asarray(test_Y,dtype=numpy.float32)"
   ]
  },
  {
   "cell_type": "code",
   "execution_count": null,
   "metadata": {},
   "outputs": [],
   "source": [
    "#if reading and processing files takes a long time, you might want to save the matrices \n",
    "import pickle\n",
    "pickle.dump(train_X_format, open( \"train_x.p\", \"wb\" ) )\n",
    "pickle.dump(test_X_format,  open( \"test_x.p\" , \"wb\" ) )\n",
    "pickle.dump(train_Y_format, open( \"train_y.p\", \"wb\" ) )\n",
    "pickle.dump(test_Y_format,  open( \"test_y.p\" , \"wb\" ) )"
   ]
  }
 ],
 "metadata": {
  "kernelspec": {
   "display_name": "Environment (conda_tensorflow_p36)",
   "language": "python",
   "name": "conda_tensorflow_p36"
  },
  "language_info": {
   "codemirror_mode": {
    "name": "ipython",
    "version": 3
   },
   "file_extension": ".py",
   "mimetype": "text/x-python",
   "name": "python",
   "nbconvert_exporter": "python",
   "pygments_lexer": "ipython3",
   "version": "3.6.5"
  }
 },
 "nbformat": 4,
 "nbformat_minor": 2
}
