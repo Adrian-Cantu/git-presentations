{
 "cells": [
  {
   "cell_type": "code",
   "execution_count": 1,
   "metadata": {},
   "outputs": [],
   "source": [
    "\n",
    "import os\n",
    "import importlib\n",
    "#print(DNA.__file__)"
   ]
  },
  {
   "cell_type": "code",
   "execution_count": 2,
   "metadata": {},
   "outputs": [
    {
     "name": "stdout",
     "output_type": "stream",
     "text": [
      "train_X\n",
      "[[6.0, 8.0, 7.0, 1.0, 7.0, 7.0, 1.0], [5.0, 7.0, 1.0, 3.0, 9.0, 9.0, 5.0], [5.0, 4.0, 1.0, 6.0, 6.0, 7.0, 1.0], [5.0, 8.0, 7.0, 1.0, 2.0, 3.0, 5.0], [5.0, 0.0, 1.0, 5.0, 8.0, 7.0, 1.0], [9.0, 7.0, 4.0, 1.0, 2.0, 8.0, 7.0], [7.0, 4.0, 4.0, 4.0, 7.0, 4.0, 4.0]]\n",
      "\n",
      "train_Y\n",
      "[[1, 0, 0], [0, 1, 0], [0, 1, 0], [1, 0, 0], [0, 1, 0], [0, 0, 1], [0, 0, 1]]\n"
     ]
    }
   ],
   "source": [
    "train_X=[]\n",
    "train_Y=[]\n",
    "\n",
    "#read train files, assing time point to different vectors\n",
    "F = open(\"Train.tsv\",\"r\")\n",
    "samples=F.readline()\n",
    "for line in F: \n",
    "    fields=line.split('\\t')\n",
    "    train_X.append([float(i) for i in fields[0:-1]])\n",
    "    if (int(fields[-1])==0):\n",
    "        train_Y.append([1,0,0])\n",
    "    elif (int(fields[-1])==1):\n",
    "        train_Y.append([0,1,0])\n",
    "    elif (int(fields[-1])==2):\n",
    "        train_Y.append([0,0,1])    \n",
    "\n",
    "print(\"train_X\")\n",
    "print(train_X)\n",
    "print(\"\\ntrain_Y\")\n",
    "print(train_Y)\n",
    "\n"
   ]
  },
  {
   "cell_type": "code",
   "execution_count": 3,
   "metadata": {},
   "outputs": [
    {
     "name": "stdout",
     "output_type": "stream",
     "text": [
      "test_X\n",
      "[[6.0, 8.0, 7.0, 1.0, 7.0, 7.0, 1.0], [5.0, 4.0, 1.0, 1.0, 6.0, 6.0, 1.0], [5.0, 8.0, 7.0, 1.0, 2.0, 3.0, 5.0], [9.0, 2.0, 7.0, 4.0, 1.0, 2.0, 7.0]]\n",
      "\n",
      "test_Y\n",
      "[[1, 0, 0], [0, 1, 0], [1, 0, 0], [0, 0, 1]]\n"
     ]
    }
   ],
   "source": [
    "test_X=[]\n",
    "test_Y=[]\n",
    "\n",
    "#read train files\n",
    "F = open(\"Test.tsv\",\"r\")\n",
    "samples=F.readline()\n",
    "for line in F: \n",
    "    fields=line.split('\\t')\n",
    "    test_X.append([float(i) for i in fields[0:-1]])\n",
    "    if (int(fields[-1])==0):\n",
    "        test_Y.append([1,0,0])\n",
    "    elif (int(fields[-1])==1):\n",
    "        test_Y.append([0,1,0])\n",
    "    elif (int(fields[-1])==2):\n",
    "        test_Y.append([0,0,1])\n",
    "    \n",
    "print(\"test_X\")\n",
    "print(test_X)\n",
    "print(\"\\ntest_Y\")\n",
    "print(test_Y)\n"
   ]
  },
  {
   "cell_type": "code",
   "execution_count": 4,
   "metadata": {},
   "outputs": [],
   "source": [
    "#recast to numpy.float32, not sure if it is really necessary\n",
    "import numpy\n",
    "\n",
    "train_X_format = numpy.asarray(train_X,dtype=numpy.float32)\n",
    "test_X_format = numpy.asarray(test_X,dtype=numpy.float32)\n",
    "train_Y_format = numpy.asarray(train_Y,dtype=numpy.float32)\n",
    "test_Y_format= numpy.asarray(test_Y,dtype=numpy.float32)"
   ]
  },
  {
   "cell_type": "code",
   "execution_count": 5,
   "metadata": {},
   "outputs": [],
   "source": [
    "#reshap to 3D as this is needed by LSTM\n",
    "train_X_format=train_X_format.reshape((train_X_format.shape[0], train_X_format.shape[1], 1))\n",
    "test_X_format=test_X_format.reshape((test_X_format.shape[0], test_X_format.shape[1], 1))\n",
    "#train_Y_format=train_Y_format.reshape((train_Y_format.shape[0], 1))\n",
    "#test_Y_format=test_Y_format.reshape((test_Y_format.shape[0], 1))"
   ]
  },
  {
   "cell_type": "code",
   "execution_count": 6,
   "metadata": {},
   "outputs": [],
   "source": [
    "#if reading and processing files takes a long time, you might want to save the matrices \n",
    "import pickle\n",
    "pickle.dump(train_X_format, open( \"train_x.p\", \"wb\" ) )\n",
    "pickle.dump(test_X_format,  open( \"test_x.p\" , \"wb\" ) )\n",
    "pickle.dump(train_Y_format, open( \"train_y.p\", \"wb\" ) )\n",
    "pickle.dump(test_Y_format,  open( \"test_y.p\" , \"wb\" ) )"
   ]
  }
 ],
 "metadata": {
  "kernelspec": {
   "display_name": "Environment (conda_tensorflow_p36)",
   "language": "python",
   "name": "conda_tensorflow_p36"
  },
  "language_info": {
   "codemirror_mode": {
    "name": "ipython",
    "version": 3
   },
   "file_extension": ".py",
   "mimetype": "text/x-python",
   "name": "python",
   "nbconvert_exporter": "python",
   "pygments_lexer": "ipython3",
   "version": "3.6.4"
  }
 },
 "nbformat": 4,
 "nbformat_minor": 2
}
