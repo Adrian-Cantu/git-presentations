{
 "cells": [
  {
   "cell_type": "markdown",
   "metadata": {},
   "source": [
    "<span style=\"color:black;font-size:30pt\"> Mitochondria assembly and species identification\n"
   ]
  },
  {
   "cell_type": "markdown",
   "metadata": {},
   "source": [
    "<span style=\"color:blue;font-size:14pt\"> We start by assembling the raw nanopore reads. We use genomeSize=16k as it is the expected size of a mitochondrial genome. </span>"
   ]
  },
  {
   "cell_type": "code",
   "execution_count": 34,
   "metadata": {
    "scrolled": true
   },
   "outputs": [],
   "source": [
    " ~/canu/Linux-amd64/bin/canu -d assemble/ -p shark genomeSize=16k minReadLength=500 -nanopore-raw all_shark.fastq 2> canu.log\n"
   ]
  },
  {
   "cell_type": "markdown",
   "metadata": {},
   "source": [
    "<span style=\"color:blue;font-size:14pt\">we then blast the contigs agains nt"
   ]
  },
  {
   "cell_type": "code",
   "execution_count": 39,
   "metadata": {},
   "outputs": [],
   "source": [
    "#cp assemble/shark.contigs.fasta shark.contigs.fasta\n",
    "export BLASTDB=/home/ubuntu/DB\n",
    "blastn -db nt -query shark.contigs.fasta -out contigs_nt.blastn -outfmt \"6 qseqid sseqid pident length evalue salltitles sallacc sstart send qstart qend\" -max_target_seqs 2  -max_hsps 2 -num_threads 16 -culling_limit 1 -evalue 0.001\n"
   ]
  },
  {
   "cell_type": "code",
   "execution_count": 40,
   "metadata": {},
   "outputs": [
    {
     "name": "stdout",
     "output_type": "stream",
     "text": [
      "tig00000001\tgi|19067985|gb|AY049832.1|\t93.27\t4025\t0.0\tGaleocerdo cuvier internal transcribed spacer 2, and 28S ribosomal RNA gene, partial sequence\tAY049832\t3987\t9\t258\t4191\n",
      "tig00000001\tgi|19067986|gb|AY049833.1|\t92.22\t1787\t0.0\tGaleocerdo cuvier 18S ribosomal RNA gene, complete sequence\tAY049833\t1780\t1\t9695\t11431\n",
      "tig00000003\tgi|156119673|gb|AC164927.3|\t72.46\t973\t4e-68\tGinglymostoma cirratum clone GC_Ba-557B6, complete sequence\tAC164927\t38782\t39736\t307\t1253\n",
      "tig00000003\tgi|301128892|emb|FQ032660.1|\t96.15\t52\t2e-11\tScyliorhinus canicula Cluster_HOXD sequence\tFQ032660\t24936\t24987\t3\t53\n",
      "tig00000010\tgi|456368036|gb|KC470543.1|\t93.08\t14116\t0.0\tCarcharhinus obscurus mitochondrion, complete genome\tKC470543\t1\t14102\t8310\t22174\n",
      "tig00000010\tgi|456368036|gb|KC470543.1|\t91.96\t8474\t0.0\tCarcharhinus obscurus mitochondrion, complete genome\tKC470543\t8239\t16706\t1\t8309\n",
      "tig00000010\tgi|1382859157|gb|MG912791.1|\t73.40\t7698\t0.0\tChelonoidis duncanensis isolate 8291 mitochondrion, partial genome\tMG912791\t14022\t6492\t10735\t18206\n",
      "tig00000017\tgi|858971314|gb|KP128093.1|\t81.98\t860\t0.0\tChiloscyllium punctatum antithrombin (serpinc1) gene, complete cds\tKP128093\t3920\t3078\t299\t1130\n",
      "tig00000017\tgi|858971314|gb|KP128093.1|\t81.18\t797\t9e-167\tChiloscyllium punctatum antithrombin (serpinc1) gene, complete cds\tKP128093\t3920\t3148\t645\t1419\n",
      "tig00000019\tgi|1016246|gb|U34992.1|CPU34992\t90.21\t562\t0.0\tCarcharhinus plumbeus Ig lambda light chain gene, complete cds\tU34992\t6638\t6080\t1355\t1892\n",
      "tig00000019\tgi|41469002|gb|AC144758.2|\t88.68\t53\t3e-04\tDanio rerio, complete sequence\tAC144758\t30664\t30714\t1637\t1686\n",
      "tig00000026\tgi|115334359|dbj|AB254130.1|\t81.19\t787\t2e-166\tSphyrna lewini GRLN gene for preproghrelin, complete cds\tAB254130\t4433\t5216\t15\t766\n",
      "tig00000026\tgi|301128892|emb|FQ032660.1|\t94.00\t50\t1e-08\tScyliorhinus canicula Cluster_HOXD sequence\tFQ032660\t24937\t24986\t2\t50\n",
      "tig00000756\tgi|115334359|dbj|AB254130.1|\t88.04\t276\t5e-84\tSphyrna lewini GRLN gene for preproghrelin, complete cds\tAB254130\t5980\t5706\t794\t1067\n",
      "tig00000756\tgi|115334359|dbj|AB254130.1|\t87.10\t279\t5e-79\tSphyrna lewini GRLN gene for preproghrelin, complete cds\tAB254130\t5980\t5706\t43\t315\n",
      "tig00000756\tgi|301128880|emb|FQ032659.1|\t98.31\t59\t3e-17\tScyliorhinus canicula Cluster_HOXB sequence\tFQ032659\t78981\t79038\t205\t263\n",
      "tig00000756\tgi|301128880|emb|FQ032659.1|\t98.31\t59\t3e-17\tScyliorhinus canicula Cluster_HOXB sequence\tFQ032659\t78981\t79038\t652\t710\n",
      "tig00000757\tgi|115334359|dbj|AB254130.1|\t87.36\t277\t2e-79\tSphyrna lewini GRLN gene for preproghrelin, complete cds\tAB254130\t5980\t5706\t566\t835\n",
      "tig00000757\tgi|115334359|dbj|AB254130.1|\t87.87\t272\t2e-79\tSphyrna lewini GRLN gene for preproghrelin, complete cds\tAB254130\t5973\t5706\t920\t1184\n",
      "tig00000757\tgi|350626506|gb|JN646104.1|\t80.75\t161\t8e-24\tTriaenodon obesus selenium binding protein 1 (SBP1) mRNA, complete cds\tJN646104\t2226\t2066\t1\t159\n",
      "tig00000757\tgi|350626506|gb|JN646104.1|\t95.00\t40\t2e-05\tTriaenodon obesus selenium binding protein 1 (SBP1) mRNA, complete cds\tJN646104\t2222\t2183\t1617\t1656\n",
      "tig00000758\tgi|115334359|dbj|AB254130.1|\t86.40\t272\t2e-73\tSphyrna lewini GRLN gene for preproghrelin, complete cds\tAB254130\t5973\t5706\t255\t521\n",
      "tig00000758\tgi|115334359|dbj|AB254130.1|\t86.03\t272\t1e-71\tSphyrna lewini GRLN gene for preproghrelin, complete cds\tAB254130\t5973\t5706\t104\t370\n",
      "tig00000758\tgi|30578123|dbj|AB074142.1|\t90.61\t213\t5e-70\tTriakis scyllium IL-1 gene for interleukin-1beta, complete cds\tAB074142\t3476\t3266\t1069\t1277\n",
      "tig00000761\tgi|27549546|gb|AY172838.1|\t91.29\t1102\t0.0\tCarcharhinus plumbeus recombination activating gene 1 (RAG1) gene, partial cds; and recombination activating gene 2 (RAG2) gene, complete cds\tAY172838\t8301\t7202\t1150\t2200\n",
      "tig00000761\tgi|339895689|dbj|AB571627.1|\t77.46\t417\t2e-56\tGinglymostoma cirratum ZFP112, b2m, brd2 genes for similar to zinc finger protein 112, beta 2 microglobulin, bromodomain containing 2, complete cds\tAB571627\t74638\t75051\t1793\t2194\n",
      "tig00000762\tgi|27549546|gb|AY172838.1|\t93.86\t1091\t0.0\tCarcharhinus plumbeus recombination activating gene 1 (RAG1) gene, partial cds; and recombination activating gene 2 (RAG2) gene, complete cds\tAY172838\t8297\t7207\t499\t1563\n",
      "tig00000762\tgi|339895689|dbj|AB571627.1|\t78.47\t418\t1e-63\tGinglymostoma cirratum ZFP112, b2m, brd2 genes for similar to zinc finger protein 112, beta 2 microglobulin, bromodomain containing 2, complete cds\tAB571627\t74638\t75051\t1159\t1562\n"
     ]
    }
   ],
   "source": [
    "cat contigs_nt.blastn"
   ]
  },
  {
   "cell_type": "markdown",
   "metadata": {},
   "source": [
    "<span style=\"color:blue;font-size:14pt\"> tig00000010 has a long hit to \"Carcharhinus obscurus mitochondrion\". let's extract it </span>"
   ]
  },
  {
   "cell_type": "code",
   "execution_count": 9,
   "metadata": {},
   "outputs": [],
   "source": [
    "samtools faidx shark.contigs.fasta 'tig00000010' > tig00000010.fasta"
   ]
  },
  {
   "cell_type": "markdown",
   "metadata": {},
   "source": [
    "<span style=\"color:blue;font-size:14pt\"> And let's also download the Carcharhinus obscurus mitochondrion genome"
   ]
  },
  {
   "cell_type": "code",
   "execution_count": 21,
   "metadata": {},
   "outputs": [],
   "source": [
    "curl 'https://eutils.ncbi.nlm.nih.gov/entrez/eutils/efetch.fcgi?db=nuccore&id=KC470543&retnode=text&rettype=fasta' > 'Carcharhinus_obscurus_mitochondrion.fasta' 2> /dev/null\n"
   ]
  },
  {
   "cell_type": "markdown",
   "metadata": {},
   "source": [
    "<span style=\"color:blue;font-size:14pt\">Using Gepard we construct a dotplot of tig00000010 against itself. Note that the start and end of the sequence is highly similar. This is common when you assemble a circular genome \n",
    "\n",
    "<img src=\"files/tig10dotplot.jpeg\">\n"
   ]
  },
  {
   "cell_type": "markdown",
   "metadata": {},
   "source": [
    "<span style=\"color:blue;font-size:14pt\">We then align the contig agains itself to find the ends of the repeated regions"
   ]
  },
  {
   "cell_type": "code",
   "execution_count": 22,
   "metadata": {},
   "outputs": [
    {
     "name": "stdout",
     "output_type": "stream",
     "text": [
      "1: PREPARING DATA\n",
      "2,3: RUNNING mummer AND CREATING CLUSTERS\n",
      "# reading input file \"out.ntref\" of length 22175\n",
      "# construct suffix tree for sequence of length 22175\n",
      "# (maximum reference length is 536870908)\n",
      "# (maximum query length is 4294967295)\n",
      "# CONSTRUCTIONTIME /usr/bin/mummer out.ntref 0.00\n",
      "# reading input file \"/home/ubuntu/git-presentations/shark_mito/tig00000010.fasta\" of length 22174\n",
      "# matching query-file \"/home/ubuntu/git-presentations/shark_mito/tig00000010.fasta\"\n",
      "# against subject-file \"out.ntref\"\n",
      "# COMPLETETIME /usr/bin/mummer out.ntref 0.01\n",
      "# SPACE /usr/bin/mummer out.ntref 0.04\n",
      "4: FINISHING DATA\n",
      "1\t22174\t1\t22174\t22174\t22174\t100.00\t22174\t22174\t100.00\t100.00\ttig00000010\ttig00000010\n",
      "1\t5753\t16477\t22174\t5753\t5698\t94.58\t22174\t22174\t25.94\t25.70\ttig00000010\ttig00000010\n",
      "16477\t22174\t1\t5753\t5698\t5753\t94.58\t22174\t22174\t25.70\t25.94\ttig00000010\ttig00000010\n"
     ]
    }
   ],
   "source": [
    "nucmer --maxmatch --nosimplify tig00000010.fasta tig00000010.fasta\n",
    "show-coords -lrcTH out.delta\n"
   ]
  },
  {
   "cell_type": "markdown",
   "metadata": {},
   "source": [
    "<span style=\"color:blue;font-size:14pt\">This shows that region 1-5753 is 94.58% similar to region 16477-22174. We use samtools to delete region 16477-22174"
   ]
  },
  {
   "cell_type": "code",
   "execution_count": 13,
   "metadata": {},
   "outputs": [],
   "source": [
    "samtools faidx tig00000010.fasta tig00000010:1-16476 > tig00000010_cut.fasta"
   ]
  },
  {
   "cell_type": "markdown",
   "metadata": {},
   "source": [
    "<span style=\"color:blue;font-size:14pt\">The dotplot show no repeated regions\n",
    "<img src=\"files/tig10_cut.jpeg\">"
   ]
  },
  {
   "cell_type": "markdown",
   "metadata": {},
   "source": [
    "<span style=\"color:blue;font-size:14pt\">Aligning agains the Carcharhinus obscurus mitocondrion genome shows that tig00000010 is shifted. By convention, mitochondrial genomes are reported as lineal genomes starting on the tRNA-phe gene. Canu has no way of finding this gene, so the starting point is mostly random. "
   ]
  },
  {
   "cell_type": "markdown",
   "metadata": {},
   "source": [
    "\n",
    "<img src=\"files/tig10_vs_obscurus.jpeg\">"
   ]
  },
  {
   "cell_type": "markdown",
   "metadata": {},
   "source": [
    "<span style=\"color:blue;font-size:14pt\">We aling Carcharhinus obscurus mitochondrion genome to tig00000010 to find the breaking point. In this case, it is between positions 8309 and 8310"
   ]
  },
  {
   "cell_type": "code",
   "execution_count": 15,
   "metadata": {},
   "outputs": [
    {
     "name": "stdout",
     "output_type": "stream",
     "text": [
      "1: PREPARING DATA\n",
      "2,3: RUNNING mummer AND CREATING CLUSTERS\n",
      "# reading input file \"cut_vs_carcharhinus.ntref\" of length 16477\n",
      "# construct suffix tree for sequence of length 16477\n",
      "# (maximum reference length is 536870908)\n",
      "# (maximum query length is 4294967295)\n",
      "# CONSTRUCTIONTIME /usr/bin/mummer cut_vs_carcharhinus.ntref 0.00\n",
      "# reading input file \"/home/ubuntu/git-presentations/shark_mito/Carcharhinus_obscurus_mitochondrion.fasta\" of length 16706\n",
      "# matching query-file \"/home/ubuntu/git-presentations/shark_mito/Carcharhinus_obscurus_mitochondrion.fasta\"\n",
      "# against subject-file \"cut_vs_carcharhinus.ntref\"\n",
      "# COMPLETETIME /usr/bin/mummer cut_vs_carcharhinus.ntref 0.01\n",
      "# SPACE /usr/bin/mummer cut_vs_carcharhinus.ntref 0.03\n",
      "4: FINISHING DATA\n",
      "1\t8309\t8239\t16706\t8309\t8468\t91.96\t16476\t16706\t50.43\t50.69\ttig00000010:1-16476\tKC470543.1\n",
      "8310\t16476\t1\t8238\t8167\t8238\t95.29\t16476\t16706\t49.57\t49.31\ttig00000010:1-16476\tKC470543.1\n"
     ]
    }
   ],
   "source": [
    "nucmer -p cut_vs_carcharhinus tig00000010_cut.fasta Carcharhinus_obscurus_mitochondrion.fasta\n",
    "show-coords -lrcTH cut_vs_carcharhinus.delta"
   ]
  },
  {
   "cell_type": "markdown",
   "metadata": {},
   "source": [
    "<span style=\"color:blue;font-size:14pt\">We rotate the genome using samtools"
   ]
  },
  {
   "cell_type": "code",
   "execution_count": 24,
   "metadata": {},
   "outputs": [],
   "source": [
    "samtools faidx tig00000010_cut.fasta 'tig00000010:1-16476':8310-16476 'tig00000010:1-16476':1-8309 | grep -v '>' | tr -d '\\n' | sed '1s/^/>tig00000010_cut_rotated\\n/' | sed -e '$a\\'  > tig00000010_cut_rotated.fasta"
   ]
  },
  {
   "cell_type": "markdown",
   "metadata": {},
   "source": [
    "<span style=\"color:blue;font-size:14pt\">The dotplot show tig00000010 has the standar starting point now\n",
    "<img src=\"files/cut_rotated_vs_obscurus.jpeg\">"
   ]
  },
  {
   "cell_type": "markdown",
   "metadata": {},
   "source": [
    "<span style=\"color:blue;font-size:14pt\"> We use <a href=\"http://mitofish.aori.u-tokyo.ac.jp/annotation/input.html\">MitoFish server</a> to anotate tig00000010. This gives us a <a href=\"files/tig00000010_cut_rotated_genes.fa\">fasta file</a> with genes. We then blast them agains nt. \n",
    " "
   ]
  },
  {
   "cell_type": "code",
   "execution_count": 31,
   "metadata": {},
   "outputs": [],
   "source": [
    "blastn -db nt -query tig00000010_cut_rotated_genes.fa -out genes.blast -outfmt \"6 qseqid sseqid pident length evalue sscinames salltitles sallacc sstart send qstart qend\" -max_target_seqs 1 -num_threads 16 -culling_limit 1 -max_hsps 1 -evalue 0.001"
   ]
  },
  {
   "cell_type": "markdown",
   "metadata": {},
   "source": [
    "<span style=\"color:blue;font-size:14pt\">We count how many genes blast assings to each shark species"
   ]
  },
  {
   "cell_type": "code",
   "execution_count": 32,
   "metadata": {},
   "outputs": [
    {
     "name": "stdout",
     "output_type": "stream",
     "text": [
      "     22 Carcharhinus falciformis\n",
      "      9 Carcharhinus obscurus\n",
      "      1 Sphyrna lewini\n",
      "      1 Prionace glauca\n",
      "      1 Mustelus widodoi\n",
      "      1 Carcharhinus macloti\n",
      "      1 Carcharhinus brevipinna\n",
      "      1 Carcharhinus amblyrhynchos\n"
     ]
    }
   ],
   "source": [
    "cut -f6 genes.blast | sort | uniq -c | sort -nr"
   ]
  },
  {
   "cell_type": "markdown",
   "metadata": {},
   "source": [
    "<span style=\"color:blue;font-size:14pt\">With this information we can conclude that the sample was Carcharhinus falciformis"
   ]
  }
 ],
 "metadata": {
  "kernelspec": {
   "display_name": "Bash",
   "language": "bash",
   "name": "bash"
  },
  "language_info": {
   "codemirror_mode": "shell",
   "file_extension": ".sh",
   "mimetype": "text/x-sh",
   "name": "bash"
  }
 },
 "nbformat": 4,
 "nbformat_minor": 2
}
