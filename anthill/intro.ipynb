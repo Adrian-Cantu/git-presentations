{
 "cells": [
  {
   "cell_type": "code",
   "execution_count": 1,
   "metadata": {},
   "outputs": [
    {
     "name": "stdout",
     "output_type": "stream",
     "text": [
      " \u001b[0m\u001b[38;5;253m00-installer-config.yaml\u001b[0m             \u001b[38;5;253mkk_prinseq\u001b[0m\r\n",
      " \u001b[38;5;253m01-network-manager-all.yaml\u001b[0m          \u001b[38;5;253mkkblast\u001b[0m\r\n",
      " \u001b[38;5;253m01-network-manager-all.yaml_resp2\u001b[0m    \u001b[38;5;253mkkipymb\u001b[0m\r\n",
      " \u001b[38;5;253m01-network-manager-all.yaml_resp3\u001b[0m    \u001b[38;5;253mkkmake\u001b[0m\r\n",
      " \u001b[38;5;253m01-network-manager-all.yaml_resp4\u001b[0m    \u001b[38;5;253mkktime\u001b[0m\r\n",
      " \u001b[38;5;208;1mAnaconda3-2020.07-Linux-x86_64.sh\u001b[0m*   \u001b[38;5;253mmajor_capsid_all_not_clean.fasta\u001b[0m\r\n",
      "\u001b[38;5;12m'Calibre Library'\u001b[0m/                    \u001b[38;5;12mmegan\u001b[0m/\r\n",
      " \u001b[38;5;12mDesktop\u001b[0m/                             \u001b[38;5;141mmozilla.pdf\u001b[0m\r\n",
      " \u001b[38;5;12mDocuments\u001b[0m/                           \u001b[38;5;12mncbi\u001b[0m/\r\n",
      " \u001b[38;5;12mDownloads\u001b[0m/                           \u001b[38;5;12mncbi-outdir\u001b[0m/\r\n",
      " \u001b[38;5;12mFiraxisLive\u001b[0m/                         \u001b[38;5;12mnew_drive\u001b[0m/\r\n",
      " \u001b[38;5;12mGames\u001b[0m/                               \u001b[38;5;12mold\u001b[0m/\r\n",
      " \u001b[38;5;12mMusic\u001b[0m/                               \u001b[38;5;208;1mopenvpn-install.sh\u001b[0m*\r\n",
      " \u001b[38;5;12mNVIDIA_CUDA-10.1_Samples\u001b[0m/            \u001b[38;5;12mopt\u001b[0m/\r\n",
      " \u001b[38;5;253mPROKKA_10072019.faa\u001b[0m                  \u001b[38;5;12moscar\u001b[0m/\r\n",
      " \u001b[38;5;12mPictures\u001b[0m/                            \u001b[38;5;40moscar.tar\u001b[0m\r\n",
      " \u001b[38;5;12mPublic\u001b[0m/                              \u001b[38;5;215mpatric-cli-1.032.deb\u001b[0m\r\n",
      " \u001b[38;5;12mTemplates\u001b[0m/                           \u001b[38;5;12mperl5\u001b[0m/\r\n",
      " \u001b[38;5;141mUntitled.pdf\u001b[0m                         \u001b[38;5;12mprinseq-plus-plus-1.2\u001b[0m/\r\n",
      " \u001b[38;5;12mVPN\u001b[0m/                                 \u001b[38;5;40mprinseq-plus-plus-1.2.tar.gz\u001b[0m\r\n",
      " \u001b[38;5;12mVideos\u001b[0m/                              \u001b[38;5;12mroo\u001b[0m/\r\n",
      " \u001b[38;5;12mZotero\u001b[0m/                             \u001b[38;5;12m'secret bar'\u001b[0m/\r\n",
      " \u001b[38;5;253madrian.ovpn\u001b[0m                          \u001b[38;5;12msnap\u001b[0m/\r\n",
      " \u001b[38;5;12manaconda3\u001b[0m/                           \u001b[38;5;12msoftware\u001b[0m/\r\n",
      " \u001b[38;5;12mbin\u001b[0m/                                 \u001b[38;5;12msrc\u001b[0m/\r\n",
      " \u001b[38;5;253mcat_tag.fasta\u001b[0m                        \u001b[38;5;12msuperproductivity\u001b[0m/\r\n",
      " \u001b[38;5;12mdrive\u001b[0m/                               \u001b[38;5;253mtag_minor_capsid.fasta\u001b[0m\r\n",
      " \u001b[38;5;12mentrez_marisa\u001b[0m/                       \u001b[38;5;12mteam_g_drive\u001b[0m/\r\n",
      " \u001b[38;5;178menvironment.yml\u001b[0m                      \u001b[38;5;178mtf2_environment.yml\u001b[0m\r\n",
      " \u001b[38;5;253mgarbanyo.ovpn\u001b[0m                        \u001b[38;5;253mtime_test.aux\u001b[0m\r\n",
      " \u001b[38;5;253mgarbanyo_mod.ovpn\u001b[0m                    \u001b[38;5;190mtime_test.log\u001b[0m\r\n",
      " \u001b[38;5;253mget_shit_done.txt\u001b[0m                    \u001b[38;5;141mtime_test.pdf\u001b[0m\r\n",
      " \u001b[38;5;12mgit-presentations\u001b[0m/                   \u001b[38;5;208;1mtime_test.tex\u001b[0m*\r\n",
      " \u001b[38;5;12mgo\u001b[0m/                                  \u001b[38;5;12mtmp_drive\u001b[0m/\r\n",
      " \u001b[38;5;12mguppy_log\u001b[0m/                           \u001b[38;5;253mtorrent\u001b[0m\r\n",
      " \u001b[38;5;253mkk\u001b[0m                                   \u001b[38;5;12musb\u001b[0m/\r\n",
      " \u001b[38;5;253mkk_fastq\u001b[0m                             \u001b[38;5;253mwinehq.key\u001b[0m\r\n",
      " \u001b[38;5;253mkk_make\u001b[0m\r\n"
     ]
    }
   ],
   "source": [
    "ls ~"
   ]
  }
 ],
 "metadata": {
  "jupytext": {
   "formats": "ipynb,py:light"
  },
  "kernelspec": {
   "display_name": "Python 3",
   "language": "python",
   "name": "python3"
  },
  "language_info": {
   "codemirror_mode": {
    "name": "ipython",
    "version": 3
   },
   "file_extension": ".py",
   "mimetype": "text/x-python",
   "name": "python",
   "nbconvert_exporter": "python",
   "pygments_lexer": "ipython3",
   "version": "3.8.6"
  }
 },
 "nbformat": 4,
 "nbformat_minor": 4
}
