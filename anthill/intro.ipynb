{
 "cells": [
  {
   "cell_type": "markdown",
   "metadata": {},
   "source": [
    "# anthill \n",
    "\n",
    "anthill is cluster that uses the \"Sun Grid engine\" scheduler.\n",
    "\n"
   ]
  },
  {
   "cell_type": "markdown",
   "metadata": {},
   "source": [
    "To submit a job to the cluster you need to write a bash script"
   ]
  },
  {
   "cell_type": "code",
   "execution_count": 1,
   "metadata": {},
   "outputs": [
    {
     "name": "stdout",
     "output_type": "stream",
     "text": [
      "date\n",
      "sleep 60\n",
      "date\n"
     ]
    }
   ],
   "source": [
    "cat ./sleep_test.sh"
   ]
  },
  {
   "cell_type": "markdown",
   "metadata": {},
   "source": [
    "submit using qsub"
   ]
  },
  {
   "cell_type": "code",
   "execution_count": 2,
   "metadata": {},
   "outputs": [
    {
     "name": "stdout",
     "output_type": "stream",
     "text": [
      "Your job 6039626 (\"test\") has been submitted\n"
     ]
    }
   ],
   "source": [
    "rm -rf sge sgo\n",
    "mkdir -p sge\n",
    "mkdir -p sgo\n",
    "qsub -cwd -N test -e sge -o sgo -q important ./sleep_test.sh"
   ]
  },
  {
   "cell_type": "markdown",
   "metadata": {},
   "source": [
    "you can check the status using qstat"
   ]
  },
  {
   "cell_type": "code",
   "execution_count": 3,
   "metadata": {
    "lines_to_next_cell": 2
   },
   "outputs": [
    {
     "name": "stdout",
     "output_type": "stream",
     "text": [
      "job-ID  prior   name       user         state submit/start at     queue                          slots ja-task-ID \n",
      "-----------------------------------------------------------------------------------------------------------------\n",
      "6039626 0.00000 test       acantu       qw    12/17/2020 12:04:09                                    1        \n"
     ]
    }
   ],
   "source": [
    "qstat"
   ]
  },
  {
   "cell_type": "markdown",
   "metadata": {},
   "source": [
    "If needed, the job can be killed using qdel"
   ]
  },
  {
   "cell_type": "code",
   "execution_count": 5,
   "metadata": {},
   "outputs": [
    {
     "name": "stdout",
     "output_type": "stream",
     "text": [
      "job 6039626 is already in deletion\n"
     ]
    }
   ],
   "source": [
    "#qdel [job-ID]\n",
    "qdel 6039626"
   ]
  },
  {
   "cell_type": "markdown",
   "metadata": {},
   "source": [
    "STDOUT is redirected to sgo and STDERR to sge."
   ]
  },
  {
   "cell_type": "code",
   "execution_count": 6,
   "metadata": {},
   "outputs": [
    {
     "name": "stdout",
     "output_type": "stream",
     "text": [
      "Thu Dec 17 12:04:18 PST 2020\n",
      "Thu Dec 17 12:05:18 PST 2020\n"
     ]
    }
   ],
   "source": [
    "cat sgo/test.o6039626"
   ]
  },
  {
   "cell_type": "markdown",
   "metadata": {},
   "source": [
    "## cwd\n",
    "-cwd tells SGE to use the current directory\n",
    "## N\n",
    "-N names the job\n",
    "## e\n",
    "-e redirects STDERR\n",
    "## o\n",
    "-o redirects STDOUT\n",
    "## q\n",
    "-q select the queue. there are 3 queues:\n",
    "\n",
    "# default\n",
    "The default queue has 35 nodes, each with 16 processors and 128 GB RAM. Each processor runs an independent job, so you can run 560 jobs simultaneously on these machines. This queue is in eternally friendly mode, and all jobs are run on a first-in first-out basis.\n",
    "# important\n",
    "The important queue has 4 nodes with 16 processors and 128 GB RAM each. This queue is for single jobs only. Do not run array jobs on this queue or they will be terminated! The queue is for testing and running individual programs.\n",
    "# smallmem\n",
    "This queue has nine nodes each with 8 processors (72 computes total), Each processor has 14 GB RAM, except node1 that has 24 GB RAM. People often forget about this queue, so sometimes it is worth checking!"
   ]
  },
  {
   "cell_type": "code",
   "execution_count": 7,
   "metadata": {},
   "outputs": [
    {
     "name": "stdout",
     "output_type": "stream",
     "text": [
      "default\n",
      "important\n",
      "smallmem\n"
     ]
    }
   ],
   "source": [
    "qconf -sql"
   ]
  },
  {
   "cell_type": "markdown",
   "metadata": {},
   "source": [
    "argument can also be passed in file"
   ]
  },
  {
   "cell_type": "code",
   "execution_count": 8,
   "metadata": {},
   "outputs": [
    {
     "name": "stdout",
     "output_type": "stream",
     "text": [
      "#!/usr/bin/bash\n",
      "\n",
      "#$ -cwd\n",
      "#$ -N test_infile\n",
      "#$ -e sge\n",
      "#$ -o sgo\n",
      "#$ -q important\n",
      "\n",
      "\n",
      "date\n",
      "sleep 60\n",
      "date\n"
     ]
    }
   ],
   "source": [
    "cat sleep_test_infile.sh"
   ]
  },
  {
   "cell_type": "code",
   "execution_count": 9,
   "metadata": {},
   "outputs": [
    {
     "name": "stdout",
     "output_type": "stream",
     "text": [
      "Your job 6039627 (\"test_infile\") has been submitted\n"
     ]
    }
   ],
   "source": [
    "qsub ./sleep_test_infile.sh"
   ]
  },
  {
   "cell_type": "markdown",
   "metadata": {},
   "source": [
    "With an array job, sleep_test_job_array.sh gets passed a special variable called $SGE_TASK_ID that is the number of the job it is running"
   ]
  },
  {
   "cell_type": "code",
   "execution_count": 10,
   "metadata": {},
   "outputs": [
    {
     "name": "stdout",
     "output_type": "stream",
     "text": [
      "date\n",
      "sleep 60\n",
      "echo \"this is job number $SGE_TASK_ID\"\n",
      "date\n"
     ]
    }
   ],
   "source": [
    "cat ./sleep_test_job_array.sh"
   ]
  },
  {
   "cell_type": "code",
   "execution_count": 11,
   "metadata": {},
   "outputs": [
    {
     "name": "stdout",
     "output_type": "stream",
     "text": [
      "Your job-array 6039628.1-5:1 (\"array\") has been submitted\n"
     ]
    }
   ],
   "source": [
    "qsub -cwd -N array -e sge -o sgo -t 1:5:1 -q default ./sleep_test_job_array.sh"
   ]
  },
  {
   "cell_type": "code",
   "execution_count": 16,
   "metadata": {},
   "outputs": [],
   "source": [
    "qstat"
   ]
  },
  {
   "cell_type": "code",
   "execution_count": 17,
   "metadata": {},
   "outputs": [
    {
     "name": "stdout",
     "output_type": "stream",
     "text": [
      "\u001b[0m\u001b[38;5;253msgo/array.o6039628.1\u001b[0m  \u001b[38;5;253msgo/array.o6039628.3\u001b[0m  \u001b[38;5;253msgo/array.o6039628.5\u001b[0m\n",
      "\u001b[38;5;253msgo/array.o6039628.2\u001b[0m  \u001b[38;5;253msgo/array.o6039628.4\u001b[0m\n"
     ]
    }
   ],
   "source": [
    "ls sgo/array*"
   ]
  },
  {
   "cell_type": "code",
   "execution_count": 18,
   "metadata": {},
   "outputs": [
    {
     "name": "stdout",
     "output_type": "stream",
     "text": [
      "Thu Dec 17 12:06:18 PST 2020\n",
      "this is job number 1\n",
      "Thu Dec 17 12:07:18 PST 2020\n",
      "Thu Dec 17 12:06:18 PST 2020\n",
      "this is job number 2\n",
      "Thu Dec 17 12:07:18 PST 2020\n",
      "Thu Dec 17 12:06:18 PST 2020\n",
      "this is job number 3\n",
      "Thu Dec 17 12:07:18 PST 2020\n",
      "Thu Dec 17 12:06:18 PST 2020\n",
      "this is job number 4\n",
      "Thu Dec 17 12:07:18 PST 2020\n",
      "Thu Dec 17 12:06:18 PST 2020\n",
      "this is job number 5\n",
      "Thu Dec 17 12:07:18 PST 2020\n"
     ]
    }
   ],
   "source": [
    "cat sgo/array*"
   ]
  },
  {
   "cell_type": "markdown",
   "metadata": {},
   "source": [
    "a classic hack is to list all commands to run in a file and have a script read it and run."
   ]
  },
  {
   "cell_type": "code",
   "execution_count": 19,
   "metadata": {},
   "outputs": [
    {
     "name": "stdout",
     "output_type": "stream",
     "text": [
      "echo \"this is the first command\"\n",
      "echo \"this is the second command\"\n",
      "echo \"this is the third command\"\n"
     ]
    }
   ],
   "source": [
    "cat ./list_of_commands.txt"
   ]
  },
  {
   "cell_type": "code",
   "execution_count": 20,
   "metadata": {},
   "outputs": [
    {
     "name": "stdout",
     "output_type": "stream",
     "text": [
      "#!/usr.bin/bash\n",
      "\n",
      "sleep 40\n",
      "run=$(cat list_of_commands.txt | head -n $SGE_TASK_ID | tail -n 1)\n",
      "$run > $SGE_TASK_ID\\_command.txt\n"
     ]
    }
   ],
   "source": [
    "cat ./run_list.sh"
   ]
  },
  {
   "cell_type": "code",
   "execution_count": 21,
   "metadata": {},
   "outputs": [
    {
     "name": "stdout",
     "output_type": "stream",
     "text": [
      "Your job-array 6039629.1-3:1 (\"list\") has been submitted\n"
     ]
    }
   ],
   "source": [
    "qsub -cwd -N list -e sge -o sgo -t 1:3:1 -q default ./run_list.sh"
   ]
  },
  {
   "cell_type": "code",
   "execution_count": 22,
   "metadata": {},
   "outputs": [
    {
     "name": "stdout",
     "output_type": "stream",
     "text": [
      "job-ID  prior   name       user         state submit/start at     queue                          slots ja-task-ID \n",
      "-----------------------------------------------------------------------------------------------------------------\n",
      "6039629 0.55500 list       acantu       r     12/17/2020 12:07:33 default@node30                     1 1\n",
      "6039629 0.55500 list       acantu       r     12/17/2020 12:07:33 default@node30                     1 2\n",
      "6039629 0.55500 list       acantu       r     12/17/2020 12:07:33 default@node30                     1 3\n"
     ]
    }
   ],
   "source": [
    "qstat"
   ]
  },
  {
   "cell_type": "code",
   "execution_count": 23,
   "metadata": {},
   "outputs": [
    {
     "name": "stdout",
     "output_type": "stream",
     "text": [
      "\u001b[0m\u001b[38;5;253m1_command.txt\u001b[0m    \u001b[38;5;172mfull_path.sh\u001b[0m          \u001b[38;5;172mpath.sh\u001b[0m      \u001b[38;5;208;1msleep_test_infile.sh\u001b[0m\n",
      "\u001b[38;5;253m2_command.txt\u001b[0m    \u001b[38;5;253mintro.ipynb\u001b[0m           \u001b[38;5;172mrun_list.sh\u001b[0m  \u001b[38;5;208;1msleep_test_job_array.sh\u001b[0m\n",
      "\u001b[38;5;253m3_command.txt\u001b[0m    \u001b[38;5;41mintro.py\u001b[0m              \u001b[38;5;12msge\u001b[0m          \u001b[38;5;208;1msleep_test.sh\u001b[0m\n",
      "\u001b[38;5;178menvironment.yml\u001b[0m  \u001b[38;5;253mlist_of_commands.txt\u001b[0m  \u001b[38;5;12msgo\u001b[0m\n"
     ]
    }
   ],
   "source": [
    "ls"
   ]
  },
  {
   "cell_type": "code",
   "execution_count": 24,
   "metadata": {},
   "outputs": [
    {
     "name": "stdout",
     "output_type": "stream",
     "text": [
      "\u001b[35m\u001b[K1_command.txt\u001b[m\u001b[K\u001b[36m\u001b[K:\u001b[m\u001b[K\"this is the first \u001b[01;31m\u001b[Kcommand\u001b[m\u001b[K\"\n",
      "\u001b[35m\u001b[K2_command.txt\u001b[m\u001b[K\u001b[36m\u001b[K:\u001b[m\u001b[K\"this is the second \u001b[01;31m\u001b[Kcommand\u001b[m\u001b[K\"\n",
      "\u001b[35m\u001b[K3_command.txt\u001b[m\u001b[K\u001b[36m\u001b[K:\u001b[m\u001b[K\"this is the third \u001b[01;31m\u001b[Kcommand\u001b[m\u001b[K\"\n"
     ]
    }
   ],
   "source": [
    "grep command *command.txt"
   ]
  },
  {
   "cell_type": "markdown",
   "metadata": {},
   "source": [
    "finally, it is wise to use full path when possible. Don't assume the enviroment is the same"
   ]
  },
  {
   "cell_type": "code",
   "execution_count": 25,
   "metadata": {},
   "outputs": [
    {
     "name": "stdout",
     "output_type": "stream",
     "text": [
      "#!/usr/bin/bash\n",
      "\n",
      "python -V\n",
      "\n"
     ]
    }
   ],
   "source": [
    "cat path.sh"
   ]
  },
  {
   "cell_type": "code",
   "execution_count": 26,
   "metadata": {},
   "outputs": [
    {
     "name": "stdout",
     "output_type": "stream",
     "text": [
      "Your job 6039630 (\"ppath\") has been submitted\n"
     ]
    }
   ],
   "source": [
    "qsub -cwd -N ppath -e sge -o sgo -q default ./path.sh"
   ]
  },
  {
   "cell_type": "code",
   "execution_count": 28,
   "metadata": {},
   "outputs": [
    {
     "name": "stdout",
     "output_type": "stream",
     "text": [
      "bash: python: command not found\n"
     ]
    }
   ],
   "source": [
    "cat sgo/ppath* sge/ppath*"
   ]
  },
  {
   "cell_type": "code",
   "execution_count": 29,
   "metadata": {},
   "outputs": [
    {
     "name": "stdout",
     "output_type": "stream",
     "text": [
      "#!/usr/bin/bash\n",
      "\n",
      "/home1/acantu/anaconda3/envs/bash/bin/python -V\n",
      "\n"
     ]
    }
   ],
   "source": [
    "cat full_path.sh"
   ]
  },
  {
   "cell_type": "code",
   "execution_count": 30,
   "metadata": {},
   "outputs": [
    {
     "name": "stdout",
     "output_type": "stream",
     "text": [
      "Your job 6039631 (\"fpath\") has been submitted\n"
     ]
    }
   ],
   "source": [
    "qsub -cwd -N fpath -e sge -o sgo -q default ./full_path.sh"
   ]
  },
  {
   "cell_type": "code",
   "execution_count": 34,
   "metadata": {},
   "outputs": [
    {
     "name": "stdout",
     "output_type": "stream",
     "text": [
      "Python 3.8.6\n"
     ]
    }
   ],
   "source": [
    "cat sgo/fpath* sge/fpath*"
   ]
  },
  {
   "cell_type": "code",
   "execution_count": 35,
   "metadata": {},
   "outputs": [
    {
     "name": "stdout",
     "output_type": "stream",
     "text": [
      "~/anaconda3/envs/bash/bin/python\n"
     ]
    }
   ],
   "source": [
    "which -a python"
   ]
  },
  {
   "cell_type": "markdown",
   "metadata": {},
   "source": [
    "# extra tips\n",
    "use -pe make 16 to take a full node for yourself.\n"
   ]
  },
  {
   "cell_type": "code",
   "execution_count": 36,
   "metadata": {},
   "outputs": [
    {
     "name": "stdout",
     "output_type": "stream",
     "text": [
      "\u001b[01;31m\u001b[KHOSTNAME\u001b[m\u001b[K                ARCH         NCPU NSOC NCOR NTHR  LOAD  MEMTOT  MEMUSE  SWAPTO  SWAPUS\n",
      "\u001b[01;31m\u001b[Knode\u001b[m\u001b[K1                   lx-amd64        8    2    8    8  0.00   23.5G  539.4M  100.0G  116.3M\n",
      "\u001b[01;31m\u001b[Knode\u001b[m\u001b[K11                  lx-amd64        8    2    8    8  0.00   13.7G  507.7M  100.0G  114.0M\n",
      "\u001b[01;31m\u001b[Knode\u001b[m\u001b[K12                  lx-amd64       16    2   16   16  0.00  125.9G  890.7M  100.0G  138.0M\n",
      "\u001b[01;31m\u001b[Knode\u001b[m\u001b[K13                  lx-amd64       16    2   16   16  0.00  125.9G    1.1G  100.0G  123.4M\n",
      "\u001b[01;31m\u001b[Knode\u001b[m\u001b[K14                  lx-amd64       16    2   16   16  0.00  125.9G    1.1G  100.0G   97.4M\n",
      "\u001b[01;31m\u001b[Knode\u001b[m\u001b[K15                  lx-amd64       16    2   16   16  0.00  125.9G  941.7M  100.0G  107.7M\n",
      "\u001b[01;31m\u001b[Knode\u001b[m\u001b[K16                  lx-amd64       16    2   16   16  0.00  125.9G  929.2M  100.0G  115.6M\n",
      "\u001b[01;31m\u001b[Knode\u001b[m\u001b[K17                  lx-amd64       16    2   16   16  0.00  125.9G  892.9M  100.0G  146.3M\n",
      "\u001b[01;31m\u001b[Knode\u001b[m\u001b[K18                  lx-amd64       16    2   16   16  0.00  125.9G  899.3M  100.0G  141.2M\n",
      "\u001b[01;31m\u001b[Knode\u001b[m\u001b[K19                  lx-amd64       16    2   16   16  0.00  125.9G    1.1G  100.0G  100.3M\n",
      "\u001b[01;31m\u001b[Knode\u001b[m\u001b[K20                  lx-amd64       16    2   16   16  0.00  125.9G  849.6M  100.0G  142.6M\n",
      "\u001b[01;31m\u001b[Knode\u001b[m\u001b[K21                  lx-amd64       16    2   16   16  0.00  125.9G    1.0G  100.0G  111.8M\n",
      "\u001b[01;31m\u001b[Knode\u001b[m\u001b[K22                  lx-amd64       16    2   16   16  0.00  125.9G  888.3M  100.0G  144.3M\n",
      "\u001b[01;31m\u001b[Knode\u001b[m\u001b[K23                  lx-amd64       16    2   16   16  0.00  125.9G    1.1G  100.0G   98.2M\n",
      "\u001b[01;31m\u001b[Knode\u001b[m\u001b[K24                  lx-amd64       16    2   16   16  0.00  125.9G    1.0G  100.0G  107.3M\n",
      "\u001b[01;31m\u001b[Knode\u001b[m\u001b[K25                  lx-amd64       16    2   16   16  0.00  125.9G    1.3G  100.0G   94.6M\n",
      "\u001b[01;31m\u001b[Knode\u001b[m\u001b[K26                  lx-amd64       16    2   16   16  0.00  125.9G  849.3M  100.0G  145.1M\n",
      "\u001b[01;31m\u001b[Knode\u001b[m\u001b[K27                  lx-amd64       16    2   16   16  0.00  125.9G    1.5G  100.0G   92.5M\n",
      "\u001b[01;31m\u001b[Knode\u001b[m\u001b[K28                  lx-amd64       16    2   16   16  0.00  125.9G    1.3G  100.0G  101.5M\n",
      "\u001b[01;31m\u001b[Knode\u001b[m\u001b[K29                  lx-amd64       16    2   16   16  0.00  125.9G    1.0G  100.0G  113.0M\n",
      "\u001b[01;31m\u001b[Knode\u001b[m\u001b[K30                  lx-amd64       16    2   16   16  0.00  125.9G    1.4G  100.0G   97.4M\n",
      "\u001b[01;31m\u001b[Knode\u001b[m\u001b[K31                  lx-amd64       16    2   16   16  0.00  125.9G    1.3G  100.0G   90.6M\n",
      "\u001b[01;31m\u001b[Knode\u001b[m\u001b[K32                  lx-amd64       16    2   16   16  0.00  125.9G  900.4M  100.0G  142.4M\n",
      "\u001b[01;31m\u001b[Knode\u001b[m\u001b[K33                  lx-amd64       16    2   16   16  0.00  125.9G  836.0M  100.0G  140.7M\n",
      "\u001b[01;31m\u001b[Knode\u001b[m\u001b[K34                  lx-amd64       16    2   16   16  0.00  125.9G  905.6M  100.0G  140.5M\n",
      "\u001b[01;31m\u001b[Knode\u001b[m\u001b[K35                  lx-amd64       16    2   16   16  0.00  125.9G  845.2M  100.0G  140.0M\n",
      "\u001b[01;31m\u001b[Knode\u001b[m\u001b[K36                  lx-amd64       32    2   16   32  0.00  125.9G    1.0G  100.0G  166.0M\n",
      "\u001b[01;31m\u001b[Knode\u001b[m\u001b[K37                  lx-amd64       16    2   16   16  0.00  125.9G  874.5M  100.0G  146.0M\n",
      "\u001b[01;31m\u001b[Knode\u001b[m\u001b[K38                  lx-amd64       16    2   16   16  0.00  125.9G 1013.0M  100.0G  111.6M\n",
      "\u001b[01;31m\u001b[Knode\u001b[m\u001b[K39                  lx-amd64       16    2   16   16  0.00  125.9G    1.1G  100.0G   98.2M\n",
      "\u001b[01;31m\u001b[Knode\u001b[m\u001b[K40                  lx-amd64       16    2   16   16  0.00  125.9G  911.9M  100.0G  147.5M\n",
      "\u001b[01;31m\u001b[Knode\u001b[m\u001b[K41                  lx-amd64       16    2   16   16  0.00  125.9G  896.1M  100.0G  141.2M\n",
      "\u001b[01;31m\u001b[Knode\u001b[m\u001b[K42                  lx-amd64       16    2   16   16  0.00  125.9G    1.4G  100.0G   94.9M\n",
      "\u001b[01;31m\u001b[Knode\u001b[m\u001b[K43                  lx-amd64       16    2   16   16  0.00  125.9G 1002.7M  100.0G  130.3M\n",
      "\u001b[01;31m\u001b[Knode\u001b[m\u001b[K44                  lx-amd64       16    2   16   16  0.00  125.9G    1.2G  100.0G  106.3M\n",
      "\u001b[01;31m\u001b[Knode\u001b[m\u001b[K45                  lx-amd64       16    2   16   16  0.00  125.9G    1.7G  128.0G     0.0\n",
      "\u001b[01;31m\u001b[Knode\u001b[m\u001b[K46                  lx-amd64       16    2   16   16  0.00  125.9G    1.6G  100.0G     0.0\n",
      "\u001b[01;31m\u001b[Knode\u001b[m\u001b[K47                  lx-amd64       16    2   16   16  0.00  125.9G    1.7G  110.0G     0.0\n",
      "\u001b[01;31m\u001b[Knode\u001b[m\u001b[K48                  lx-amd64       16    2   16   16  0.00  125.9G    2.8G  120.0G     0.0\n",
      "\u001b[01;31m\u001b[Knode\u001b[m\u001b[K49                  lx-amd64       16    2   16   16  0.00  125.9G    1.6G  128.0G     0.0\n",
      "\u001b[01;31m\u001b[Knode\u001b[m\u001b[K5                   lx-amd64        8    2    8    8     -   11.7G       -  100.0G       -\n",
      "\u001b[01;31m\u001b[Knode\u001b[m\u001b[K50                  lx-amd64       16    2   16   16  0.00  125.9G    1.6G  119.2G     0.0\n",
      "\u001b[01;31m\u001b[Knode\u001b[m\u001b[K6                   lx-amd64        8    2    8    8  1.00   15.7G  513.7M  100.0G  116.7M\n",
      "\u001b[01;31m\u001b[Knode\u001b[m\u001b[K7                   lx-amd64        8    2    8    8  1.00   15.7G  504.1M  100.0G  123.8M\n",
      "\u001b[01;31m\u001b[Knode\u001b[m\u001b[K8                   lx-amd64        8    2    8    8  0.00   15.7G  507.1M  100.0G  117.8M\n",
      "\u001b[01;31m\u001b[Knode\u001b[m\u001b[K9                   lx-amd64        8    2    8    8  1.00   15.7G  409.4M  100.0G  130.0M\n"
     ]
    }
   ],
   "source": [
    "qhost -F | grep -e HOSTNAME -e node"
   ]
  }
 ],
 "metadata": {
  "jupytext": {
   "formats": "ipynb,py:light"
  },
  "kernelspec": {
   "display_name": "Bash",
   "language": "bash",
   "name": "bash"
  },
  "language_info": {
   "codemirror_mode": "shell",
   "file_extension": ".sh",
   "mimetype": "text/x-sh",
   "name": "bash"
  }
 },
 "nbformat": 4,
 "nbformat_minor": 4
}
